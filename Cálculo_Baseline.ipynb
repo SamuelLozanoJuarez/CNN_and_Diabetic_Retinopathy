{
 "cells": [
  {
   "cell_type": "code",
   "execution_count": 42,
   "id": "40ee5e7b",
   "metadata": {},
   "outputs": [],
   "source": [
    "#importamos los paquetes necesarios para la ejecución del código\n",
    "import pandas as pd\n",
    "import numpy as np\n",
    "import os\n",
    "import seaborn as sns\n",
    "import sklearn.metrics\n",
    "from sklearn.metrics import accuracy_score,confusion_matrix,balanced_accuracy_score,f1_score,roc_auc_score,cohen_kappa_score"
   ]
  },
  {
   "cell_type": "markdown",
   "id": "51945289",
   "metadata": {},
   "source": [
    "----------------------------------\n",
    "DEPURACIÓN DE LOS DATOS\n",
    "------------------------------------"
   ]
  },
  {
   "cell_type": "code",
   "execution_count": 43,
   "id": "6767373b",
   "metadata": {},
   "outputs": [],
   "source": [
    "#cargamos el excel al completo en la variable df\n",
    "df = pd.read_excel('Datos/Calidad_Diagnóstico_Fotos.xlsx', sheet_name = 'Resultados', skiprows = 1)"
   ]
  },
  {
   "cell_type": "code",
   "execution_count": 44,
   "id": "88f9f2e8",
   "metadata": {
    "scrolled": false
   },
   "outputs": [],
   "source": [
    "#eliminamos las columnas de la 5 a la 8 y de la 10 a la 23 porque no aportan información relevante\n",
    "df.drop(df.columns[10:24], axis = 1, inplace = True)\n",
    "df.drop(df.columns[5:9], axis = 1, inplace = True)\n",
    "NHC_validos = set(df['NHC'])"
   ]
  },
  {
   "cell_type": "code",
   "execution_count": 45,
   "id": "40528481",
   "metadata": {
    "scrolled": true
   },
   "outputs": [],
   "source": [
    "#obtenemos los NHC de todos los pacientes con algún valor missing en alguna columna\n",
    "NA_values = set(df[df.isna().any(axis = 1)]['NHC'])\n",
    "NHC_validos = NHC_validos - NA_values"
   ]
  },
  {
   "cell_type": "code",
   "execution_count": 46,
   "id": "fec29de9",
   "metadata": {
    "scrolled": false
   },
   "outputs": [],
   "source": [
    "#eliminamos todos los pacientes cuyo NHC esté en la lista NA_values\n",
    "df.drop(df[df['NHC'].isin(NA_values) == True].index, inplace = True)"
   ]
  },
  {
   "cell_type": "code",
   "execution_count": 47,
   "id": "bb96b16d",
   "metadata": {},
   "outputs": [],
   "source": [
    "#a continuación obtenemos los NHC de todos aquellos pacientes que no posean las 12 filas necesarias\n",
    "no_12filas = set(filter(lambda x: list(df['NHC']).count(x) != 12, NHC_validos))\n",
    "NHC_validos = NHC_validos - no_12filas"
   ]
  },
  {
   "cell_type": "code",
   "execution_count": 48,
   "id": "f82db32b",
   "metadata": {},
   "outputs": [],
   "source": [
    "#y los eliminamos del dataframe \n",
    "df.drop(df[df['NHC'].isin(no_12filas) == True].index, inplace = True)"
   ]
  },
  {
   "cell_type": "code",
   "execution_count": 49,
   "id": "494390f3",
   "metadata": {},
   "outputs": [],
   "source": [
    "#por último vamos a comprobar si esas 12 filas están bien distribuidas (4 filas por aparato, 6 para cada ojo, y 6 para cada retinólogo)\n",
    "no_distribuidos = set()\n",
    "for i in NHC_validos:\n",
    "    if list(df[df['NHC'] == i]['1 OCT 2 IPHONE 3 SAMSUNG']).count(1) != 4 or list(df[df['NHC'] == i]['1 OCT 2 IPHONE 3 SAMSUNG']).count(2) != 4 or list(df[df['NHC'] == i]['1 OCT 2 IPHONE 3 SAMSUNG']).count(3) != 4:\n",
    "        no_distribuidos.add(i)\n",
    "    if list(df[df['NHC'] == i]['lateralidad 1 Dch 2 izq']).count(1) != 6 or list(df[df['NHC'] == i]['lateralidad 1 Dch 2 izq']).count(2) != 6:\n",
    "        no_distribuidos.add(i)\n",
    "    if list(df[df['NHC'] == i]['Retinlogo 1 y 2']).count(1) != 6 or list(df[df['NHC'] == i]['Retinlogo 1 y 2']).count(2) != 6:\n",
    "        no_distribuidos.add(i)\n",
    "\n",
    "NHC_validos = NHC_validos - no_distribuidos"
   ]
  },
  {
   "cell_type": "code",
   "execution_count": 50,
   "id": "4fadfdf1",
   "metadata": {},
   "outputs": [],
   "source": [
    "#y eliminamos del dataframe los pacientes con filas mal distribuidas\n",
    "df.drop(df[df['NHC'].isin(no_distribuidos) == True].index, inplace = True)"
   ]
  },
  {
   "cell_type": "code",
   "execution_count": 51,
   "id": "7f2f04eb",
   "metadata": {},
   "outputs": [],
   "source": [
    "#vamos a comprobar qué filas de cada dataset tienen sus 6 imágenes correspondientes\n",
    "fotos_OCT = [i.upper() for i in os.listdir('Datos/Raw Data/FOTOS OCT')]\n",
    "fotos_iphone = [i.upper() for i in os.listdir('Datos/Raw Data/FOTOS iPhone')]\n",
    "fotos_samsung = [i.upper() for i in os.listdir('Datos/Raw Data/FOTOS Samsung')]\n",
    "\n",
    "no_foto = set()\n",
    "\n",
    "for i in NHC_validos:\n",
    "    oct_der = str(int(i)).upper() + \"TD.JPG\"\n",
    "    oct_izq = str(int(i)).upper() + \"TI.JPG\"\n",
    "    iphone_der = str(int(i)).upper() + \"ED.PNG\"\n",
    "    iphone_izq = str(int(i)).upper() + \"EI.PNG\"\n",
    "    samsung_der = str(int(i)).upper() + \"GD.PNG\"\n",
    "    samsung_izq = str(int(i)).upper() + \"GI.PNG\"\n",
    "    \n",
    "    if oct_der not in fotos_OCT or oct_izq not in fotos_OCT or iphone_der not in fotos_iphone or iphone_izq not in fotos_iphone or samsung_der not in fotos_samsung or samsung_izq not in fotos_samsung:\n",
    "        no_foto.add(i)\n",
    "\n",
    "#eliminamos los pacientes que no tienen las 6 imágenes\n",
    "NHC_validos = NHC_validos - no_foto"
   ]
  },
  {
   "cell_type": "code",
   "execution_count": 52,
   "id": "c0db4eb0",
   "metadata": {},
   "outputs": [],
   "source": [
    "#por último eliminamos aquellos pacientes que no poseen las 6 fotos\n",
    "df.drop(df[df['NHC'].isin(no_foto) == True].index, inplace = True)"
   ]
  },
  {
   "cell_type": "code",
   "execution_count": 53,
   "id": "d8011a4d",
   "metadata": {},
   "outputs": [],
   "source": [
    "#creamos 3 sub-dataframe,dependiendo del tipo de instrumento empleado para tomar las imágenes \n",
    "retin = df[df['1 OCT 2 IPHONE 3 SAMSUNG'] == 1]\n",
    "iphone = df[df['1 OCT 2 IPHONE 3 SAMSUNG'] == 2]\n",
    "samsung = df[df['1 OCT 2 IPHONE 3 SAMSUNG'] == 3]"
   ]
  },
  {
   "cell_type": "code",
   "execution_count": 54,
   "id": "bb3ae70f",
   "metadata": {},
   "outputs": [],
   "source": [
    "#para finalizar esta primera parte vamos a definir la función factorizar que convierte los campos de Grado y Clasificación de numérico a tipo String\n",
    "def factorizar(df, columnas = [\"GRADO RETINOPATÍA DIABÉTICA\", \"Clasificación EMD. 1 NO . 2 NO CENTRAL, 3 CENTRAL\"]):\n",
    "    '''\n",
    "    Transforma las columnas del Grado y Clasificación EMD de tipo numérico a tipo String, ya que nuestro problema ha de ser un problema de etiquetado multiclases, no un problema numérico.\n",
    "    \n",
    "    Parámetros\n",
    "    ----------------------------------------------------------------------\n",
    "    df: pandas.DataFrame sobre el cual se van a efectuar las modificaciones de las columnas.\n",
    "    columnas: una lista que contiene los nombres de las columnas que se desean modificar. Por defecto es una lista que contiene el nombre de las columnas correspondientes al Grado y la Clasificación EMD.\n",
    "    \n",
    "    Return\n",
    "    ----------------------------------------------------------------------\n",
    "    df: pandas.DataFrame idéntico al introducido como parámetro pero con las columnas ya modificadas.\n",
    "    '''\n",
    "    i = 0\n",
    "    while i<len(columnas):\n",
    "        df[columnas[i]] = df[columnas[i]].map({1.0:'uno',\n",
    "                                               2.0:'dos',\n",
    "                                               3.0:'tres',\n",
    "                                               4.0:'cuatro',\n",
    "                                               5.0:'cinco',\n",
    "                                               'uno':'uno',\n",
    "                                               'dos':'dos',\n",
    "                                               'tres':'tres',\n",
    "                                               'cuatro':'cuatro',\n",
    "                                               'cinco':'cinco'})\n",
    "        i += 1\n",
    "    \n",
    "    return df"
   ]
  },
  {
   "cell_type": "markdown",
   "id": "5536420e",
   "metadata": {},
   "source": [
    "Como los valores de grado de retinopatía del OCT son los que vamos a emplear como salidas en el proceso de entrenamiento, necesitamos unificar sus valores. Por ello en los casos en que encontramos discrepancias vamos a sustituir el diagnóstico más favorable por el menos favorable (siempre es preferente sobrediagnosticar un caso negativo que no detectar uno positivo)."
   ]
  },
  {
   "cell_type": "code",
   "execution_count": 55,
   "id": "bb06b0be",
   "metadata": {},
   "outputs": [],
   "source": [
    "#declaro una función que sustituye el mejor por el peor diagnóstico en aquellos discrepantes\n",
    "def reemplaza_diagnostico(df):\n",
    "    '''\n",
    "    Comprueba qué imágenes poseen un diagnóstico discrepante, y en aquellas donde se cumpla esta condición reemplaza el diagnóstico más leve (más bajo numéricamente) por aquel de mayor gravedad (más alto numéricamente).\n",
    "    \n",
    "    Parámetros\n",
    "    ----------------------------------------------------------------------\n",
    "    df: pandas.DataFrame correspondiente a la tabla en la que se encuentra la información a cotejar.\n",
    "    \n",
    "    Return\n",
    "    ----------------------------------------------------------------------\n",
    "    df: pandas.DataFrame con los valores de los diagnósticos ya actualizados (se devuelve el DataFrame factorizado, convirtiendo el Grado y Clasificación nuevamente a tipo String)\n",
    "    '''\n",
    "    df.sort_values(['NHC','lateralidad 1 Dch 2 izq'], inplace = True)\n",
    "    k = 0\n",
    "    while k<(len(df)-1):\n",
    "        if df.iloc[k,5] != df.iloc[k+1,5]:\n",
    "            if df.iloc[k,5] > df.iloc[k+1,5]:\n",
    "                df.iloc[k+1,5] = df.iloc[k,5]\n",
    "            else:\n",
    "                df.iloc[k,5] = df.iloc[k+1,5]\n",
    "        if df.iloc[k,6] != df.iloc[k+1][6]:\n",
    "            if df.iloc[k,6] > df.iloc[k+1,6]:\n",
    "                df.iloc[k+1,6] = df.iloc[k,6]\n",
    "            else:\n",
    "                df.iloc[k,6] = df.iloc[k+1,6]\n",
    "        k+=2\n",
    "    return factorizar(df)"
   ]
  },
  {
   "cell_type": "code",
   "execution_count": 56,
   "id": "47f76155",
   "metadata": {
    "scrolled": true
   },
   "outputs": [
    {
     "name": "stderr",
     "output_type": "stream",
     "text": [
      "C:\\Users\\samue\\AppData\\Local\\Temp\\ipykernel_7536\\2019173532.py:14: SettingWithCopyWarning: \n",
      "A value is trying to be set on a copy of a slice from a DataFrame\n",
      "\n",
      "See the caveats in the documentation: https://pandas.pydata.org/pandas-docs/stable/user_guide/indexing.html#returning-a-view-versus-a-copy\n",
      "  df.sort_values(['NHC','lateralidad 1 Dch 2 izq'], inplace = True)\n",
      "C:\\Users\\samue\\AppData\\Local\\Temp\\ipykernel_7536\\3291959763.py:17: SettingWithCopyWarning: \n",
      "A value is trying to be set on a copy of a slice from a DataFrame.\n",
      "Try using .loc[row_indexer,col_indexer] = value instead\n",
      "\n",
      "See the caveats in the documentation: https://pandas.pydata.org/pandas-docs/stable/user_guide/indexing.html#returning-a-view-versus-a-copy\n",
      "  df[columnas[i]] = df[columnas[i]].map({1.0:'uno',\n",
      "C:\\Users\\samue\\AppData\\Local\\Temp\\ipykernel_7536\\3291959763.py:17: SettingWithCopyWarning: \n",
      "A value is trying to be set on a copy of a slice from a DataFrame.\n",
      "Try using .loc[row_indexer,col_indexer] = value instead\n",
      "\n",
      "See the caveats in the documentation: https://pandas.pydata.org/pandas-docs/stable/user_guide/indexing.html#returning-a-view-versus-a-copy\n",
      "  df[columnas[i]] = df[columnas[i]].map({1.0:'uno',\n",
      "C:\\Users\\samue\\AppData\\Local\\Temp\\ipykernel_7536\\2019173532.py:14: SettingWithCopyWarning: \n",
      "A value is trying to be set on a copy of a slice from a DataFrame\n",
      "\n",
      "See the caveats in the documentation: https://pandas.pydata.org/pandas-docs/stable/user_guide/indexing.html#returning-a-view-versus-a-copy\n",
      "  df.sort_values(['NHC','lateralidad 1 Dch 2 izq'], inplace = True)\n",
      "C:\\Users\\samue\\AppData\\Local\\Temp\\ipykernel_7536\\3291959763.py:17: SettingWithCopyWarning: \n",
      "A value is trying to be set on a copy of a slice from a DataFrame.\n",
      "Try using .loc[row_indexer,col_indexer] = value instead\n",
      "\n",
      "See the caveats in the documentation: https://pandas.pydata.org/pandas-docs/stable/user_guide/indexing.html#returning-a-view-versus-a-copy\n",
      "  df[columnas[i]] = df[columnas[i]].map({1.0:'uno',\n",
      "C:\\Users\\samue\\AppData\\Local\\Temp\\ipykernel_7536\\3291959763.py:17: SettingWithCopyWarning: \n",
      "A value is trying to be set on a copy of a slice from a DataFrame.\n",
      "Try using .loc[row_indexer,col_indexer] = value instead\n",
      "\n",
      "See the caveats in the documentation: https://pandas.pydata.org/pandas-docs/stable/user_guide/indexing.html#returning-a-view-versus-a-copy\n",
      "  df[columnas[i]] = df[columnas[i]].map({1.0:'uno',\n",
      "C:\\Users\\samue\\AppData\\Local\\Temp\\ipykernel_7536\\2019173532.py:14: SettingWithCopyWarning: \n",
      "A value is trying to be set on a copy of a slice from a DataFrame\n",
      "\n",
      "See the caveats in the documentation: https://pandas.pydata.org/pandas-docs/stable/user_guide/indexing.html#returning-a-view-versus-a-copy\n",
      "  df.sort_values(['NHC','lateralidad 1 Dch 2 izq'], inplace = True)\n",
      "C:\\Users\\samue\\AppData\\Local\\Temp\\ipykernel_7536\\3291959763.py:17: SettingWithCopyWarning: \n",
      "A value is trying to be set on a copy of a slice from a DataFrame.\n",
      "Try using .loc[row_indexer,col_indexer] = value instead\n",
      "\n",
      "See the caveats in the documentation: https://pandas.pydata.org/pandas-docs/stable/user_guide/indexing.html#returning-a-view-versus-a-copy\n",
      "  df[columnas[i]] = df[columnas[i]].map({1.0:'uno',\n",
      "C:\\Users\\samue\\AppData\\Local\\Temp\\ipykernel_7536\\3291959763.py:17: SettingWithCopyWarning: \n",
      "A value is trying to be set on a copy of a slice from a DataFrame.\n",
      "Try using .loc[row_indexer,col_indexer] = value instead\n",
      "\n",
      "See the caveats in the documentation: https://pandas.pydata.org/pandas-docs/stable/user_guide/indexing.html#returning-a-view-versus-a-copy\n",
      "  df[columnas[i]] = df[columnas[i]].map({1.0:'uno',\n"
     ]
    }
   ],
   "source": [
    "#homogeneizamos los diagnósticos de los 3 sub-dataframes creados anteriormente\n",
    "retin = reemplaza_diagnostico(retin)\n",
    "samsung = reemplaza_diagnostico(samsung)\n",
    "iphone = reemplaza_diagnostico(iphone)"
   ]
  },
  {
   "cell_type": "markdown",
   "id": "fec021fa",
   "metadata": {},
   "source": [
    "----------------------------\n",
    "OBTENCIÓN DE MÉTRICAS\n",
    "-----------------------------"
   ]
  },
  {
   "cell_type": "markdown",
   "id": "9bd427fe",
   "metadata": {},
   "source": [
    "Una vez depurados los datos y homogeneizados los diagnósticos de los clínicos, vamos a obtener distintas métricas que nos permitirán evaluar el grado de acierto de los retinólogos sobre el conjunto de imágenes de iPhone y Samsung. Para ello se considerará como 'gold standard' el diagnóstico realizado por los retinólogos sobre las imágenes de OCT.\n",
    "\n",
    "Para poder comparar los diagnósticos sobre las imágenes de OCT con los diagnósticos con imágenes de iPhone y Samsung lo primero que debemos hacer es ordenar de manera idéntica los 3 sub-datasets. De esta forma la correspondencia entre filas de los sub-datasets será la que nos permita hacer la comparación."
   ]
  },
  {
   "cell_type": "code",
   "execution_count": 57,
   "id": "3af08118",
   "metadata": {
    "scrolled": true
   },
   "outputs": [
    {
     "name": "stderr",
     "output_type": "stream",
     "text": [
      "C:\\Users\\samue\\AppData\\Local\\Temp\\ipykernel_7536\\1903901588.py:2: SettingWithCopyWarning: \n",
      "A value is trying to be set on a copy of a slice from a DataFrame\n",
      "\n",
      "See the caveats in the documentation: https://pandas.pydata.org/pandas-docs/stable/user_guide/indexing.html#returning-a-view-versus-a-copy\n",
      "  retin.sort_values(['NHC','lateralidad 1 Dch 2 izq'], inplace = True)\n",
      "C:\\Users\\samue\\AppData\\Local\\Temp\\ipykernel_7536\\1903901588.py:3: SettingWithCopyWarning: \n",
      "A value is trying to be set on a copy of a slice from a DataFrame\n",
      "\n",
      "See the caveats in the documentation: https://pandas.pydata.org/pandas-docs/stable/user_guide/indexing.html#returning-a-view-versus-a-copy\n",
      "  samsung.sort_values(['NHC','lateralidad 1 Dch 2 izq'], inplace = True)\n",
      "C:\\Users\\samue\\AppData\\Local\\Temp\\ipykernel_7536\\1903901588.py:4: SettingWithCopyWarning: \n",
      "A value is trying to be set on a copy of a slice from a DataFrame\n",
      "\n",
      "See the caveats in the documentation: https://pandas.pydata.org/pandas-docs/stable/user_guide/indexing.html#returning-a-view-versus-a-copy\n",
      "  iphone.sort_values(['NHC','lateralidad 1 Dch 2 izq'], inplace = True)\n"
     ]
    }
   ],
   "source": [
    "#ordenamos los datasets en función del número de historia clínica y la lateralidad del ojo (derecho o izquierdo)\n",
    "retin.sort_values(['NHC','lateralidad 1 Dch 2 izq'], inplace = True)\n",
    "samsung.sort_values(['NHC','lateralidad 1 Dch 2 izq'], inplace = True)\n",
    "iphone.sort_values(['NHC','lateralidad 1 Dch 2 izq'], inplace = True)"
   ]
  },
  {
   "cell_type": "markdown",
   "id": "d09990d6",
   "metadata": {},
   "source": [
    "Ahora sabemos que los dataframes _retin, iphone_ y _samsung_ poseen los mismos números de historia clínica y en el mismo orden, que la lateralidad de los ojos sigue el siguiente patrón: 1,1,2,2,1,1,2,2,1,1,2,2... y que el retinólogo va alternando entre filas de la siguiente manera: 2,1,2,1,2,1,2,1,... Todas estas conclusiones las sabemos porque hemos ordenado anteriormente los 3 datasets según la columna de NHC y de lateralidad, y hemos cribado todas las filas hasta quedarnos exclusivamente con aquellas comunes a los 3 dataframes.\n",
    "\n",
    "Es por ello que sabemos que la fila X de la columna _GRADO RETINOPATÍA DIABÉTICA_ se corresponde con el mismo número de historia clínica en las 3 tablas."
   ]
  },
  {
   "cell_type": "code",
   "execution_count": 58,
   "id": "480c88d9",
   "metadata": {},
   "outputs": [],
   "source": [
    "#vamos a igualar los índices de todas las tablas, para poder facilitar la comparación entre ellas más adelante\n",
    "retin.reset_index(drop = True, inplace = True)\n",
    "samsung.reset_index(drop = True, inplace = True)\n",
    "iphone.reset_index(drop = True, inplace = True)"
   ]
  },
  {
   "cell_type": "code",
   "execution_count": 59,
   "id": "a42d4356",
   "metadata": {},
   "outputs": [],
   "source": [
    "#almacenamos en la variable grado_golds_1 los resultados del diagnóstico del grado usando el gold standard (OCT)\n",
    "grado_golds = retin.iloc[:,5:6]"
   ]
  },
  {
   "cell_type": "code",
   "execution_count": 60,
   "id": "7dadee18",
   "metadata": {},
   "outputs": [],
   "source": [
    "#por último cargamos los diagnósticos del grado de retinopatía para fotos con iPhone y con Samsung\n",
    "grado_iphone = iphone.iloc[:, 5:6]\n",
    "grado_samsung = samsung.iloc[:,5:6]"
   ]
  },
  {
   "cell_type": "markdown",
   "id": "cf2989c6",
   "metadata": {},
   "source": [
    "En el proceso de evaluación se van a obtener las siguientes métricas:\n",
    " - accuracy\n",
    " - balanced accuracy\n",
    " - f-score\n",
    " - AUC de la curva ROC\n",
    " - Quadratic Weighted Kappa"
   ]
  },
  {
   "cell_type": "markdown",
   "id": "41ac638b",
   "metadata": {},
   "source": [
    "--------------------------\n",
    "ACCURACY\n",
    "---------------------------"
   ]
  },
  {
   "cell_type": "markdown",
   "id": "4ee2e194",
   "metadata": {},
   "source": [
    "Además del valor de accuracy, se va a obtener la matriz de confusión para el diagnóstico con imágenes de iPhone y con imágenes de Samsung. Se empleará el paquete seaborn para lograr una mejor representación de la matriz."
   ]
  },
  {
   "cell_type": "code",
   "execution_count": 61,
   "id": "fef416e9",
   "metadata": {},
   "outputs": [
    {
     "name": "stdout",
     "output_type": "stream",
     "text": [
      "Acierto en el diagnóstico del grado con fotos de iPhone: 0.5508474576271186\n",
      "\n",
      "AxesSubplot(0.125,0.125;0.775x0.755)\n"
     ]
    },
    {
     "data": {
      "image/png": "[encoded data removed]",
      "text/plain": [
       "<Figure size 432x288 with 1 Axes>"
      ]
     },
     "metadata": {
      "needs_background": "light"
     },
     "output_type": "display_data"
    }
   ],
   "source": [
    "matriz_grado_iphone = confusion_matrix(y_true = grado_golds,y_pred = grado_iphone)\n",
    "\n",
    "print(f\"Acierto en el diagnóstico del grado con fotos de iPhone: {accuracy_score(grado_golds, grado_iphone)}\\n\")\n",
    "\n",
    "plot = sns.heatmap(matriz_grado_iphone, annot = True, cmap = 'Reds', cbar = False)\n",
    "plot.set_title('GRADO REAL vs. IPHONE\\n')\n",
    "plot.set_xlabel('\\nGrado Iphone')\n",
    "plot.set_ylabel('Grado real\\n')\n",
    "plot.xaxis.set_ticklabels(['Grado1','Grado2','Grado3','Grado4','Grado5'])\n",
    "plot.yaxis.set_ticklabels(['Grado1','Grado2','Grado3','Grado4','Grado5'])\n",
    "print(plot)"
   ]
  },
  {
   "cell_type": "code",
   "execution_count": 62,
   "id": "8e6edd34",
   "metadata": {},
   "outputs": [
    {
     "name": "stdout",
     "output_type": "stream",
     "text": [
      "Acierto en el diagnóstico del grado con fotos de Samsung: 0.5508474576271186 \n",
      "\n",
      "AxesSubplot(0.125,0.125;0.775x0.755)\n"
     ]
    },
    {
     "data": {
      "image/png": "[encoded data removed]",
      "text/plain": [
       "<Figure size 432x288 with 1 Axes>"
      ]
     },
     "metadata": {
      "needs_background": "light"
     },
     "output_type": "display_data"
    }
   ],
   "source": [
    "matriz_grado_samsung = confusion_matrix(grado_golds,grado_samsung)\n",
    "\n",
    "print(f\"Acierto en el diagnóstico del grado con fotos de Samsung: {accuracy_score(grado_golds, grado_samsung)} \\n\")\n",
    "\n",
    "plot = sns.heatmap(matriz_grado_samsung, annot = True, cmap = 'Reds', cbar = False)\n",
    "plot.set_title('GRADO REAL vs. SAMSUNG\\n')\n",
    "plot.set_xlabel('\\nGrado Samsung')\n",
    "plot.set_ylabel('Grado real\\n')\n",
    "plot.xaxis.set_ticklabels(['Grado1','Grado2','Grado3','Grado4','Grado5'])\n",
    "plot.yaxis.set_ticklabels(['Grado1','Grado2','Grado3','Grado4','Grado5'])\n",
    "print(plot)"
   ]
  },
  {
   "cell_type": "markdown",
   "id": "53c5ee0a",
   "metadata": {},
   "source": [
    "---------------------------------\n",
    "BALANCED ACCURACY\n",
    "----------------------------------"
   ]
  },
  {
   "cell_type": "code",
   "execution_count": 40,
   "id": "c743048c",
   "metadata": {},
   "outputs": [
    {
     "name": "stdout",
     "output_type": "stream",
     "text": [
      "Valor de balanced accuracy para el grado con iPhone: 0.4564190981432361\n"
     ]
    }
   ],
   "source": [
    "bal_acc_gr_iphone = balanced_accuracy_score(y_true = grado_golds, y_pred = grado_iphone)\n",
    "print(f\"Valor de balanced accuracy para el grado con iPhone: {bal_acc_gr_iphone}\")"
   ]
  },
  {
   "cell_type": "code",
   "execution_count": 41,
   "id": "20d6ef33",
   "metadata": {},
   "outputs": [
    {
     "name": "stdout",
     "output_type": "stream",
     "text": [
      "Valor de balanced accuracy para el grado con Samsung: 0.5033952254641909\n"
     ]
    }
   ],
   "source": [
    "bal_acc_gr_samsung = balanced_accuracy_score(y_true = grado_golds, y_pred = grado_samsung)\n",
    "print(f\"Valor de balanced accuracy para el grado con Samsung: {bal_acc_gr_samsung}\")"
   ]
  },
  {
   "cell_type": "markdown",
   "id": "6b7807a6",
   "metadata": {},
   "source": [
    "-------------------\n",
    "F-SCORE\n",
    "--------------------"
   ]
  },
  {
   "cell_type": "markdown",
   "id": "bc05c038",
   "metadata": {},
   "source": [
    "Es importante establecer el parámetro 'average' a 'weighted' para que se tengan en cuenta los pesos de las clases, es decir, la representación de imágenes de cada clase."
   ]
  },
  {
   "cell_type": "code",
   "execution_count": 63,
   "id": "6b53e539",
   "metadata": {},
   "outputs": [
    {
     "name": "stdout",
     "output_type": "stream",
     "text": [
      "F-score para grado con iPhone: 0.5610600877908062\n"
     ]
    }
   ],
   "source": [
    "f1_gr_iphone = f1_score(y_true = grado_golds, y_pred = grado_iphone, average = 'weighted')\n",
    "print(f\"F-score para grado con iPhone: {f1_gr_iphone}\")"
   ]
  },
  {
   "cell_type": "code",
   "execution_count": 64,
   "id": "8e2d633c",
   "metadata": {},
   "outputs": [
    {
     "name": "stdout",
     "output_type": "stream",
     "text": [
      "F-score para grado con Samsung: 0.5370001211029848\n"
     ]
    }
   ],
   "source": [
    "f1_gr_samsung = f1_score(y_true = grado_golds, y_pred = grado_samsung, average = 'weighted')\n",
    "print(f\"F-score para grado con Samsung: {f1_gr_samsung}\")"
   ]
  },
  {
   "cell_type": "markdown",
   "id": "29c8d280",
   "metadata": {},
   "source": [
    "-------------------\n",
    "AUC-ROC\n",
    "-------------------"
   ]
  },
  {
   "cell_type": "markdown",
   "id": "18d2177c",
   "metadata": {},
   "source": [
    "REVISAR A PARTIR DE AQUÍ. YO CREO QUE LA CONVERSIÓN A FORMA MATRICIAL NO ES NECESARIA"
   ]
  },
  {
   "cell_type": "markdown",
   "id": "7461a455",
   "metadata": {},
   "source": [
    "Para obtener este valor, debemos proporcionar al método no solo un array de y_pred y otro de y_true, sino que debemos proporcionar una matriz de probabilidades de predicción, para que pueda dibujar la curva y obtener el correspondiente área bajo ella. En este caso no poseemos una matriz de probabilidades, por lo que la construiremos considerando un 100% de probabilidad de pertenencia a la clase predicha por el retinólogo sobre OCT y un 0% para el resto de clases."
   ]
  },
  {
   "cell_type": "code",
   "execution_count": 68,
   "id": "6dbba7bc",
   "metadata": {},
   "outputs": [],
   "source": [
    "#primero obtenemos la matriz de probabilidades para cada clase, que consideraremos como gold standard. Es importante realizar la conversión entre tipo String y tipo numérico para la posterior computación\n",
    "gr_golds_matrix = []\n",
    "for i in grado_golds.values:\n",
    "    if i[0] == 'uno':\n",
    "        gr_golds_matrix.append([1.0,0,0,0,0])\n",
    "    elif i[0] == 'dos':\n",
    "        gr_golds_matrix.append([0,1.0,0,0,0])\n",
    "    elif i[0] == 'tres':\n",
    "        gr_golds_matrix.append([0,0,1.0,0,0])\n",
    "    elif i[0] == 'cuatro':\n",
    "        gr_golds_matrix.append([0,0,0,1.0,0])\n",
    "    elif i[0] == 'cinco':\n",
    "        gr_golds_matrix.append([0,0,0,0,1.0])\n",
    "gr_golds_matrix = np.array(gr_golds_matrix)"
   ]
  },
  {
   "cell_type": "code",
   "execution_count": 71,
   "id": "81cafd25",
   "metadata": {},
   "outputs": [],
   "source": [
    "#realizamos el mismo proceso para la matriz de predicciones con imágenes de iPhone\n",
    "gr_iphone_matrix = []\n",
    "for i in grado_iphone.values:\n",
    "    if i[0] == 'uno':\n",
    "        gr_iphone_matrix.append([1.0,0,0,0,0])\n",
    "    elif i[0] == 'dos':\n",
    "        gr_iphone_matrix.append([0,1.0,0,0,0])\n",
    "    elif i[0] == 'tres':\n",
    "        gr_iphone_matrix.append([0,0,1.0,0,0])\n",
    "    elif i[0] == 'cuatro':\n",
    "        gr_iphone_matrix.append([0,0,0,1.0,0])\n",
    "    elif i[0] == 'cinco':\n",
    "        gr_iphone_matrix.append([0,0,0,0,1.0])\n",
    "gr_iphone_matrix = np.array(gr_iphone_matrix)"
   ]
  },
  {
   "cell_type": "code",
   "execution_count": 72,
   "id": "bcdb8ad2",
   "metadata": {
    "scrolled": true
   },
   "outputs": [],
   "source": [
    "#y para las predicciones con imágenes de Samsung\n",
    "gr_samsung_matrix = []\n",
    "for i in grado_samsung.values:\n",
    "    if i[0] == 'uno':\n",
    "        gr_samsung_matrix.append([1.0,0,0,0,0])\n",
    "    elif i[0] == 'dos':\n",
    "        gr_samsung_matrix.append([0,1.0,0,0,0])\n",
    "    elif i[0] == 'tres':\n",
    "        gr_samsung_matrix.append([0,0,1.0,0,0])\n",
    "    elif i[0] == 'cuatro':\n",
    "        gr_samsung_matrix.append([0,0,0,1.0,0])\n",
    "    elif i[0] == 'cinco':\n",
    "        gr_samsung_matrix.append([0,0,0,0,1.0])\n",
    "gr_samsung_matrix = np.array(gr_samsung_matrix)"
   ]
  },
  {
   "cell_type": "markdown",
   "id": "bec797d9",
   "metadata": {},
   "source": [
    "Una vez generadas las matrices correspondientes ya podemos calcular el valor AUC para la curva ROC correspondiente a cada predicción. Antes debemos modificar grado_golds para que tomen forma de lista de valores únicos."
   ]
  },
  {
   "cell_type": "code",
   "execution_count": 76,
   "id": "aca41a32",
   "metadata": {},
   "outputs": [],
   "source": [
    "grado_golds = [i[0] for i in grado_golds.values]"
   ]
  },
  {
   "cell_type": "code",
   "execution_count": 78,
   "id": "68375ce3",
   "metadata": {},
   "outputs": [
    {
     "ename": "ValueError",
     "evalue": "could not convert string to float: 'tres'",
     "output_type": "error",
     "traceback": [
      "\u001b[1;31m---------------------------------------------------------------------------\u001b[0m",
      "\u001b[1;31mValueError\u001b[0m                                Traceback (most recent call last)",
      "Input \u001b[1;32mIn [78]\u001b[0m, in \u001b[0;36m<cell line: 1>\u001b[1;34m()\u001b[0m\n\u001b[1;32m----> 1\u001b[0m auc_gr_iphone \u001b[38;5;241m=\u001b[39m \u001b[43mroc_auc_score\u001b[49m\u001b[43m(\u001b[49m\u001b[43my_true\u001b[49m\u001b[43m \u001b[49m\u001b[38;5;241;43m=\u001b[39;49m\u001b[43m \u001b[49m\u001b[38;5;28;43mlist\u001b[39;49m\u001b[43m(\u001b[49m\u001b[43mpd\u001b[49m\u001b[38;5;241;43m.\u001b[39;49m\u001b[43mSeries\u001b[49m\u001b[43m(\u001b[49m\u001b[43mgrado_golds\u001b[49m\u001b[43m)\u001b[49m\u001b[38;5;241;43m.\u001b[39;49m\u001b[43mmap\u001b[49m\u001b[43m(\u001b[49m\u001b[43m{\u001b[49m\n\u001b[0;32m      2\u001b[0m \u001b[43m    \u001b[49m\u001b[38;5;124;43m'\u001b[39;49m\u001b[38;5;124;43muno\u001b[39;49m\u001b[38;5;124;43m'\u001b[39;49m\u001b[43m:\u001b[49m\u001b[38;5;241;43m1\u001b[39;49m\u001b[43m,\u001b[49m\n\u001b[0;32m      3\u001b[0m \u001b[43m    \u001b[49m\u001b[38;5;124;43m'\u001b[39;49m\u001b[38;5;124;43mdos\u001b[39;49m\u001b[38;5;124;43m'\u001b[39;49m\u001b[43m:\u001b[49m\u001b[38;5;241;43m2\u001b[39;49m\u001b[43m,\u001b[49m\n\u001b[0;32m      4\u001b[0m \u001b[43m    \u001b[49m\u001b[38;5;124;43m'\u001b[39;49m\u001b[38;5;124;43mtres\u001b[39;49m\u001b[38;5;124;43m'\u001b[39;49m\u001b[43m:\u001b[49m\u001b[38;5;241;43m3\u001b[39;49m\u001b[43m,\u001b[49m\n\u001b[0;32m      5\u001b[0m \u001b[43m    \u001b[49m\u001b[38;5;124;43m'\u001b[39;49m\u001b[38;5;124;43mcuatro\u001b[39;49m\u001b[38;5;124;43m'\u001b[39;49m\u001b[43m:\u001b[49m\u001b[38;5;241;43m4\u001b[39;49m\u001b[43m,\u001b[49m\n\u001b[0;32m      6\u001b[0m \u001b[43m    \u001b[49m\u001b[38;5;124;43m'\u001b[39;49m\u001b[38;5;124;43mcinco\u001b[39;49m\u001b[38;5;124;43m'\u001b[39;49m\u001b[43m:\u001b[49m\u001b[38;5;241;43m5\u001b[39;49m\n\u001b[0;32m      7\u001b[0m \u001b[43m}\u001b[49m\u001b[43m)\u001b[49m\u001b[38;5;241;43m.\u001b[39;49m\u001b[43mvalues\u001b[49m\u001b[43m)\u001b[49m\u001b[43m,\u001b[49m\u001b[43m \u001b[49m\u001b[43my_score\u001b[49m\u001b[43m \u001b[49m\u001b[38;5;241;43m=\u001b[39;49m\u001b[43m \u001b[49m\u001b[43mgrado_iphone\u001b[49m\u001b[43m,\u001b[49m\u001b[43m \u001b[49m\u001b[43mmulti_class\u001b[49m\u001b[43m \u001b[49m\u001b[38;5;241;43m=\u001b[39;49m\u001b[43m \u001b[49m\u001b[38;5;124;43m'\u001b[39;49m\u001b[38;5;124;43movr\u001b[39;49m\u001b[38;5;124;43m'\u001b[39;49m\u001b[43m)\u001b[49m\n\u001b[0;32m      8\u001b[0m \u001b[38;5;28mprint\u001b[39m(\u001b[38;5;124mf\u001b[39m\u001b[38;5;124m\"\u001b[39m\u001b[38;5;124mEl valor de AUC para el diagnóstico del grado usando iPhone es: \u001b[39m\u001b[38;5;132;01m{\u001b[39;00mauc_gr_iphone\u001b[38;5;241m*\u001b[39m\u001b[38;5;241m100\u001b[39m\u001b[38;5;132;01m}\u001b[39;00m\u001b[38;5;124m %\u001b[39m\u001b[38;5;124m\"\u001b[39m)\n",
      "File \u001b[1;32m~\\anaconda3\\envs\\venv_py39\\lib\\site-packages\\sklearn\\metrics\\_ranking.py:546\u001b[0m, in \u001b[0;36mroc_auc_score\u001b[1;34m(y_true, y_score, average, sample_weight, max_fpr, multi_class, labels)\u001b[0m\n\u001b[0;32m    544\u001b[0m y_type \u001b[38;5;241m=\u001b[39m type_of_target(y_true)\n\u001b[0;32m    545\u001b[0m y_true \u001b[38;5;241m=\u001b[39m check_array(y_true, ensure_2d\u001b[38;5;241m=\u001b[39m\u001b[38;5;28;01mFalse\u001b[39;00m, dtype\u001b[38;5;241m=\u001b[39m\u001b[38;5;28;01mNone\u001b[39;00m)\n\u001b[1;32m--> 546\u001b[0m y_score \u001b[38;5;241m=\u001b[39m \u001b[43mcheck_array\u001b[49m\u001b[43m(\u001b[49m\u001b[43my_score\u001b[49m\u001b[43m,\u001b[49m\u001b[43m \u001b[49m\u001b[43mensure_2d\u001b[49m\u001b[38;5;241;43m=\u001b[39;49m\u001b[38;5;28;43;01mFalse\u001b[39;49;00m\u001b[43m)\u001b[49m\n\u001b[0;32m    548\u001b[0m \u001b[38;5;28;01mif\u001b[39;00m y_type \u001b[38;5;241m==\u001b[39m \u001b[38;5;124m\"\u001b[39m\u001b[38;5;124mmulticlass\u001b[39m\u001b[38;5;124m\"\u001b[39m \u001b[38;5;129;01mor\u001b[39;00m (\n\u001b[0;32m    549\u001b[0m     y_type \u001b[38;5;241m==\u001b[39m \u001b[38;5;124m\"\u001b[39m\u001b[38;5;124mbinary\u001b[39m\u001b[38;5;124m\"\u001b[39m \u001b[38;5;129;01mand\u001b[39;00m y_score\u001b[38;5;241m.\u001b[39mndim \u001b[38;5;241m==\u001b[39m \u001b[38;5;241m2\u001b[39m \u001b[38;5;129;01mand\u001b[39;00m y_score\u001b[38;5;241m.\u001b[39mshape[\u001b[38;5;241m1\u001b[39m] \u001b[38;5;241m>\u001b[39m \u001b[38;5;241m2\u001b[39m\n\u001b[0;32m    550\u001b[0m ):\n\u001b[0;32m    551\u001b[0m     \u001b[38;5;66;03m# do not support partial ROC computation for multiclass\u001b[39;00m\n\u001b[0;32m    552\u001b[0m     \u001b[38;5;28;01mif\u001b[39;00m max_fpr \u001b[38;5;129;01mis\u001b[39;00m \u001b[38;5;129;01mnot\u001b[39;00m \u001b[38;5;28;01mNone\u001b[39;00m \u001b[38;5;129;01mand\u001b[39;00m max_fpr \u001b[38;5;241m!=\u001b[39m \u001b[38;5;241m1.0\u001b[39m:\n",
      "File \u001b[1;32m~\\anaconda3\\envs\\venv_py39\\lib\\site-packages\\sklearn\\utils\\validation.py:746\u001b[0m, in \u001b[0;36mcheck_array\u001b[1;34m(array, accept_sparse, accept_large_sparse, dtype, order, copy, force_all_finite, ensure_2d, allow_nd, ensure_min_samples, ensure_min_features, estimator)\u001b[0m\n\u001b[0;32m    744\u001b[0m         array \u001b[38;5;241m=\u001b[39m array\u001b[38;5;241m.\u001b[39mastype(dtype, casting\u001b[38;5;241m=\u001b[39m\u001b[38;5;124m\"\u001b[39m\u001b[38;5;124munsafe\u001b[39m\u001b[38;5;124m\"\u001b[39m, copy\u001b[38;5;241m=\u001b[39m\u001b[38;5;28;01mFalse\u001b[39;00m)\n\u001b[0;32m    745\u001b[0m     \u001b[38;5;28;01melse\u001b[39;00m:\n\u001b[1;32m--> 746\u001b[0m         array \u001b[38;5;241m=\u001b[39m \u001b[43mnp\u001b[49m\u001b[38;5;241;43m.\u001b[39;49m\u001b[43masarray\u001b[49m\u001b[43m(\u001b[49m\u001b[43marray\u001b[49m\u001b[43m,\u001b[49m\u001b[43m \u001b[49m\u001b[43morder\u001b[49m\u001b[38;5;241;43m=\u001b[39;49m\u001b[43morder\u001b[49m\u001b[43m,\u001b[49m\u001b[43m \u001b[49m\u001b[43mdtype\u001b[49m\u001b[38;5;241;43m=\u001b[39;49m\u001b[43mdtype\u001b[49m\u001b[43m)\u001b[49m\n\u001b[0;32m    747\u001b[0m \u001b[38;5;28;01mexcept\u001b[39;00m ComplexWarning \u001b[38;5;28;01mas\u001b[39;00m complex_warning:\n\u001b[0;32m    748\u001b[0m     \u001b[38;5;28;01mraise\u001b[39;00m \u001b[38;5;167;01mValueError\u001b[39;00m(\n\u001b[0;32m    749\u001b[0m         \u001b[38;5;124m\"\u001b[39m\u001b[38;5;124mComplex data not supported\u001b[39m\u001b[38;5;130;01m\\n\u001b[39;00m\u001b[38;5;132;01m{}\u001b[39;00m\u001b[38;5;130;01m\\n\u001b[39;00m\u001b[38;5;124m\"\u001b[39m\u001b[38;5;241m.\u001b[39mformat(array)\n\u001b[0;32m    750\u001b[0m     ) \u001b[38;5;28;01mfrom\u001b[39;00m \u001b[38;5;21;01mcomplex_warning\u001b[39;00m\n",
      "File \u001b[1;32m~\\anaconda3\\envs\\venv_py39\\lib\\site-packages\\pandas\\core\\generic.py:2064\u001b[0m, in \u001b[0;36mNDFrame.__array__\u001b[1;34m(self, dtype)\u001b[0m\n\u001b[0;32m   2063\u001b[0m \u001b[38;5;28;01mdef\u001b[39;00m \u001b[38;5;21m__array__\u001b[39m(\u001b[38;5;28mself\u001b[39m, dtype: npt\u001b[38;5;241m.\u001b[39mDTypeLike \u001b[38;5;241m|\u001b[39m \u001b[38;5;28;01mNone\u001b[39;00m \u001b[38;5;241m=\u001b[39m \u001b[38;5;28;01mNone\u001b[39;00m) \u001b[38;5;241m-\u001b[39m\u001b[38;5;241m>\u001b[39m np\u001b[38;5;241m.\u001b[39mndarray:\n\u001b[1;32m-> 2064\u001b[0m     \u001b[38;5;28;01mreturn\u001b[39;00m \u001b[43mnp\u001b[49m\u001b[38;5;241;43m.\u001b[39;49m\u001b[43masarray\u001b[49m\u001b[43m(\u001b[49m\u001b[38;5;28;43mself\u001b[39;49m\u001b[38;5;241;43m.\u001b[39;49m\u001b[43m_values\u001b[49m\u001b[43m,\u001b[49m\u001b[43m \u001b[49m\u001b[43mdtype\u001b[49m\u001b[38;5;241;43m=\u001b[39;49m\u001b[43mdtype\u001b[49m\u001b[43m)\u001b[49m\n",
      "\u001b[1;31mValueError\u001b[0m: could not convert string to float: 'tres'"
     ]
    }
   ],
   "source": [
    "auc_gr_iphone = roc_auc_score(y_true = list(pd.Series(grado_golds).map({\n",
    "    'uno':1,\n",
    "    'dos':2,\n",
    "    'tres':3,\n",
    "    'cuatro':4,\n",
    "    'cinco':5\n",
    "}).values), y_score = grado_iphone, multi_class = 'ovr')\n",
    "print(f\"El valor de AUC para el diagnóstico del grado usando iPhone es: {auc_gr_iphone*100} %\")"
   ]
  },
  {
   "cell_type": "code",
   "execution_count": null,
   "id": "674dbd31",
   "metadata": {},
   "outputs": [],
   "source": [
    "auc_gr_samsung = roc_auc_score(y_true = list(pd.Series(grado_golds).map({\n",
    "    'uno':1,\n",
    "    'dos':2,\n",
    "    'tres':3,\n",
    "    'cuatro':4,\n",
    "    'cinco':5\n",
    "}).values), y_score = gr_samsung_matrix, multi_class = 'ovr')\n",
    "print(f\"El valor de AUC para el diagnóstico del grado usando Samsung es: {auc_gr_samsung*100} %\")"
   ]
  },
  {
   "cell_type": "markdown",
   "id": "53c185db",
   "metadata": {},
   "source": [
    "#### VALORES DE AUC CURVA ROC\n",
    "En el diagnóstico del **grado** con fotos de **iPhone**: 66.75616689497834 %<br>\n",
    "En el diagnóstico del **grado** con fotos de **Samsung**: 68.35324023005607 %<br>"
   ]
  },
  {
   "cell_type": "markdown",
   "id": "e2b940ec",
   "metadata": {},
   "source": [
    "## Cálculo de Kappa"
   ]
  },
  {
   "cell_type": "code",
   "execution_count": null,
   "id": "a7d1b45b",
   "metadata": {},
   "outputs": [],
   "source": [
    "def subs(x):\n",
    "    if x == 'uno':\n",
    "        return 1\n",
    "    elif x == 'dos':\n",
    "        return 2\n",
    "    elif x == 'tres':\n",
    "        return 3\n",
    "    elif x == 'cuatro':\n",
    "        return 4\n",
    "    elif x == 'cinco':\n",
    "        return 5\n",
    "    else:\n",
    "        return x"
   ]
  },
  {
   "cell_type": "code",
   "execution_count": null,
   "id": "99cf3fa7",
   "metadata": {},
   "outputs": [],
   "source": [
    "grado_golds = list(map(subs,grado_golds))"
   ]
  },
  {
   "cell_type": "code",
   "execution_count": null,
   "id": "ef5c132d",
   "metadata": {},
   "outputs": [],
   "source": [
    "grado_iphone = list(map(subs,list(grado_iphone.iloc[:,0].values)))"
   ]
  },
  {
   "cell_type": "code",
   "execution_count": null,
   "id": "0f8f334e",
   "metadata": {},
   "outputs": [],
   "source": [
    "grado_samsung = list(map(subs,list(grado_samsung.iloc[:,0].values)))"
   ]
  },
  {
   "cell_type": "code",
   "execution_count": null,
   "id": "ef3c070f",
   "metadata": {},
   "outputs": [],
   "source": [
    "kappa_gr_iphone = cohen_kappa_score(y1 = grado_golds, y2 = grado_iphone, labels = list(set(grado_golds)))\n",
    "print(f'El valor de kappa para el grado de iphone es: {kappa_gr_iphone}')"
   ]
  },
  {
   "cell_type": "code",
   "execution_count": null,
   "id": "e795c0bd",
   "metadata": {},
   "outputs": [],
   "source": [
    "kappa_gr_samsung = cohen_kappa_score(y1 = grado_golds, y2 = grado_samsung, labels = list(set(grado_golds)))\n",
    "print(f'El valor de kappa para el grado de samsung es: {kappa_gr_samsung}')"
   ]
  },
  {
   "cell_type": "markdown",
   "id": "1d6932d7",
   "metadata": {},
   "source": [
    "#### VALORES DE KAPPA\n",
    "En el diagnóstico del **grado** con fotos de **iPhone**: 35.379210580698484 %<br>\n",
    "En el diagnóstico del **grado** con fotos de **Samsung**: 35.43258310964278 %<br>"
   ]
  }
 ],
 "metadata": {
  "kernelspec": {
   "display_name": "Python 3 (ipykernel)",
   "language": "python",
   "name": "python3"
  },
  "language_info": {
   "codemirror_mode": {
    "name": "ipython",
    "version": 3
   },
   "file_extension": ".py",
   "mimetype": "text/x-python",
   "name": "python",
   "nbconvert_exporter": "python",
   "pygments_lexer": "ipython3",
   "version": "3.9.12"
  }
 },
 "nbformat": 4,
 "nbformat_minor": 5
}
