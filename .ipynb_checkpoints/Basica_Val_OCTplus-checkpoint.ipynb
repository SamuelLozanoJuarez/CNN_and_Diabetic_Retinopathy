{
 "cells": [
  {
   "cell_type": "code",
   "execution_count": 1,
   "id": "02707f78",
   "metadata": {},
   "outputs": [
    {
     "name": "stderr",
     "output_type": "stream",
     "text": [
      "C:\\Users\\samue\\anaconda3\\envs\\venv_py39\\lib\\site-packages\\tqdm\\auto.py:22: TqdmWarning: IProgress not found. Please update jupyter and ipywidgets. See https://ipywidgets.readthedocs.io/en/stable/user_install.html\n",
      "  from .autonotebook import tqdm as notebook_tqdm\n"
     ]
    }
   ],
   "source": [
    "'''\n",
    "#########################################################################################################################\n",
    "INFORMACIÓN DEL FICHERO\n",
    "#########################################################################################################################\n",
    "\n",
    "Autor: Samuel Lozano Juárez\n",
    "Fecha: 25/05/2023\n",
    "Institución: UBU | Grado en Ingeniería de la Salud\n",
    "\n",
    "Este archivo forma parte del Trabajo de Fin de Grado \"Detección del grado de retinopatía mediante redes convolucionales\".\n",
    "El alumno a cargo de este proyecto es el declarado como autor en las líneas anteriores.\n",
    "Los tutores del proyecto fueron el Dr. Darío Fernández Zoppino y el Dr. Daniel Urda Muñoz.\n",
    "\n",
    "En el código que se encuentra a continuación voy a crear una primera arquitectura de red neuronal convolucional, así como las demás \n",
    "estructuras necesarias para poder entrenar dicha red (como por ejemplo las funciones que permiten cargar las imágenes o generar los \n",
    "batches o lotes para el entrenamiento).\n",
    "\n",
    "El entrenamiento de la red se llevará a cabo empleando un conjunto de validación para poder aplicar la estrategia de Early Stopping y evitar el sobreentrenamiento.\n",
    "\n",
    "Para entrenar los modelos se usarán imágenes de OCT + Samsung o iPhone y se testearán con el conjunto de imágenes no empleado en el entrenamiento (iPhone o Samsung respectivamente).\n",
    "\n",
    "La arquitectura del modelo será básica, siguiendo la estructura que se encuentra disponible en la propia página del framework Pytorch:\n",
    "https://pytorch.org/tutorials/beginner/introyt/introyt1_tutorial.html#pytorch-models\n",
    "\n",
    "Finalmente se obtendrán las métricas de Accuracy, Balanced Accuracy, F-Score, AUC de la curva ROC y Quadratic Weighted Kappa, tanto para\n",
    "imágenes de iPhone como imágenes de Samsung. De esta manera podremos evaluar el rendimiento de la red en comparación con un clínico.\n",
    "'''\n",
    "\n",
    "#primero importamos todos los paquetes necesarios\n",
    "import torch #contiene todas las funciones de PyTorch\n",
    "import torch.nn as nn #contiene la clase padre de todos los modelos (nn.Module)\n",
    "import torch.nn.functional as F #esencial para la función de activación \n",
    "import torchvision #fundamental para la importación de imágenes\n",
    "import torchvision.transforms as transforms\n",
    "from torchvision.datasets import ImageFolder\n",
    "from torch.utils.data import DataLoader, ConcatDataset\n",
    "from matplotlib import pyplot as plt #para poder representar las gráficas\n",
    "import numpy as np #para las métricas de la red\n",
    "\n",
    "#importamos también las funciones definidas para el entrenamiento y puesta a prueba de los modelos\n",
    "from modules.CNN_utilities import entrena_val, representa_test, obtiene_metricas, tester, guarda_graficas\n",
    "\n",
    "#importamos el paquete que permite calcular el tiempo de entrenamiento\n",
    "import time"
   ]
  },
  {
   "cell_type": "code",
   "execution_count": 2,
   "id": "be88f9e3",
   "metadata": {},
   "outputs": [],
   "source": [
    "#establecemos el tamaño del batch, la escala de las imágenes y el número de épocas de entrenamiento\n",
    "batch = 4\n",
    "escala = 640\n",
    "epocas = 150 #ya que tenemos activado Early Stopping\n",
    "\n",
    "#a continuación definimos la operación que permitirá transformar las imágenes del repositorio en Tensores que puedan ser empleados por PyTorch\n",
    "transform = transforms.Compose(\n",
    "    [transforms.ToTensor(), #transforma la imagen de formato PIL a formato tensor\n",
    "     transforms.Normalize((0.5, 0.5, 0.5), (0.5, 0.5, 0.5)), #normaliza el tensor para que la media de sus valores sea 0 y su desviación estándar 0.5\n",
    "     transforms.Resize((escala, escala))]) #redimensionamos las imágenes"
   ]
  },
  {
   "cell_type": "code",
   "execution_count": 3,
   "id": "d2f476b5",
   "metadata": {},
   "outputs": [
    {
     "name": "stdout",
     "output_type": "stream",
     "text": [
      "Tamaño del conjunto de datos de train: 206\n",
      "Tamaño del conjunto de datos de test de iPhone: 99\n"
     ]
    }
   ],
   "source": [
    "#COMENZAMOS CON LOS ELEMENTOS NECESARIOS PARA EL ENTRENAMIENTO CON SAMSUNG Y TEST CON IPHONE\n",
    "#primero definimos una lista con las rutas de los directorios que queremos combinar (OCT + Samsung)\n",
    "root_dirs_OCT_S = ['Datos/Classified Data/Images/Samsung/No_inpaint', 'Datos/Classified Data/Images/OCT']\n",
    "#inicializamos una lista 'datasets_OCT_S' vacía que almacenará las imágenes y etiquetas\n",
    "datasets_OCT_S = []\n",
    "#recorremos los directorios a concatenar\n",
    "for root_dir in root_dirs_OCT_S:\n",
    "    #cargamos las imágenes (y etiquetas correspondientes) de dichos directorios, con la transformación aplicada\n",
    "    dataset = ImageFolder(root_dir, transform = transform)\n",
    "    #añadimos esas imágenes y etiquetas a la lista previamente creada\n",
    "    datasets_OCT_S.append(dataset)\n",
    "\n",
    "#concatenamos esas imágenes y mostramos el tamaño total del dataset de entrenamiento\n",
    "OCT_S = ConcatDataset(datasets_OCT_S)\n",
    "print(f'Tamaño del conjunto de datos de train: {len(OCT_S)}')\n",
    "\n",
    "#cargamos el dataset de test y mostramos su tamaño\n",
    "iPhone = ImageFolder(root = 'Datos/Classified Data/Images/iPhone/No_inpaint', transform = transform)\n",
    "print(f'Tamaño del conjunto de datos de test de iPhone: {len(iPhone)}')"
   ]
  },
  {
   "cell_type": "code",
   "execution_count": 4,
   "id": "cf29f12b",
   "metadata": {},
   "outputs": [],
   "source": [
    "#en esta ocasión, debido a que vamos a implementar EarlyStopping es necesario dividir el conjunto de entrenamiento en train y validation\n",
    "#Dividimos el conjunto de datos en entrenamiento y validación (80% y 20% respectivamente)\n",
    "train_size = int(0.8 * len(OCT_S))\n",
    "val_size = len(OCT_S) - train_size\n",
    "train_dataset_OCT_S, val_dataset_OCT_S = torch.utils.data.random_split(OCT_S, [train_size, val_size])"
   ]
  },
  {
   "cell_type": "code",
   "execution_count": 5,
   "id": "bebf51b7",
   "metadata": {},
   "outputs": [],
   "source": [
    "#finalmente creamos los objetos DataLoader correspondientes (de entrenamiento, validación y test con iPhone)\n",
    "#primero el DataLoader de entrenamiento\n",
    "train_loader_OCT_S = DataLoader(\n",
    "    train_dataset_OCT_S, #indicamos el conjunto de imágenes combinadas de entrenamiento\n",
    "    batch_size=batch,\n",
    "    shuffle=True, #mezclamos las imágenes para combinar de todos los grados y fuentes en cada batch\n",
    "    num_workers = 2 #así genera subprocesos y acelera la alimentación del modelo con imágenes\n",
    ")\n",
    "\n",
    "#posteriormente definimos el DataLoader de validación\n",
    "val_loader_OCT_S = DataLoader(\n",
    "    dataset = val_dataset_OCT_S, #indicamos el conjunto de imágenes combinadas de validación\n",
    "    batch_size = batch,\n",
    "    shuffle = True, #mezclamos las imágenes para combinar de todos los grados y fuentes en cada batch\n",
    "    num_workers = 2 #así genera subprocesos y acelera la alimentación del modelo con imágenes\n",
    ")\n",
    "\n",
    "#y finalmente el DataLoader de test con las imágenes de iPhone\n",
    "test_i_loader = DataLoader(\n",
    "    dataset = iPhone,\n",
    "    batch_size = batch,\n",
    "    shuffle = True, #mezclamos las imágenes para combinar de todos los grados y fuentes en cada batch\n",
    "    num_workers = 2 #así genera subprocesos y acelera la alimentación del modelo con imágenes\n",
    ")"
   ]
  },
  {
   "cell_type": "code",
   "execution_count": 6,
   "id": "0bba9008",
   "metadata": {},
   "outputs": [
    {
     "name": "stdout",
     "output_type": "stream",
     "text": [
      "Tamaño del conjunto de datos de train: 212\n",
      "Tamaño del conjunto de datos de test de Samsung: 93\n"
     ]
    }
   ],
   "source": [
    "#AHORA REALIZAMOS EL MISMO PROCESO PERO PARA ENTRENAR EL MODELO CON IPHONE Y HACER EL TEST CON SAMSUNG\n",
    "#primero definimos una lista con las rutas de los directorios que queremos combinar (OCT + iPhone)\n",
    "root_dirs_OCT_i = ['Datos/Classified Data/Images/iPhone/No_inpaint', 'Datos/Classified Data/Images/OCT']\n",
    "#inicializamos una lista 'datasets_OCT_i' vacía que almacenará las imágenes y etiquetas\n",
    "datasets_OCT_i = []\n",
    "#recorremos los directorios a concatenar\n",
    "for root_dir in root_dirs_OCT_i:\n",
    "    #cargamos las imágenes (y etiquetas correspondientes) de dichos directorios, con la transformación aplicada\n",
    "    dataset = ImageFolder(root_dir, transform = transform)\n",
    "    #añadimos esas imágenes y etiquetas a la lista previamente creada\n",
    "    datasets_OCT_i.append(dataset)\n",
    "\n",
    "#concatenamos esas imágenes y mostramos el tamaño total del dataset de entrenamiento\n",
    "OCT_i = ConcatDataset(datasets_OCT_i)\n",
    "print(f'Tamaño del conjunto de datos de train: {len(OCT_i)}')\n",
    "\n",
    "Samsung = ImageFolder(root = 'Datos/Classified Data/Images/Samsung/No_inpaint', transform = transform)\n",
    "print(f'Tamaño del conjunto de datos de test de Samsung: {len(Samsung)}')"
   ]
  },
  {
   "cell_type": "code",
   "execution_count": 7,
   "id": "e044458d",
   "metadata": {},
   "outputs": [],
   "source": [
    "#en esta ocasión, debido a que vamos a implementar EarlyStopping es necesario dividir el conjunto de entrenamiento en train y validation\n",
    "#Dividimos el conjunto de datos en entrenamiento y validación (80% y 20% respectivamente)\n",
    "train_size = int(0.8 * len(OCT_i))\n",
    "val_size = len(OCT_i) - train_size\n",
    "train_dataset_OCT_i, val_dataset_OCT_i = torch.utils.data.random_split(OCT_i, [train_size, val_size])"
   ]
  },
  {
   "cell_type": "code",
   "execution_count": 8,
   "id": "c62aecbe",
   "metadata": {},
   "outputs": [],
   "source": [
    "#finalmente creamos los objetos DataLoader correspondientes (de entrenamiento, validación y test con Samsung)\n",
    "#primero el DataLoader de entrenamiento\n",
    "train_loader_OCT_i = DataLoader(\n",
    "    train_dataset_OCT_i, #indicamos el conjunto de imágenes combinadas de entrenamiento\n",
    "    batch_size=batch,\n",
    "    shuffle=True, #mezclamos las imágenes para combinar de todos los grados y fuentes en cada batch\n",
    "    num_workers = 2 #así genera subprocesos y acelera la alimentación del modelo con imágenes\n",
    ")\n",
    "\n",
    "#posteriormente definimos el DataLoader de validación\n",
    "val_loader_OCT_i = DataLoader(\n",
    "    dataset = val_dataset_OCT_i, #indicamos el conjunto de imágenes combinadas de validación\n",
    "    batch_size = batch,\n",
    "    shuffle = True, #mezclamos las imágenes para combinar de todos los grados y fuentes en cada batch\n",
    "    num_workers = 2 #así genera subprocesos y acelera la alimentación del modelo con imágenes\n",
    ")\n",
    "\n",
    "#y finalmente el DataLoader de test con las imágenes de iPhone\n",
    "test_S_loader = DataLoader(\n",
    "    dataset = Samsung,\n",
    "    batch_size = batch,\n",
    "    shuffle = True, #mezclamos las imágenes para combinar de todos los grados y fuentes en cada batch\n",
    "    num_workers = 2 #así genera subprocesos y acelera la alimentación del modelo con imágenes\n",
    ")"
   ]
  },
  {
   "cell_type": "code",
   "execution_count": 9,
   "id": "0be63ecb",
   "metadata": {},
   "outputs": [],
   "source": [
    "#una vez que hemos comprobado que las funciones de carga funcionan correctamente ya podemos definir el modelo\n",
    "#los modelos se definen como clases que heredan todos ellos de un mismo padre: nn.Module\n",
    "#las clases contienen 2 funciones básicas: __init__() y forward()\n",
    "class CNN(nn.Module):\n",
    "    \n",
    "    def __init__(self):\n",
    "        #esta función sobreescribe la función init() del padre\n",
    "        super(CNN,self).__init__()\n",
    "        #definimos todas las capas que van a constituir el modelo\n",
    "        #una primera capa convolucional\n",
    "        self.conv1 = nn.Conv2d(\n",
    "            in_channels = 3, #3 canales de entrada porque las imágenes son a color\n",
    "            out_channels = 6, #se trata del número de salidas de la capa. Es el número de kernels de la capa convolucional\n",
    "            kernel_size = 5, #suele tratarse de un número impar\n",
    "            stride = 1, #cantidad píxeles que se desplaza el filtro sobre la imagen\n",
    "            padding = 0, #cantidad de relleno que se va a aplicar sobre los bordes de la imagen\n",
    "        )\n",
    "        #una segunda capa convolucional\n",
    "        self.conv2 = nn.Conv2d(\n",
    "            in_channels = 6, #6 canales de entrada porque es el número de salidas de la capa anterior\n",
    "            out_channels = 16, #se trata del número de salidas de la capa. Es el número de kernels de la capa convolucional\n",
    "            kernel_size = 5, #suele tratarse de un número impar\n",
    "            stride = 1, #cantidad píxeles que se desplaza el filtro sobre la imagen\n",
    "            padding = 0, #cantidad de relleno que se va a aplicar sobre los bordes de la imagen\n",
    "        )\n",
    "        \n",
    "        #una primera capa fully-connected (red neuronal propiamente dicha)\n",
    "        self.fc1 = nn.Linear(\n",
    "            in_features = 16*157*157, #número de parámetros de entrada de la red (los valores se obtienen experimentalmente)\n",
    "            out_features = 120 #número de neuronas de salida\n",
    "        )\n",
    "        \n",
    "        #una segunda fully-connected\n",
    "        self.fc2 = nn.Linear(120, 84)\n",
    "        \n",
    "        #y una tercera. Nótese que el número de neuronas de salida de la última fully-connected ha de coincidir con el número de clases\n",
    "        self.fc3 = nn.Linear(84,5)\n",
    "        \n",
    "    def forward(self,x):\n",
    "        #en esta función es donde tiene lugar la computación (y la función invocada por defecto al ejecutar la red)\n",
    "        #primero aplicamos la función ReLU a la capa convolucional, que simplifica los datos. \n",
    "        #ReLU Interpreta los valores positivos como son, y los negativos los torna 0, permitiendo acelerar el entrenamiento\n",
    "        #al resultado le aplicamos MaxPooling que reduce las dimensiones de los datos, seleccionando el valor máximo del kernel.\n",
    "        x = F.max_pool2d(F.relu(self.conv1(x)), kernel_size = 2)\n",
    "        x = F.max_pool2d(F.relu(self.conv2(x)), kernel_size = 2)\n",
    "        #aplanamos la salida, hasta convertirla de forma matricial a forma vectorial (sería la capa flatten)\n",
    "        x = x.view(-1,self.num_flat_features(x))#usamos una función propia de la clase para obtener el número de características\n",
    "        x = F.relu(self.fc1(x))\n",
    "        x = F.relu(self.fc2(x))\n",
    "        x = self.fc3(x) #no incluimos una capa de LogSoft, que convierte el output en probabilidad, ya que la función loss que usaremos incluye esta funcionalidad\n",
    "        return x\n",
    "    \n",
    "    def num_flat_features(self,x):\n",
    "        #por último definimos la función que permite obtener el número de características de los tensores\n",
    "        size = x.size()[1:] #seleccionamos todas las dimensiones expcepto la primera (que son los batches)\n",
    "        num_features = 1\n",
    "        #va iterando y calcula el número de características de los datos (x)\n",
    "        for s in size:\n",
    "            num_features*=s\n",
    "        return num_features\n",
    "\n",
    "#una vez definida la clase generamos una instancia de la misma\n",
    "cnn = CNN()\n",
    "\n",
    "#a continuación debemos entrenar el modelo, para ello es necesario definir una función loss que evalúa la desviación entre las predicciones y los valores reales\n",
    "#definimos como loss la función de tipo cross entropy \n",
    "criterion = nn.CrossEntropyLoss() \n",
    "\n",
    "#y una función optimizadora que modificará los pesos de la red para tratar de mejorar su rendimiento\n",
    "#en este caso el optimizador será la función Adam (ampliamente utilizada)\n",
    "optimizer = torch.optim.Adam(params = cnn.parameters(), #los parámetros son los pesos que deberá ir actualizando el optimizador\n",
    "                             lr = 0.001) #dejamos el valor de learning rate por defecto (0.001)"
   ]
  },
  {
   "cell_type": "code",
   "execution_count": 10,
   "id": "df73ca50",
   "metadata": {},
   "outputs": [
    {
     "name": "stdout",
     "output_type": "stream",
     "text": [
      "--------------------------------------\n",
      "Entrenamiento OCT+Samsung. Características:\n",
      "  -Capas: 2\n",
      "  -Neuronas: 120/84\n",
      "  -Early Stopping\n",
      "\n"
     ]
    }
   ],
   "source": [
    "#previo al entrenamiento imprimimos por pantalla las características de la red, para poder identificar su entrenamiento\n",
    "print('--------------------------------------')\n",
    "print(f'Entrenamiento OCT+Samsung. Características:\\n  -Capas: 2\\n  -Neuronas: 120/84\\n  -Early Stopping\\n')"
   ]
  },
  {
   "cell_type": "code",
   "execution_count": null,
   "id": "a4f97230",
   "metadata": {},
   "outputs": [],
   "source": [
    "#capturamos el tiempo antes del entrenamiento\n",
    "inicio = time.time()\n",
    "#entrenamos el modelo con 7 épocas de paciencia y recogemos las métricas para posteriormente guardar las gráficas\n",
    "acc,loss,val_acc,val_loss = entrena_val(cnn,epocas,7,train_loader_OCT_S,val_loader_OCT_S,optimizer,criterion)\n",
    "#y nuevamente calculamos el tiempo tras el entrenamiento\n",
    "fin = time.time()\n",
    "#posteriormente generamos y almacenamos las gráficas correspondientes a estas métricas\n",
    "guarda_graficas('OCT_S','Si','No','No','RGB','Basica',2,1.0,'120/84',acc,loss,val_acc,val_loss)"
   ]
  },
  {
   "cell_type": "code",
   "execution_count": null,
   "id": "bab84457",
   "metadata": {},
   "outputs": [],
   "source": [
    "#ponemos a prueba la red con el conjunto de iPhone usando la función tester y recogemos los resultados para obtener las métricas\n",
    "y_true_iphone, y_pred_iphone, predictions_iphone = tester(cnn,test_i_loader)\n",
    "#obtenemos las métricas usando la función importada obtiene_metricas, que no las muestra por pantalla\n",
    "metricas_iphone = obtiene_metricas(y_true_iphone, y_pred_iphone, predictions_iphone)\n",
    "\n",
    "#las mostramos por pantalla\n",
    "print('\\n--------------------------------------')\n",
    "print(f'Test. Características:\\n  -Capas: 2\\n  -Neuronas: 120/84\\n  -Test:iphone\\n')\n",
    "print(f' - Matriz de confusión:\\n{metricas_iphone[0]}\\n - Accuracy:{metricas_iphone[1]}\\n - Balanced accuracy:{metricas_iphone[2]}\\n - F-score:{metricas_iphone[3]}\\n - Kappa:{metricas_iphone[4]}\\n - AUC:{metricas_iphone[5]}\\n - Tiempo:{(fin-inicio)/60} mins')\n",
    "#escribimos las métricas (a excepción de la matriz de confusión) en el archivo Resultados.csv previamente creado\n",
    "with open('Resultados.csv','a') as fd:\n",
    "    fd.write('\\n')\n",
    "    fd.write(f'OCTplus,Sí,No,No,RGB,Básica,2,1.0,120/84,iphone,{metricas_iphone[1]},{metricas_iphone[2]},{metricas_iphone[3]},{metricas_iphone[4]},{metricas_iphone[5]},{(fin-inicio)/60}')"
   ]
  },
  {
   "cell_type": "code",
   "execution_count": null,
   "id": "d15d7335",
   "metadata": {},
   "outputs": [],
   "source": [
    "#por último vamos a guardar el modelo, sus pesos y estado actual, por si se quisiera volver a emplear\n",
    "torch.save(cnn.state_dict(), f'modelos/Basica/OCT_S_Sival_Noprep_Noinp_RGB.pth')"
   ]
  },
  {
   "cell_type": "code",
   "execution_count": null,
   "id": "733dc3dc",
   "metadata": {},
   "outputs": [],
   "source": [
    "#volvemos a crear un modelo (sobreescribiendo el creado anteriormente) y a definir el optimizador y el loss\n",
    "cnn = CNN()\n",
    "\n",
    "#a continuación debemos entrenar el modelo, para ello es necesario definir una función loss que evalúa la desviación entre las predicciones y los valores reales\n",
    "#definimos como loss la función de tipo cross entropy \n",
    "criterion = nn.CrossEntropyLoss() \n",
    "\n",
    "#y una función optimizadora que modificará los pesos de la red para tratar de mejorar su rendimiento\n",
    "#en este caso el optimizador será la función Adam (ampliamente utilizada)\n",
    "optimizer = torch.optim.Adam(params = cnn.parameters(), #los parámetros son los pesos que deberá ir actualizando el optimizador\n",
    "                             lr = 0.001) #dejamos el valor de learning rate por defecto (0.001)"
   ]
  },
  {
   "cell_type": "code",
   "execution_count": 11,
   "id": "bac50a07",
   "metadata": {},
   "outputs": [
    {
     "name": "stdout",
     "output_type": "stream",
     "text": [
      "--------------------------------------\n",
      "Entrenamiento OCT+iPhone. Características:\n",
      "  -Capas: 2\n",
      "  -Neuronas: 120/84\n",
      "  -Early Stopping\n",
      "\n"
     ]
    }
   ],
   "source": [
    "#repetimos el proceso entrenando con iPhone esta vez\n",
    "#previo al entrenamiento imprimimos por pantalla las características de la red, para poder identificar su entrenamiento\n",
    "print('--------------------------------------')\n",
    "print(f'Entrenamiento OCT+iPhone. Características:\\n  -Capas: 2\\n  -Neuronas: 120/84\\n  -Early Stopping\\n')"
   ]
  },
  {
   "cell_type": "code",
   "execution_count": null,
   "id": "f5e8e775",
   "metadata": {},
   "outputs": [],
   "source": [
    "#capturamos el tiempo antes del entrenamiento\n",
    "inicio = time.time()\n",
    "#entrenamos el modelo con 7 épocas de paciencia y recogemos las métricas para posteriormente guardar las gráficas\n",
    "acc,loss,val_acc,val_loss = entrena_val(cnn,epocas,7,train_loader_OCT_i,val_loader_OCT_i,optimizer,criterion)\n",
    "#y nuevamente calculamos el tiempo tras el entrenamiento\n",
    "fin = time.time()\n",
    "#posteriormente generamos y almacenamos las gráficas correspondientes a estas métricas\n",
    "guarda_graficas('OCT_i','Si','No','No','RGB','Basica',2,1.0,'120/84',acc,loss,val_acc,val_loss)"
   ]
  },
  {
   "cell_type": "code",
   "execution_count": null,
   "id": "5ae04e85",
   "metadata": {},
   "outputs": [],
   "source": [
    "#ahora ponemos a prueba la red con el conjunto de Samsung usando la función tester y recogemos los resultados para obtener las métricas\n",
    "y_true_samsung, y_pred_samsung, predictions_samsung = tester(cnn,test_S_loader)\n",
    "#obtenemos las métricas usando la función importada obtiene_metricas, que no las muestra por pantalla\n",
    "metricas_samsung = obtiene_metricas(y_true_samsung, y_pred_samsung, predictions_samsung)\n",
    "#las mostramos por pantalla\n",
    "print('\\n--------------------------------------')\n",
    "print(f'Test. Características:\\n  -Capas: 2\\n  -Neuronas: 120/84\\n  -Test:Samsung\\n')\n",
    "print(f' - Matriz de confusión:\\n{metricas_samsung[0]}\\n - Accuracy:{metricas_samsung[1]}\\n - Balanced accuracy:{metricas_samsung[2]}\\n - F-score:{metricas_samsung[3]}\\n - Kappa:{metricas_samsung[4]}\\n - AUC:{metricas_samsung[5]}\\n - Tiempo:{(fin-inicio)/60} mins')\n",
    "#escribimos las métricas (a excepción de la matriz de confusión) en el archivo Resultados.csv previamente creado\n",
    "with open('Resultados.csv','a') as fd:\n",
    "    fd.write('\\n')\n",
    "    fd.write(f'OCT_i,Sí,No,No,RGB,Básica,2,1.0,120/84,Samsung,{metricas_samsung[1]},{metricas_samsung[2]},{metricas_samsung[3]},{metricas_samsung[4]},{metricas_samsung[5]},{(fin-inicio)/60}')"
   ]
  },
  {
   "cell_type": "code",
   "execution_count": null,
   "id": "663dd79c",
   "metadata": {},
   "outputs": [],
   "source": [
    "#por último vamos a guardar el modelo, sus pesos y estado actual, por si se quisiera volver a emplear\n",
    "torch.save(cnn.state_dict(), f'modelos/Basica/OCT_S_Sival_Noprep_Noinp_RGB.pth')"
   ]
  }
 ],
 "metadata": {
  "kernelspec": {
   "display_name": "Python 3 (ipykernel)",
   "language": "python",
   "name": "python3"
  },
  "language_info": {
   "codemirror_mode": {
    "name": "ipython",
    "version": 3
   },
   "file_extension": ".py",
   "mimetype": "text/x-python",
   "name": "python",
   "nbconvert_exporter": "python",
   "pygments_lexer": "ipython3",
   "version": "3.9.12"
  }
 },
 "nbformat": 4,
 "nbformat_minor": 5
}
