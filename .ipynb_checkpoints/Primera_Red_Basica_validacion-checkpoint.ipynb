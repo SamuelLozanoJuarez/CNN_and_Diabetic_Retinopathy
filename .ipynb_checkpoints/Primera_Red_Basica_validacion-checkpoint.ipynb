{
 "cells": [
  {
   "cell_type": "code",
   "execution_count": 1,
   "id": "053d2d98",
   "metadata": {},
   "outputs": [
    {
     "name": "stderr",
     "output_type": "stream",
     "text": [
      "C:\\Users\\samue\\anaconda3\\envs\\venv_py39\\lib\\site-packages\\tqdm\\auto.py:22: TqdmWarning: IProgress not found. Please update jupyter and ipywidgets. See https://ipywidgets.readthedocs.io/en/stable/user_install.html\n",
      "  from .autonotebook import tqdm as notebook_tqdm\n"
     ]
    }
   ],
   "source": [
    "#primero importamos todos los paquetes necesarios\n",
    "import torch #contiene todas las funciones de PyTorch\n",
    "import torch.nn as nn #contiene la clase padre de todos los modelos (nn.Module)\n",
    "import torch.nn.functional as F #esencial para la función de activación \n",
    "import torchvision #fundamental para la importación de imágenes\n",
    "import torchvision.transforms as transforms\n",
    "from torchvision.datasets import ImageFolder\n",
    "from torch.utils.data import DataLoader\n",
    "from matplotlib import pyplot as plt #para poder representar las gráficas\n",
    "import numpy as np #para las métricas de la red\n",
    "\n",
    "#importamos también las funcioness definidas para el entrenamiento y puesta a prueba de los modelos\n",
    "from modules.CNN_utilities import entrena_val, representa_test, obtiene_metricas, tester\n",
    "\n",
    "#importamos el paquete que permite calcular el tiempo de entrenamiento\n",
    "import time"
   ]
  },
  {
   "cell_type": "code",
   "execution_count": 2,
   "id": "b7ed1f36",
   "metadata": {},
   "outputs": [],
   "source": [
    "#establecemos el tamaño del batch, la escala de las imágenes y el número de épocas de entrenamiento\n",
    "batch = 4\n",
    "escala = 640\n",
    "epocas = 150 #ya que tenemos activado Early Stopping"
   ]
  },
  {
   "cell_type": "code",
   "execution_count": 3,
   "id": "1671da7a",
   "metadata": {},
   "outputs": [],
   "source": [
    "#a continuación definimos la operación que permitirá transformar las imágenes del repositorio en Tensores que puedan ser empleados por PyTorch\n",
    "transform = transforms.Compose(\n",
    "    [transforms.ToTensor(), #transforma la imagen de formato PIL a formato tensor\n",
    "     transforms.Normalize((0.5, 0.5, 0.5), (0.5, 0.5, 0.5)), #normaliza el tensor para que la media de sus valores sea 0 y su desviación estándar 0.5\n",
    "     transforms.Resize((escala, escala))]) #redimensionamos las imágenes"
   ]
  },
  {
   "cell_type": "code",
   "execution_count": 4,
   "id": "de4836f6",
   "metadata": {},
   "outputs": [
    {
     "name": "stdout",
     "output_type": "stream",
     "text": [
      "Tamaño del conjunto de datos de train: 113\n",
      "Tamaño del conjunto de datos de test de Samsung: 93\n",
      "Tamaño del conjunto de datos de test de iPhone: 99\n"
     ]
    }
   ],
   "source": [
    "#a continuación cargamos el conjunto de imágenes de train (OCT) y los dos de test (iPhone y Samsung)\n",
    "OCT = ImageFolder(root = 'Datos/Classified Data/Images/OCT', transform = transform)\n",
    "print(f'Tamaño del conjunto de datos de train: {len(OCT)}')\n",
    "\n",
    "Samsung = ImageFolder(root = 'Datos/Classified Data/Images/Samsung', transform = transform)\n",
    "print(f'Tamaño del conjunto de datos de test de Samsung: {len(Samsung)}')\n",
    "\n",
    "iPhone = ImageFolder(root = 'Datos/Classified Data/Images/iPhone', transform = transform)\n",
    "print(f'Tamaño del conjunto de datos de test de iPhone: {len(iPhone)}')"
   ]
  },
  {
   "cell_type": "code",
   "execution_count": 5,
   "id": "0cbb9838",
   "metadata": {},
   "outputs": [],
   "source": [
    "#establecemos una lista con el nombre de las etiquetas\n",
    "classes = OCT.classes"
   ]
  },
  {
   "cell_type": "code",
   "execution_count": 6,
   "id": "efbd7b96",
   "metadata": {},
   "outputs": [],
   "source": [
    "#en esta ocasión, debido a que vamos a implementar EarlyStopping es necesario dividir el conjunto de entrenamiento en train y validation\n",
    "#Dividimos el conjunto de datos en entrenamiento y validación (80% y 20% respectivamente)\n",
    "train_size = int(0.8 * len(OCT))\n",
    "val_size = len(OCT) - train_size\n",
    "train_dataset, val_dataset = torch.utils.data.random_split(OCT, [train_size, val_size])\n",
    "\n",
    "# Crear cargadores de datos para cada conjunto\n",
    "train_loader = torch.utils.data.DataLoader(\n",
    "    dataset = train_dataset,\n",
    "    batch_size = 4, \n",
    "    shuffle = True,\n",
    "    num_workers = 2 #genera subprocesos para cargar los datos y así liberamos el proceso main\n",
    ")\n",
    "\n",
    "val_loader = torch.utils.data.DataLoader(\n",
    "    dataset = val_dataset,\n",
    "    batch_size = 4,\n",
    "    shuffle = True,\n",
    "    num_workers = 2\n",
    ")\n",
    "\n",
    "test_S_loader = DataLoader(\n",
    "    dataset = Samsung,\n",
    "    batch_size = 4, #establecemos un tamaño de lote (batch_size) de 10, ya que son pocas imágenes y podemos permitírnoslo\n",
    "    shuffle = True, #indicamos que mezcle las imágenes\n",
    "    num_workers = 2 #genera subprocesos para cargar los datos y así liberamos el proceso main\n",
    ")\n",
    "\n",
    "test_i_loader = DataLoader(\n",
    "    dataset = iPhone,\n",
    "    batch_size = 4, #establecemos un tamaño de lote (batch_size) de 10, ya que son pocas imágenes y podemos permitírnoslo\n",
    "    shuffle = True, #indicamos que mezcle las imágenes\n",
    "    num_workers = 2 #genera subprocesos para cargar los datos y así liberamos el proceso main\n",
    ")"
   ]
  },
  {
   "cell_type": "code",
   "execution_count": 7,
   "id": "b2d22708",
   "metadata": {},
   "outputs": [],
   "source": [
    "#una vez que hemos comprobado que las funciones de carga funcionan correctamente ya podemos definir el modelo\n",
    "#los modelos se definen como clases que heredan todos ellos de un mismo padre: nn.Module\n",
    "#las clases contienen 2 funciones básicas: __init__() y forward()\n",
    "class CNN(nn.Module):\n",
    "    \n",
    "    def __init__(self):\n",
    "        #esta función sobreescribe la función init() del padre\n",
    "        super(CNN,self).__init__()\n",
    "        #definimos todas las capas que van a constituir el modelo\n",
    "        #una primera capa convolucional\n",
    "        self.conv1 = nn.Conv2d(\n",
    "            in_channels = 3, #3 canales de entrada porque las imágenes son a color\n",
    "            out_channels = 6, #se trata del número de salidas de la capa. Es el número de kernels de la capa convolucional\n",
    "            kernel_size = 5, #suele tratarse de un número impar\n",
    "            stride = 1, #cantidad píxeles que se desplaza el filtro sobre la imagen\n",
    "            padding = 0, #cantidad de relleno que se va a aplicar sobre los bordes de la imagen\n",
    "        )\n",
    "        #una segunda capa convolucional\n",
    "        self.conv2 = nn.Conv2d(\n",
    "            in_channels = 6, #6 canales de entrada porque es el número de salidas de la capa anterior\n",
    "            out_channels = 16, #se trata del número de salidas de la capa. Es el número de kernels de la capa convolucional\n",
    "            kernel_size = 5, #suele tratarse de un número impar\n",
    "            stride = 1, #cantidad píxeles que se desplaza el filtro sobre la imagen\n",
    "            padding = 0, #cantidad de relleno que se va a aplicar sobre los bordes de la imagen\n",
    "        )\n",
    "        \n",
    "        #una primera capa fully-connected (red neuronal propiamente dicha)\n",
    "        self.fc1 = nn.Linear(\n",
    "            in_features = 16*157*157, #número de parámetros de entrada de la red (los valores se obtienen experimentalmente)\n",
    "            out_features = 120 #número de neuronas de salida\n",
    "        )\n",
    "        \n",
    "        #una segunda fully-connected\n",
    "        self.fc2 = nn.Linear(120, 84)\n",
    "        \n",
    "        #y una tercera. Nótese que el número de neuronas de salida de la última fully-connected ha de coincidir con el número de clases\n",
    "        self.fc3 = nn.Linear(84,5)\n",
    "        \n",
    "    def forward(self,x):\n",
    "        #en esta función es donde tiene lugar la computación (y la función invocada por defecto al ejecutar la red)\n",
    "        #primero aplicamos la función ReLU a la capa convolucional, que simplifica los datos. \n",
    "        #ReLU Interpreta los valores positivos como son, y los negativos los torna 0, permitiendo acelerar el entrenamiento\n",
    "        #al resultado le aplicamos MaxPooling que reduce las dimensiones de los datos, seleccionando el valor máximo del kernel.\n",
    "        x = F.max_pool2d(F.relu(self.conv1(x)), kernel_size = 2)\n",
    "        x = F.max_pool2d(F.relu(self.conv2(x)), kernel_size = 2)\n",
    "        #aplanamos la salida, hasta convertirla de forma matricial a forma vectorial (sería la capa flatten)\n",
    "        x = x.view(-1,self.num_flat_features(x))#usamos una función propia de la clase para obtener el número de características\n",
    "        x = F.relu(self.fc1(x))\n",
    "        x = F.relu(self.fc2(x))\n",
    "        x = self.fc3(x) #no incluimos una capa de LogSoft, que convierte el output en probabilidad, ya que la función loss que usaremos incluye esta funcionalidad\n",
    "        return x\n",
    "    \n",
    "    def num_flat_features(self,x):\n",
    "        #por último definimos la función que permite obtener el número de características de los tensores\n",
    "        size = x.size()[1:] #seleccionamos todas las dimensiones expcepto la primera (que son los batches)\n",
    "        num_features = 1\n",
    "        #va iterando y calcula el número de características de los datos (x)\n",
    "        for s in size:\n",
    "            num_features*=s\n",
    "        return num_features\n",
    "\n",
    "#una vez definida la clase generamos una instancia de la misma\n",
    "cnn = CNN()"
   ]
  },
  {
   "cell_type": "code",
   "execution_count": 9,
   "id": "adbfc691",
   "metadata": {},
   "outputs": [],
   "source": [
    "#a continuación debemos entrenar el modelo, para ello es necesario definir una función loss que evalúa la desviación entre las predicciones y los valores reales\n",
    "#definimos como loss la función de tipo cross entropy \n",
    "criterion = nn.CrossEntropyLoss() \n",
    "\n",
    "#y una función optimizadora que modificará los pesos de la red para tratar de mejorar su rendimiento\n",
    "#en este caso el optimizador será la función Adam (ampliamente utilizada)\n",
    "optimizer = torch.optim.Adam(params = cnn.parameters(), #los parámetros son los pesos que deberá ir actualizando el optimizador\n",
    "                             lr = 0.001) #dejamos el valor de learning rate por defecto (0.001)"
   ]
  },
  {
   "cell_type": "code",
   "execution_count": null,
   "id": "3f0d7372",
   "metadata": {},
   "outputs": [
    {
     "name": "stdout",
     "output_type": "stream",
     "text": [
      "--------------------------------------\n",
      "Entrenamiento. Características:\n",
      "  -Capas: 2\n",
      "  -Neuronas: 120/84\n",
      "  -Early Stopping\n",
      "\n",
      "Época 1/50 - Accuracy: 0.45555555555555555 - Loss: 1.9304077625274658\n",
      "Época 1/50 - Val_accuracy: 0.4782608695652174 - Val_loss: 0.970447838306427\n",
      "Época 2/50 - Accuracy: 0.5 - Loss: 0.8357043266296387\n",
      "Época 2/50 - Val_accuracy: 0.2608695652173913 - Val_loss: 1.5333257913589478\n",
      "Época 3/50 - Accuracy: 0.5111111111111111 - Loss: 1.3266048431396484\n",
      "Época 3/50 - Val_accuracy: 0.4782608695652174 - Val_loss: 1.5655711889266968\n",
      "Época 4/50 - Accuracy: 0.5222222222222223 - Loss: 1.868232250213623\n",
      "Época 4/50 - Val_accuracy: 0.4782608695652174 - Val_loss: 1.047754168510437\n"
     ]
    }
   ],
   "source": [
    "#previo al entrenamiento imprimimos por pantalla las características de la red, para poder identificar su entrenamiento\n",
    "print('--------------------------------------')\n",
    "print(f'Entrenamiento. Características:\\n  -Capas: 2\\n  -Neuronas: 120/84\\n  -Early Stopping\\n')\n",
    "\n",
    "#capturamos el tiempo antes del entrenamiento\n",
    "inicio = time.time()\n",
    "#entrenamos el modelo con 7 épocas de paciencia\n",
    "entrena_val(cnn,epocas,7,train_loader,val_loader,optimizer,criterion)\n",
    "#y nuevamente calculamos el tiempo tras el entrenamiento\n",
    "fin = time.time()\n",
    "\n",
    "#ponemos a prueba la red con el conjunto de iPhone usando la función tester y recogemos los resultados para obtener las métricas\n",
    "y_true_iphone, y_pred_iphone, predictions_iphone = tester(cnn,test_i_loader)\n",
    "#obtenemos las métricas usando la función importada obtiene_metricas, que no las muestra por pantalla\n",
    "metricas_iphone = obtiene_metricas(y_true_iphone, y_pred_iphone, predictions_iphone)\n",
    "\n",
    "#las mostramos por pantalla\n",
    "print('\\n--------------------------------------')\n",
    "print(f'Test. Características:\\n  -Capas: 2\\n  -Neuronas: 120/84\\n  -Test:iphone\\n')\n",
    "print(f' - Matriz de confusión:\\n{metricas_iphone[0]}\\n - Accuracy:{metricas_iphone[1]}\\n - Balanced accuracy:{metricas_iphone[2]}\\n - F-score:{metricas_iphone[3]}\\n - Kappa:{metricas_iphone[4]}\\n - AUC:{metricas_iphone[5]}\\n - Tiempo:{(fin-inicio)/60} mins')\n",
    "#escribimos las métricas (a excepción de la matriz de confusión) en el archivo Resultados.csv previamente creado\n",
    "with open('Resultados.csv','a') as fd:\n",
    "    fd.write('\\n')\n",
    "    fd.write(f'OCT,Sí,No,No,RGB,Básica,{capas},{n_filtros},{n_neuronas},iphone,{metricas_iphone[1]},{metricas_iphone[2]},{metricas_iphone[3]},{metricas_iphone[4]},{metricas_iphone[5]},{(fin-inicio)/60}')\n",
    "\n",
    "\n",
    "#ahora ponemos a prueba la red con el conjunto de Samsung usando la función tester y recogemos los resultados para obtener las métricas\n",
    "y_true_samsung, y_pred_samsung, predictions_samsung = tester(cnn,test_S_loader)\n",
    "#obtenemos las métricas usando la función importada obtiene_metricas, que no las muestra por pantalla\n",
    "metricas_samsung = obtiene_metricas(y_true_samsung, y_pred_samsung, predictions_samsung)\n",
    "#las mostramos por pantalla\n",
    "print('\\n--------------------------------------')\n",
    "print(f'Test. Características:\\n  -Capas: 2\\n  -Neuronas: 120/84\\n  -Test:Samsung\\n')\n",
    "print(f' - Matriz de confusión:\\n{metricas_samsung[0]}\\n - Accuracy:{metricas_samsung[1]}\\n - Balanced accuracy:{metricas_samsung[2]}\\n - F-score:{metricas_samsung[3]}\\n - Kappa:{metricas_samsung[4]}\\n - AUC:{metricas_samsung[5]}\\n - Tiempo:{(fin-inicio)/60} mins')\n",
    "#escribimos las métricas (a excepción de la matriz de confusión) en el archivo Resultados.csv previamente creado\n",
    "with open('Resultados.csv','a') as fd:\n",
    "    fd.write('\\n')\n",
    "    fd.write(f'OCT,Sí,No,No,RGB,Básica,{capas},{n_filtros},{n_neuronas},Samsung,{metricas_samsung[1]},{metricas_samsung[2]},{metricas_samsung[3]},{metricas_samsung[4]},{metricas_samsung[5]},{(fin-inicio)/60}')\n",
    "    \n",
    "#por último vamos a guardar el modelo, sus pesos y estado actual, por si se quisiera volver a emplear\n",
    "torch.save(modelo.state_dict(), f'modelos/Basica/OCT_Sival_Noprep_Noinp_RGB.pth')"
   ]
  }
 ],
 "metadata": {
  "kernelspec": {
   "display_name": "Python 3 (ipykernel)",
   "language": "python",
   "name": "python3"
  },
  "language_info": {
   "codemirror_mode": {
    "name": "ipython",
    "version": 3
   },
   "file_extension": ".py",
   "mimetype": "text/x-python",
   "name": "python",
   "nbconvert_exporter": "python",
   "pygments_lexer": "ipython3",
   "version": "3.9.12"
  }
 },
 "nbformat": 4,
 "nbformat_minor": 5
}
