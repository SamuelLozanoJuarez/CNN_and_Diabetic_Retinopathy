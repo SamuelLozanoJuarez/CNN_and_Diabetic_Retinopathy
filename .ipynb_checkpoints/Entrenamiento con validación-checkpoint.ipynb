{
 "cells": [
  {
   "cell_type": "code",
   "execution_count": 1,
   "id": "3d69b240",
   "metadata": {},
   "outputs": [
    {
     "name": "stderr",
     "output_type": "stream",
     "text": [
      "C:\\Users\\samue\\anaconda3\\envs\\venv_py39\\lib\\site-packages\\tqdm\\auto.py:22: TqdmWarning: IProgress not found. Please update jupyter and ipywidgets. See https://ipywidgets.readthedocs.io/en/stable/user_install.html\n",
      "  from .autonotebook import tqdm as notebook_tqdm\n"
     ]
    }
   ],
   "source": [
    "#importamos los paquetes necesarios\n",
    "import torch #contiene todas las funciones de PyTorch\n",
    "import torch.nn as nn #contiene la clase padre de todos los modelos (nn.Module)\n",
    "import torch.nn.functional as F #esencial para la función de activación \n",
    "import torchvision #fundamental para la importación de imágenes\n",
    "import torchvision.transforms as transforms\n",
    "from torchvision.datasets import ImageFolder\n",
    "from torch.utils.data import DataLoader\n",
    "#importamos también matplotlib.pyplot y numpy para la visualización de las imágenes\n",
    "import matplotlib.pyplot as plt\n",
    "import numpy as np\n",
    "import os\n",
    "\n",
    "#importamos los paquetes necesarios para el cálculo de las métricas\n",
    "import sklearn\n",
    "from sklearn.metrics import accuracy_score, balanced_accuracy_score, f1_score, cohen_kappa_score, roc_auc_score, confusion_matrix\n",
    "import seaborn as sns\n",
    "\n",
    "#e importamos el paquete para el cálculo del tiempo de ejecución\n",
    "import time"
   ]
  },
  {
   "cell_type": "code",
   "execution_count": 2,
   "id": "dec1dcc5",
   "metadata": {},
   "outputs": [],
   "source": [
    "#establecemos el tamaño del batch, la escala de las imágenes y el número de épocas de entrenamiento\n",
    "batch = 4\n",
    "escala = 640\n",
    "epocas = 50"
   ]
  },
  {
   "cell_type": "code",
   "execution_count": 3,
   "id": "68a38107",
   "metadata": {},
   "outputs": [],
   "source": [
    "#a continuación definimos la operación que permitirá transformar las imágenes del repositorio en Tensores que puedan ser empleados por PyTorch\n",
    "transform = transforms.Compose(\n",
    "    [transforms.ToTensor(), #transforma la imagen de formato PIL a formato tensor\n",
    "     transforms.Normalize((0.5, 0.5, 0.5), (0.5, 0.5, 0.5)), #normaliza el tensor para que la media de sus valores sea 0 y su desviación estándar 0.5\n",
    "     transforms.Resize((escala, escala))]) #redimensionamos las imágenes"
   ]
  },
  {
   "cell_type": "code",
   "execution_count": 4,
   "id": "6c748075",
   "metadata": {},
   "outputs": [
    {
     "name": "stdout",
     "output_type": "stream",
     "text": [
      "Tamaño del conjunto de datos de train: 113\n",
      "Tamaño del conjunto de datos de test de Samsung: 93\n",
      "Tamaño del conjunto de datos de test de iPhone: 99\n"
     ]
    }
   ],
   "source": [
    "#a continuación cargamos el conjunto de imágenes de train (OCT) y los dos de test (iPhone y Samsung)\n",
    "OCT = ImageFolder(root = 'Datos/Classified Data/Images/OCT', transform = transform)\n",
    "print(f'Tamaño del conjunto de datos de train: {len(OCT)}')\n",
    "\n",
    "Samsung = ImageFolder(root = 'Datos/Classified Data/Images/Samsung', transform = transform)\n",
    "print(f'Tamaño del conjunto de datos de test de Samsung: {len(Samsung)}')\n",
    "\n",
    "iPhone = ImageFolder(root = 'Datos/Classified Data/Images/iPhone', transform = transform)\n",
    "print(f'Tamaño del conjunto de datos de test de iPhone: {len(iPhone)}')"
   ]
  },
  {
   "cell_type": "code",
   "execution_count": 8,
   "id": "e660de07",
   "metadata": {},
   "outputs": [],
   "source": [
    "#establecemos una lista con el nombre de las etiquetas\n",
    "classes = OCT.classes"
   ]
  },
  {
   "cell_type": "code",
   "execution_count": 5,
   "id": "e852ed96",
   "metadata": {},
   "outputs": [],
   "source": [
    "#en esta ocasión, debido a que vamos a implementar EarlyStopping es necesario dividir el conjunto de entrenamiento en train y validation\n",
    "#Dividimos el conjunto de datos en entrenamiento y validación\n",
    "train_size = int(0.8 * len(OCT))\n",
    "val_size = len(OCT) - train_size\n",
    "train_dataset, val_dataset = torch.utils.data.random_split(OCT, [train_size, val_size])\n",
    "\n",
    "# Crear cargadores de datos para cada conjunto\n",
    "train_loader = torch.utils.data.DataLoader(\n",
    "    dataset = train_dataset,\n",
    "    batch_size = 4, \n",
    "    shuffle = True,\n",
    "    num_workers = 2 #genera subprocesos para cargar los datos y así liberamos el proceso main\n",
    ")\n",
    "\n",
    "val_loader = torch.utils.data.DataLoader(\n",
    "    dataset = val_dataset,\n",
    "    batch_size = 4,\n",
    "    shuffle = True,\n",
    "    num_workers = 2\n",
    ")\n",
    "\n",
    "test_S_loader = DataLoader(\n",
    "    dataset = Samsung,\n",
    "    batch_size = 4, #establecemos un tamaño de lote (batch_size) de 10, ya que son pocas imágenes y podemos permitírnoslo\n",
    "    shuffle = True, #indicamos que mezcle las imágenes\n",
    "    num_workers = 2 #genera subprocesos para cargar los datos y así liberamos el proceso main\n",
    ")\n",
    "\n",
    "test_i_loader = DataLoader(\n",
    "    dataset = iPhone,\n",
    "    batch_size = 4, #establecemos un tamaño de lote (batch_size) de 10, ya que son pocas imágenes y podemos permitírnoslo\n",
    "    shuffle = True, #indicamos que mezcle las imágenes\n",
    "    num_workers = 2 #genera subprocesos para cargar los datos y así liberamos el proceso main\n",
    ")"
   ]
  },
  {
   "cell_type": "code",
   "execution_count": 11,
   "id": "a7dc88f0",
   "metadata": {},
   "outputs": [
    {
     "name": "stdout",
     "output_type": "stream",
     "text": [
      "CNN(\n",
      "  (conv1): Conv2d(3, 6, kernel_size=(5, 5), stride=(1, 1))\n",
      "  (conv2): Conv2d(6, 16, kernel_size=(5, 5), stride=(1, 1))\n",
      "  (fc1): Linear(in_features=394384, out_features=120, bias=True)\n",
      "  (fc2): Linear(in_features=120, out_features=84, bias=True)\n",
      "  (fc3): Linear(in_features=84, out_features=5, bias=True)\n",
      ")\n"
     ]
    }
   ],
   "source": [
    "#a continuación debemos definir el modelo\n",
    "#una vez que hemos comprobado que las funciones de carga funcionan correctamente ya podemos definir el modelo\n",
    "#los modelos se definen como clases que heredan todos ellos de un mismo padre: nn.Module\n",
    "#las clases contienen 2 funciones básicas: __init__() y forward()\n",
    "class CNN(nn.Module):\n",
    "    \n",
    "    def __init__(self):\n",
    "        #esta función sobreescribe la función init() del padre\n",
    "        super(CNN,self).__init__()\n",
    "        #definimos todas las capas que van a constituir el modelo\n",
    "        #una primera capa convolucional\n",
    "        self.conv1 = nn.Conv2d(\n",
    "            in_channels = 3, #3 canales de entrada porque las imágenes son a color\n",
    "            out_channels = 6, #se trata del número de salidas de la capa. Es el número de kernels de la capa convolucional\n",
    "            kernel_size = 5, #suele tratarse de un número impar\n",
    "            stride = 1, #cantidad píxeles que se desplaza el filtro sobre la imagen\n",
    "            padding = 0, #cantidad de relleno que se va a aplicar sobre los bordes de la imagen\n",
    "        )\n",
    "        #una segunda capa convolucional\n",
    "        self.conv2 = nn.Conv2d(\n",
    "            in_channels = 6, #6 canales de entrada porque es el número de salidas de la capa anterior\n",
    "            out_channels = 16, #se trata del número de salidas de la capa. Es el número de kernels de la capa convolucional\n",
    "            kernel_size = 5, #suele tratarse de un número impar\n",
    "            stride = 1, #cantidad píxeles que se desplaza el filtro sobre la imagen\n",
    "            padding = 0, #cantidad de relleno que se va a aplicar sobre los bordes de la imagen\n",
    "        )\n",
    "        \n",
    "        #una primera capa fully-connected (red neuronal propiamente dicha)\n",
    "        self.fc1 = nn.Linear(\n",
    "            in_features = 16*157*157, #número de parámetros de entrada de la red (los valores se obtienen experimentalmente)\n",
    "            out_features = 120 #número de neuronas de salida\n",
    "        )\n",
    "        \n",
    "        #una segunda fully-connected\n",
    "        self.fc2 = nn.Linear(120, 84)\n",
    "        \n",
    "        #y una tercera. Nótese que el número de neuronas de salida de la última fully-connected ha de coincidir con el número de clases\n",
    "        self.fc3 = nn.Linear(84,5)\n",
    "        \n",
    "    def forward(self,x):\n",
    "        #en esta función es donde tiene lugar la computación (y la función invocada por defecto al ejecutar la red)\n",
    "        #primero aplicamos la función ReLU a la capa convolucional, que simplifica los datos. \n",
    "        #ReLU Interpreta los valores positivos como son, y los negativos los torna 0, permitiendo acelerar el entrenamiento\n",
    "        #al resultado le aplicamos MaxPooling que reduce las dimensiones de los datos, seleccionando el valor máximo del kernel.\n",
    "        x = F.max_pool2d(F.relu(self.conv1(x)), kernel_size = 2)\n",
    "        x = F.max_pool2d(F.relu(self.conv2(x)), kernel_size = 2)\n",
    "        #aplanamos la salida, hasta convertirla de forma matricial a forma vectorial (sería la capa flatten)\n",
    "        x = x.view(-1,self.num_flat_features(x))#usamos una función propia de la clase para obtener el número de características\n",
    "        x = F.relu(self.fc1(x))\n",
    "        x = F.relu(self.fc2(x))\n",
    "        x = self.fc3(x) #no incluimos una capa de LogSoft, que convierte el output en probabilidad, ya que la función loss que usaremos incluye esta funcionalidad\n",
    "        return x\n",
    "    \n",
    "    def num_flat_features(self,x):\n",
    "        #por último definimos la función que permite obtener el número de características de los tensores\n",
    "        size = x.size()[1:] #seleccionamos todas las dimensiones expcepto la primera (que son los batches)\n",
    "        num_features = 1\n",
    "        #va iterando y calcula el número de características de los datos (x)\n",
    "        for s in size:\n",
    "            num_features*=s\n",
    "        return num_features\n",
    "\n",
    "#una vez definida la clase generamos una instancia de la misma\n",
    "cnn = CNN()\n",
    "#y mostramos por pantalla sus secciones\n",
    "print(cnn)"
   ]
  },
  {
   "cell_type": "code",
   "execution_count": 19,
   "id": "81592fca",
   "metadata": {},
   "outputs": [],
   "source": [
    "#a continuación debemos entrenar el modelo, para ello es necesario definir una función loss que evalúa la desviación entre las predicciones y los valores reales\n",
    "#definimos como loss la función de tipo cross entropy \n",
    "criterion = nn.CrossEntropyLoss() \n",
    "\n",
    "#y una función optimizadora que modificará los pesos de la red para tratar de mejorar su rendimiento\n",
    "#en este caso el optimizador será la función Adam (ampliamente utilizada)\n",
    "optimizer = torch.optim.Adam(params = cnn.parameters(), #los parámetros son los pesos que deberá ir actualizando el optimizador\n",
    "                             lr = 0.001) #dejamos el valor de learning rate por defecto (0.001)"
   ]
  },
  {
   "cell_type": "markdown",
   "id": "aa854d7a",
   "metadata": {},
   "source": [
    "HAY UNA MANERA DE HACER EARLYSTOPPING EMPLEANDO LA LIBRERÍA PYTORCHTOOLS, QUE INCLUYE UNA PROPIA FUNCIÓN DE EARLYSTOPPING, PERO PARA SU USO ES NECESARIO QUE LAS DEPENDENCIAS SE ENCUENTREN EN EL MISMO DIRECTORIO QUE EL SCRIPT EN CUESTIÓN, Y ESO EN SCAYLE GENERA PROBLEMAS, es más jaleo. Por eso prefiero hacerlo de una manera más manual"
   ]
  },
  {
   "cell_type": "code",
   "execution_count": 1,
   "id": "4446de71",
   "metadata": {},
   "outputs": [
    {
     "ename": "ImportError",
     "evalue": "cannot import name 'EarlyStopping' from 'pytorchtools' (C:\\Users\\samue\\anaconda3\\envs\\venv_py39\\lib\\site-packages\\pytorchtools\\__init__.py)",
     "output_type": "error",
     "traceback": [
      "\u001b[1;31m---------------------------------------------------------------------------\u001b[0m",
      "\u001b[1;31mImportError\u001b[0m                               Traceback (most recent call last)",
      "Input \u001b[1;32mIn [1]\u001b[0m, in \u001b[0;36m<cell line: 3>\u001b[1;34m()\u001b[0m\n\u001b[0;32m      1\u001b[0m \u001b[38;5;66;03m# import EarlyStopping\u001b[39;00m\n\u001b[0;32m      2\u001b[0m \u001b[38;5;28;01mimport\u001b[39;00m \u001b[38;5;21;01mpytorchtools\u001b[39;00m\n\u001b[1;32m----> 3\u001b[0m \u001b[38;5;28;01mfrom\u001b[39;00m \u001b[38;5;21;01mpytorchtools\u001b[39;00m \u001b[38;5;28;01mimport\u001b[39;00m EarlyStopping\n",
      "\u001b[1;31mImportError\u001b[0m: cannot import name 'EarlyStopping' from 'pytorchtools' (C:\\Users\\samue\\anaconda3\\envs\\venv_py39\\lib\\site-packages\\pytorchtools\\__init__.py)"
     ]
    }
   ],
   "source": [
    "#definimos el valor por defecto del best_val_loss (que es el parámetro que vamos a monitorizar)\n",
    "#le damos valor infinito\n",
    "best_val_loss = float('inf')\n",
    "#creamos también una variable para almacenar el mejor modelo hasta el momento\n",
    "best_model_params = None\n",
    "#iniciamos también un contador, para poder aplicar earlystopping con la paciencia deseada\n",
    "paciencia = 5\n",
    "contador = 0\n",
    "#definimos 2 listas en las que almacenaremos los valores de accuracy y loss de cada época para poder graficarlo posteriormente\n",
    "acc_graph = []\n",
    "loss_graph = []\n",
    "#definimos 2 listas en las que almacenaremos los valores de accuracy y loss de cada época para poder graficarlo posteriormente\n",
    "val_acc_graph = []\n",
    "val_loss_graph = []\n",
    "#capturamos el tiempo antes del entrenamiento\n",
    "inicio = time.time()\n",
    "#para entrenar el modelo vamos a iterar el número de épocas determinadas, calculando el valor de loss y accuracy para cada época\n",
    "for epoch in range(epocas):\n",
    "    #establecemos el número de predicciones correctas inicial a 0\n",
    "    correct = 0\n",
    "    #y cargamos las imágenes de entrenamiento y sus etiquetas usando la estructura Loader previamente creada\n",
    "    for data in train_loader:\n",
    "        inputs, labels = data\n",
    "        #establecemos a 0 los parámetros del modelo\n",
    "        optimizer.zero_grad()\n",
    "        #generamos las predicciones de los inputs\n",
    "        outputs = cnn(inputs)\n",
    "        #calculamos el loss, la desviación de las predicciones con respecto a las etiquetas\n",
    "        loss = criterion(outputs, labels)\n",
    "        #propagamos hacia atrás el valor loss\n",
    "        loss.backward()\n",
    "        #y modificamos los pesos en función del loss y la función optimizer\n",
    "        optimizer.step()\n",
    "        #actualizamos el número de predicciones correctas\n",
    "        _, predicted = torch.max(outputs.data, 1)\n",
    "        correct += (predicted == labels).sum().item()\n",
    "    \n",
    "    #una vez finalizada la época (que recorre todo el conjunto de imágenes) mostramos el valor del loss y del accuracy\n",
    "    print(f'Época {epoch +1}/{epocas} - Accuracy: {correct/len(OCT)} - Loss: {loss.data.item()}')\n",
    "    #añadimos los valores a la lista correspondiente\n",
    "    loss_graph.append(loss.data.item())\n",
    "    acc_graph.append(correct/len(OCT))\n",
    "    \n",
    "    #realizamos las iteraciones correspondientes a las imágenes de validación\n",
    "    #primero establecemos el valor del loss de validación a cero\n",
    "    val_loss = 0.0\n",
    "    for data in val_loader:\n",
    "        inputs, labels = data\n",
    "        outputs = cnn(inputs)\n",
    "        loss = criterion(outputs, labels)\n",
    "        val_loss += loss.item()\n",
    "        \n",
    "        _, predicted = torch.max(outputs.data, 1)\n",
    "        correct += (predicted == labels).sum().item()\n",
    "        \n",
    "    #una vez finalizada la época (que recorre todo el conjunto de imágenes) mostramos el valor del loss y del accuracy de validación\n",
    "    print(f'Época {epoch +1}/{epocas} - Val_accuracy: {correct/len(OCT)} - Val_loss: {loss.data.item()}')\n",
    "    #añadimos los valores a la lista correspondiente\n",
    "    val_loss_graph.append(loss.data.item())\n",
    "    val_acc_graph.append(correct/len(OCT))\n",
    "\n",
    "    if val_loss < best_val_loss:\n",
    "        best_model_params = cnn.state_dict()\n",
    "        best_val_loss = val_loss\n",
    "        contador = 0\n",
    "    else:\n",
    "        if contador == paciencia:\n",
    "            break\n",
    "        else:\n",
    "            contador += 1\n",
    "            \n",
    "#restauramos los pesos y el estado del último mejor valor\n",
    "cnn.load_state_dict(best_model_params)"
   ]
  },
  {
   "cell_type": "code",
   "execution_count": 22,
   "id": "eceb9a3d",
   "metadata": {},
   "outputs": [
    {
     "name": "stdout",
     "output_type": "stream",
     "text": [
      "Collecting pytorchtoolsNote: you may need to restart the kernel to use updated packages.\n",
      "  Downloading pytorchtools-0.0.2-py2.py3-none-any.whl (3.1 kB)\n",
      "Installing collected packages: pytorchtools\n",
      "\n"
     ]
    },
    {
     "name": "stderr",
     "output_type": "stream",
     "text": [
      "WARNING: Ignoring invalid distribution -rotobuf (c:\\users\\samue\\anaconda3\\envs\\venv_py39\\lib\\site-packages)\n",
      "WARNING: Ignoring invalid distribution -rotobuf (c:\\users\\samue\\anaconda3\\envs\\venv_py39\\lib\\site-packages)\n",
      "WARNING: Ignoring invalid distribution -rotobuf (c:\\users\\samue\\anaconda3\\envs\\venv_py39\\lib\\site-packages)\n",
      "WARNING: Ignoring invalid distribution -rotobuf (c:\\users\\samue\\anaconda3\\envs\\venv_py39\\lib\\site-packages)\n",
      "WARNING: Ignoring invalid distribution -rotobuf (c:\\users\\samue\\anaconda3\\envs\\venv_py39\\lib\\site-packages)\n",
      "WARNING: Ignoring invalid distribution -rotobuf (c:\\users\\samue\\anaconda3\\envs\\venv_py39\\lib\\site-packages)\n",
      "WARNING: Ignoring invalid distribution -rotobuf (c:\\users\\samue\\anaconda3\\envs\\venv_py39\\lib\\site-packages)\n"
     ]
    },
    {
     "name": "stdout",
     "output_type": "stream",
     "text": [
      "Successfully installed pytorchtools-0.0.2\n"
     ]
    }
   ],
   "source": []
  }
 ],
 "metadata": {
  "kernelspec": {
   "display_name": "Python 3 (ipykernel)",
   "language": "python",
   "name": "python3"
  },
  "language_info": {
   "codemirror_mode": {
    "name": "ipython",
    "version": 3
   },
   "file_extension": ".py",
   "mimetype": "text/x-python",
   "name": "python",
   "nbconvert_exporter": "python",
   "pygments_lexer": "ipython3",
   "version": "3.9.12"
  }
 },
 "nbformat": 4,
 "nbformat_minor": 5
}
