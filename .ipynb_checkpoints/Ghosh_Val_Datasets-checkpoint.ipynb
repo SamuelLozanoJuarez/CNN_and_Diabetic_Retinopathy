{
 "cells": [
  {
   "cell_type": "code",
   "execution_count": null,
   "id": "0afa6a8b",
   "metadata": {},
   "outputs": [],
   "source": [
    "'''\n",
    "#########################################################################################################################\n",
    "INFORMACIÓN DEL FICHERO\n",
    "#########################################################################################################################\n",
    "\n",
    "Autor: Samuel Lozano Juárez\n",
    "Fecha: 20/04/2023\n",
    "Institución: UBU | Grado en Ingeniería de la Salud\n",
    "\n",
    "Este archivo forma parte del Trabajo de Fin de Grado \"Detección del grado de retinopatía mediante redes convolucionales\".\n",
    "El alumno a cargo de este proyecto es el declarado como autor en las líneas anteriores.\n",
    "Los tutores del proyecto fueron el Dr. Darío Fernández Zoppino y el Dr. Daniel Urda Muñoz.\n",
    "\n",
    "A continuación se incluye el código que permite crear varios modelos según la arquitectura propuesta en el artículo de Ghosh, pero realizando las modificacionesdeseadas en los parámetros (número de capas convolucionales de la arquitectura, número de filtros por capa  y número de neuronas de las capas fully-connected).\n",
    "Para el entrenamiento se usará un conjunto de datos de validación y se empleará la estrategia de Early Stopping, para evitar el sobreentrenamiento.\n",
    "Todas estas arquitecturas serán entrenadas y testeadas, y sus resultados se almacenarán automáticamente en un archivo .csv llamado Resultados.\n",
    "Además también se guardarán el estado de los modelos (sus pesos) por si quisieran reutilizarse.\n",
    "'''\n",
    "\n",
    "#primero importamos todos los paquetes necesarios\n",
    "import torch #contiene todas las funciones de PyTorch\n",
    "import torch.nn as nn #contiene la clase padre de todos los modelos (nn.Module)\n",
    "import torch.nn.functional as F #esencial para la función de activación \n",
    "import torchvision #fundamental para la importación de imágenes\n",
    "import torchvision.transforms as transforms\n",
    "from torchvision.datasets import ImageFolder\n",
    "from torch.utils.data import DataLoader\n",
    "from matplotlib import pyplot as plt #para poder representar las gráficas\n",
    "import numpy as np #para las métricas de la red\n",
    "\n",
    "#importamos también las funcioness definidas para el entrenamiento y puesta a prueba de los modelos\n",
    "from modules.CNN_utilities import entrena_val, representa_test, obtiene_metricas, tester, guarda_graficas\n",
    "\n",
    "#importamos el paquete para el cálculo del tiempo\n",
    "import time\n",
    "\n",
    "#establecemos el tamaño del batch, la escala de las imágenes y el número de épocas de entrenamiento\n",
    "batch = 128\n",
    "#la arquitectura propuesta por Ghosh requiere una escala de 512, 512, 3\n",
    "escala = 512\n",
    "epocas = 150 #ya que tenemos activado el Early Stopping"
   ]
  }
 ],
 "metadata": {
  "kernelspec": {
   "display_name": "Python 3 (ipykernel)",
   "language": "python",
   "name": "python3"
  },
  "language_info": {
   "codemirror_mode": {
    "name": "ipython",
    "version": 3
   },
   "file_extension": ".py",
   "mimetype": "text/x-python",
   "name": "python",
   "nbconvert_exporter": "python",
   "pygments_lexer": "ipython3",
   "version": "3.9.12"
  }
 },
 "nbformat": 4,
 "nbformat_minor": 5
}
