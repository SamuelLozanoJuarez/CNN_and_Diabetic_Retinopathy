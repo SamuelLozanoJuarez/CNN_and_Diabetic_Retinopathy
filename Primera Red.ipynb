{
 "cells": [
  {
   "cell_type": "code",
   "execution_count": 15,
   "id": "613c0f1d",
   "metadata": {},
   "outputs": [],
   "source": [
    "#primero importamos todos las bibliotecas necesarias\n",
    "#importamos pytorch\n",
    "import torch\n",
    "#importamos el paquete de redes neuronales\n",
    "import torch.nn as nn\n",
    "import torch.nn.functional as F\n",
    "#importamos el paquete que permite cargar los datos\n",
    "from torch.utils.data import Dataset, Subset\n",
    "import torchvision\n",
    "from torchvision import datasets\n",
    "from torchvision.datasets import ImageFolder\n",
    "#importamos el paquete que permite el autoentrenamiento del modelo\n",
    "from torchvision.transforms import ToTensor\n",
    "#importamos los dataloaders\n",
    "from torch.utils.data import DataLoader\n",
    "#importamos la función de optimización\n",
    "from torch import optim\n",
    "#importamos el paquete para el entrenamiento de la red\n",
    "from torch.autograd import Variable"
   ]
  },
  {
   "cell_type": "code",
   "execution_count": 5,
   "id": "2e5ee118",
   "metadata": {},
   "outputs": [
    {
     "data": {
      "text/plain": [
       "device(type='cpu')"
      ]
     },
     "execution_count": 5,
     "metadata": {},
     "output_type": "execute_result"
    }
   ],
   "source": [
    "#establecemos el dispositivo a usar (cpu o gpu)\n",
    "device = torch.device('cuda' if torch.cuda.is_available() else 'cpu')\n",
    "device"
   ]
  },
  {
   "cell_type": "code",
   "execution_count": 10,
   "id": "1d7e348f",
   "metadata": {},
   "outputs": [],
   "source": [
    "#cargamos las imágenes del directorio que emplearemos para el entrenamiento\n",
    "OCT = ImageFolder(root='Datos/Processed Data/OCT')"
   ]
  },
  {
   "cell_type": "code",
   "execution_count": 17,
   "id": "6e42c4f0",
   "metadata": {},
   "outputs": [],
   "source": [
    "#realizamos la división de las imágenes de entrenamiento en un 80% para train y un 20% para validation\n",
    "n = len(OCT)\n",
    "n_val = int(0.2*n)\n",
    "OCT_train = Subset(OCT, range(n_val,n))\n",
    "OCT_val = Subset(OCT, range(n_val))"
   ]
  },
  {
   "cell_type": "code",
   "execution_count": 19,
   "id": "4d58d1c6",
   "metadata": {},
   "outputs": [
    {
     "name": "stdout",
     "output_type": "stream",
     "text": [
      "Longitud del conjunto de train: 91\n",
      "Longitud del conjunto de validation: 22\n"
     ]
    }
   ],
   "source": [
    "#comprobamos que las dimensiones del conjunto de train y validation son las adecuadas\n",
    "print(f'Longitud del conjunto de train: {len(OCT_train)}')\n",
    "print(f'Longitud del conjunto de validation: {len(OCT_val)}')"
   ]
  },
  {
   "cell_type": "code",
   "execution_count": 20,
   "id": "ffb4b0cf",
   "metadata": {},
   "outputs": [],
   "source": [
    "#definimos los dos conjuntos de test\n",
    "Samsung_test = ImageFolder(root='Datos/Processed Data/Samsung')\n",
    "iPhone_test = ImageFolder(root='Datos/Processed Data/iPhone')"
   ]
  },
  {
   "cell_type": "code",
   "execution_count": 21,
   "id": "3aea97c5",
   "metadata": {},
   "outputs": [
    {
     "name": "stdout",
     "output_type": "stream",
     "text": [
      "Longitud del conjunto de test de Samsung: 93\n",
      "Longitud del conjunto de test de iPhone: 99\n"
     ]
    }
   ],
   "source": [
    "#y observamos sus dimensiones\n",
    "print(f'Longitud del conjunto de test de Samsung: {len(Samsung_test)}')\n",
    "print(f'Longitud del conjunto de test de iPhone: {len(iPhone_test)}')"
   ]
  }
 ],
 "metadata": {
  "kernelspec": {
   "display_name": "Python 3 (ipykernel)",
   "language": "python",
   "name": "python3"
  },
  "language_info": {
   "codemirror_mode": {
    "name": "ipython",
    "version": 3
   },
   "file_extension": ".py",
   "mimetype": "text/x-python",
   "name": "python",
   "nbconvert_exporter": "python",
   "pygments_lexer": "ipython3",
   "version": "3.9.12"
  }
 },
 "nbformat": 4,
 "nbformat_minor": 5
}
