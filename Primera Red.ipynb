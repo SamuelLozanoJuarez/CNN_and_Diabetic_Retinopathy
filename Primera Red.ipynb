{
 "cells": [
  {
   "cell_type": "code",
   "execution_count": 26,
   "id": "613c0f1d",
   "metadata": {},
   "outputs": [],
   "source": [
    "#primero importamos todos las bibliotecas necesarias\n",
    "#importamos pytorch\n",
    "import torch\n",
    "#importamos el paquete de redes neuronales\n",
    "import torch.nn as nn\n",
    "import torch.nn.functional as F\n",
    "#importamos el paquete que permite cargar los datos\n",
    "from torch.utils.data import Dataset, Subset\n",
    "import torchvision\n",
    "from torchvision import datasets, transforms\n",
    "from torchvision.datasets import ImageFolder\n",
    "#importamos el paquete que permite el autoentrenamiento del modelo\n",
    "from torchvision.transforms import ToTensor\n",
    "#importamos los dataloaders\n",
    "from torch.utils.data import DataLoader\n",
    "#importamos la función de optimización\n",
    "from torch import optim\n",
    "#importamos el paquete para el entrenamiento de la red\n",
    "from torch.autograd import Variable"
   ]
  },
  {
   "cell_type": "code",
   "execution_count": 11,
   "id": "2e5ee118",
   "metadata": {},
   "outputs": [],
   "source": [
    "#establecemos el dispositivo a usar (cpu o gpu)\n",
    "device = torch.device('cuda' if torch.cuda.is_available() else 'cpu')"
   ]
  },
  {
   "cell_type": "code",
   "execution_count": 38,
   "id": "f0e4bac0",
   "metadata": {},
   "outputs": [],
   "source": [
    "#antes de cargar los datos debemos definir un transformador que nos permita convertir las imágenes de formato PIL a formato Tensor\n",
    "transform = transforms.Compose(\n",
    "    [transforms.ToTensor(),\n",
    "     transforms.Normalize((0.5, 0.5, 0.5), (0.5, 0.5, 0.5))])"
   ]
  },
  {
   "cell_type": "code",
   "execution_count": 39,
   "id": "1d7e348f",
   "metadata": {},
   "outputs": [],
   "source": [
    "#cargamos las imágenes del directorio que emplearemos para el entrenamiento\n",
    "OCT = ImageFolder(root='Datos/Processed Data/OCT', transform = transforms)"
   ]
  },
  {
   "cell_type": "code",
   "execution_count": 40,
   "id": "6e42c4f0",
   "metadata": {},
   "outputs": [],
   "source": [
    "#realizamos la división de las imágenes de entrenamiento en un 80% para train y un 20% para validation\n",
    "n = len(OCT)\n",
    "n_val = int(0.2*n)\n",
    "OCT_train = Subset(OCT, range(n_val,n))\n",
    "OCT_val = Subset(OCT, range(n_val))"
   ]
  },
  {
   "cell_type": "code",
   "execution_count": 41,
   "id": "4d58d1c6",
   "metadata": {},
   "outputs": [
    {
     "name": "stdout",
     "output_type": "stream",
     "text": [
      "Longitud del conjunto de train: 91\n",
      "Longitud del conjunto de validation: 22\n"
     ]
    }
   ],
   "source": [
    "#comprobamos que las dimensiones del conjunto de train y validation son las adecuadas\n",
    "print(f'Longitud del conjunto de train: {len(OCT_train)}')\n",
    "print(f'Longitud del conjunto de validation: {len(OCT_val)}')"
   ]
  },
  {
   "cell_type": "code",
   "execution_count": 42,
   "id": "ffb4b0cf",
   "metadata": {},
   "outputs": [],
   "source": [
    "#definimos los dos conjuntos de test\n",
    "Samsung_test = ImageFolder(root='Datos/Processed Data/Samsung', transform = transforms)\n",
    "iPhone_test = ImageFolder(root='Datos/Processed Data/iPhone', transform = transforms)"
   ]
  },
  {
   "cell_type": "code",
   "execution_count": 43,
   "id": "3aea97c5",
   "metadata": {},
   "outputs": [
    {
     "name": "stdout",
     "output_type": "stream",
     "text": [
      "Longitud del conjunto de test de Samsung: 93\n",
      "Longitud del conjunto de test de iPhone: 99\n"
     ]
    }
   ],
   "source": [
    "#y observamos sus dimensiones\n",
    "print(f'Longitud del conjunto de test de Samsung: {len(Samsung_test)}')\n",
    "print(f'Longitud del conjunto de test de iPhone: {len(iPhone_test)}')"
   ]
  },
  {
   "cell_type": "code",
   "execution_count": 62,
   "id": "28872429",
   "metadata": {},
   "outputs": [],
   "source": [
    "#a continuación debemos definir las funciones de carga de las imágenes\n",
    "#vamos a establecer un tamaño de batch de 16 (ya que son pocas imágenes)\n",
    "train_loader = DataLoader(dataset = OCT_train, batch_size = 16, shuffle = True, num_workers = 2)#genera subprocesos para cargar los datos y así liberamos el proceso main\n",
    "\n",
    "val_loader = DataLoader(dataset = OCT_val, batch_size = 16, shuffle = True, num_workers = 2)\n",
    "\n",
    "test_iPhone = DataLoader(dataset = iPhone_test, batch_size = 16, shuffle = True, num_workers = 2)\n",
    "                         \n",
    "test_Samsung = DataLoader(dataset = Samsung_test, batch_size = 16, shuffle = True, num_workers = 2)"
   ]
  },
  {
   "cell_type": "code",
   "execution_count": 54,
   "id": "97785071",
   "metadata": {},
   "outputs": [],
   "source": [
    "#definimos el conjunto de etiquetas\n",
    "classes = OCT.classes"
   ]
  },
  {
   "cell_type": "code",
   "execution_count": 55,
   "id": "e0980a6c",
   "metadata": {},
   "outputs": [],
   "source": [
    "#a continuación definimos la clase que contiene las capas, la arquitectura, del modelo\n",
    "#vamos a comenzar con una arquitectura básica\n",
    "#nuestra red hereda los atributos y funciones de la clase nn.Module\n",
    "class CNN(nn.Module):\n",
    "    def __init__(self):\n",
    "        #extiende la función init de la clase nn.Module\n",
    "        super(CNN, self).__init__()\n",
    "        \n",
    "        #definimos la primera capa, formada por una capa convolucional 2D, una ReLU y una maxpool\n",
    "        self.conv1 = nn.Sequential(\n",
    "            #capa convolucional\n",
    "            nn.Conv2d(\n",
    "                in_channels = 3,\n",
    "                out_channels = 16, #se trata del número de salidas de la capa. Puede tratarse de un valor arbitrario\n",
    "                kernel_size = 5, #suele tratarse de un número impar\n",
    "                stride = 1, #cantidad píxeles que se desplaza el filtro sobre la imagen\n",
    "                padding = 0, #cantidad de relleno que se va a aplicar sobre los bordes de la imagen\n",
    "            ),\n",
    "            \n",
    "            #capa ReLU, simplifica los datos. Interpreta los valores positivos como son, y los negativos los torna 0\n",
    "            #permite acelerar el entrenamiento\n",
    "            nn.ReLU(),\n",
    "            \n",
    "            #capa de MaxPooling, reduce las dimensiones de los datos, seleccionando el valor máximo del kernel.\n",
    "            nn.MaxPool2d(kernel_size=2)#cuanto mayor tamaño de kernel, mayor simplificación de los datos\n",
    "        )\n",
    "        \n",
    "        #definimos la segunda capa, formada por los mismos componentes\n",
    "        self.conv2 = nn.Sequential(\n",
    "            #capa convolucional\n",
    "            nn.Conv2d(\n",
    "                in_channels = 16,\n",
    "                out_channels = 32,\n",
    "                kernel_size = 5,\n",
    "                stride = 1,\n",
    "                padding = 0\n",
    "            ),\n",
    "            \n",
    "            #capa de ReLU\n",
    "            nn.ReLU(),\n",
    "            \n",
    "            #capa de MaxPooling\n",
    "            nn.MaxPool2d(kernel_size = 2)\n",
    "        )\n",
    "        \n",
    "        #tras las 2 capas (que en verdad son 6) definimos una fully-connected, que es una red neuronal que en este caso tendrá 5 salidas (pues tenemos 5 posibles clases)\n",
    "        self.out = nn.Linear(32*7*7,5)\n",
    "        \n",
    "        #definimos la función forward, que es la que llamará a las capas creadas y obtendrá las predicciones.\n",
    "        #recibe como parámetro el batch de imágenes\n",
    "        def forward(self,x):\n",
    "            #primero las dos estructuras convolucionales\n",
    "            x = self.conv1(x)\n",
    "            x = self.conv2(x)\n",
    "            #después aplanamos la salida, hasta convertirla de forma matricial a forma vectorial (sería la capa flatten)\n",
    "            x = x.view(x.size(0),-1)\n",
    "            #y por último la salida, la predicción\n",
    "            output = self.out(x)\n",
    "            #no incluimos una capa de LogSoft, que convierte el output en probabilidad, ya que la función loss que usaremos incluye esta funcionalidad\n",
    "            return output, x"
   ]
  },
  {
   "cell_type": "code",
   "execution_count": 56,
   "id": "ab9408e7",
   "metadata": {},
   "outputs": [
    {
     "name": "stdout",
     "output_type": "stream",
     "text": [
      "CNN(\n",
      "  (conv1): Sequential(\n",
      "    (0): Conv2d(3, 16, kernel_size=(5, 5), stride=(1, 1))\n",
      "    (1): ReLU()\n",
      "    (2): MaxPool2d(kernel_size=2, stride=2, padding=0, dilation=1, ceil_mode=False)\n",
      "  )\n",
      "  (conv2): Sequential(\n",
      "    (0): Conv2d(16, 32, kernel_size=(5, 5), stride=(1, 1))\n",
      "    (1): ReLU()\n",
      "    (2): MaxPool2d(kernel_size=2, stride=2, padding=0, dilation=1, ceil_mode=False)\n",
      "  )\n",
      "  (out): Linear(in_features=1568, out_features=5, bias=True)\n",
      ")\n"
     ]
    }
   ],
   "source": [
    "#una vez definida la clase vamos a crear la instancia y visualizar su contenido\n",
    "cnn = CNN()\n",
    "print(cnn)"
   ]
  },
  {
   "cell_type": "code",
   "execution_count": 57,
   "id": "c4017651",
   "metadata": {},
   "outputs": [],
   "source": [
    "#a continuación definimos la función que permite calcular el loss y el optimizador\n",
    "loss = nn.CrossEntropyLoss()\n",
    "\n",
    "optimizer = optim.Adam(cnn.parameters(), lr = 0.01)"
   ]
  },
  {
   "cell_type": "code",
   "execution_count": 49,
   "id": "a9ff278d",
   "metadata": {},
   "outputs": [],
   "source": [
    "#por último debemos entrenar la red creada y obtener sus métricas de rendimiento. \n",
    "#Para ello definimos una función que ejecuta el entrenamiento de 1 época\n"
   ]
  },
  {
   "cell_type": "code",
   "execution_count": 71,
   "id": "df770405",
   "metadata": {},
   "outputs": [
    {
     "ename": "TypeError",
     "evalue": "cannot pickle 'module' object",
     "output_type": "error",
     "traceback": [
      "\u001b[1;31m---------------------------------------------------------------------------\u001b[0m",
      "\u001b[1;31mTypeError\u001b[0m                                 Traceback (most recent call last)",
      "Input \u001b[1;32mIn [71]\u001b[0m, in \u001b[0;36m<cell line: 1>\u001b[1;34m()\u001b[0m\n\u001b[1;32m----> 1\u001b[0m \u001b[38;5;28;01mfor\u001b[39;00m i,j \u001b[38;5;129;01min\u001b[39;00m \u001b[38;5;28;43menumerate\u001b[39;49m\u001b[43m(\u001b[49m\u001b[43mtrain_loader\u001b[49m\u001b[43m)\u001b[49m:\n\u001b[0;32m      2\u001b[0m     \u001b[38;5;28mprint\u001b[39m(i)\n",
      "File \u001b[1;32m~\\anaconda3\\envs\\venv_py39\\lib\\site-packages\\torch\\utils\\data\\dataloader.py:435\u001b[0m, in \u001b[0;36mDataLoader.__iter__\u001b[1;34m(self)\u001b[0m\n\u001b[0;32m    433\u001b[0m     \u001b[38;5;28;01mreturn\u001b[39;00m \u001b[38;5;28mself\u001b[39m\u001b[38;5;241m.\u001b[39m_iterator\n\u001b[0;32m    434\u001b[0m \u001b[38;5;28;01melse\u001b[39;00m:\n\u001b[1;32m--> 435\u001b[0m     \u001b[38;5;28;01mreturn\u001b[39;00m \u001b[38;5;28;43mself\u001b[39;49m\u001b[38;5;241;43m.\u001b[39;49m\u001b[43m_get_iterator\u001b[49m\u001b[43m(\u001b[49m\u001b[43m)\u001b[49m\n",
      "File \u001b[1;32m~\\anaconda3\\envs\\venv_py39\\lib\\site-packages\\torch\\utils\\data\\dataloader.py:381\u001b[0m, in \u001b[0;36mDataLoader._get_iterator\u001b[1;34m(self)\u001b[0m\n\u001b[0;32m    379\u001b[0m \u001b[38;5;28;01melse\u001b[39;00m:\n\u001b[0;32m    380\u001b[0m     \u001b[38;5;28mself\u001b[39m\u001b[38;5;241m.\u001b[39mcheck_worker_number_rationality()\n\u001b[1;32m--> 381\u001b[0m     \u001b[38;5;28;01mreturn\u001b[39;00m \u001b[43m_MultiProcessingDataLoaderIter\u001b[49m\u001b[43m(\u001b[49m\u001b[38;5;28;43mself\u001b[39;49m\u001b[43m)\u001b[49m\n",
      "File \u001b[1;32m~\\anaconda3\\envs\\venv_py39\\lib\\site-packages\\torch\\utils\\data\\dataloader.py:1034\u001b[0m, in \u001b[0;36m_MultiProcessingDataLoaderIter.__init__\u001b[1;34m(self, loader)\u001b[0m\n\u001b[0;32m   1027\u001b[0m w\u001b[38;5;241m.\u001b[39mdaemon \u001b[38;5;241m=\u001b[39m \u001b[38;5;28;01mTrue\u001b[39;00m\n\u001b[0;32m   1028\u001b[0m \u001b[38;5;66;03m# NB: Process.start() actually take some time as it needs to\u001b[39;00m\n\u001b[0;32m   1029\u001b[0m \u001b[38;5;66;03m#     start a process and pass the arguments over via a pipe.\u001b[39;00m\n\u001b[0;32m   1030\u001b[0m \u001b[38;5;66;03m#     Therefore, we only add a worker to self._workers list after\u001b[39;00m\n\u001b[0;32m   1031\u001b[0m \u001b[38;5;66;03m#     it started, so that we do not call .join() if program dies\u001b[39;00m\n\u001b[0;32m   1032\u001b[0m \u001b[38;5;66;03m#     before it starts, and __del__ tries to join but will get:\u001b[39;00m\n\u001b[0;32m   1033\u001b[0m \u001b[38;5;66;03m#     AssertionError: can only join a started process.\u001b[39;00m\n\u001b[1;32m-> 1034\u001b[0m \u001b[43mw\u001b[49m\u001b[38;5;241;43m.\u001b[39;49m\u001b[43mstart\u001b[49m\u001b[43m(\u001b[49m\u001b[43m)\u001b[49m\n\u001b[0;32m   1035\u001b[0m \u001b[38;5;28mself\u001b[39m\u001b[38;5;241m.\u001b[39m_index_queues\u001b[38;5;241m.\u001b[39mappend(index_queue)\n\u001b[0;32m   1036\u001b[0m \u001b[38;5;28mself\u001b[39m\u001b[38;5;241m.\u001b[39m_workers\u001b[38;5;241m.\u001b[39mappend(w)\n",
      "File \u001b[1;32m~\\anaconda3\\envs\\venv_py39\\lib\\multiprocessing\\process.py:121\u001b[0m, in \u001b[0;36mBaseProcess.start\u001b[1;34m(self)\u001b[0m\n\u001b[0;32m    118\u001b[0m \u001b[38;5;28;01massert\u001b[39;00m \u001b[38;5;129;01mnot\u001b[39;00m _current_process\u001b[38;5;241m.\u001b[39m_config\u001b[38;5;241m.\u001b[39mget(\u001b[38;5;124m'\u001b[39m\u001b[38;5;124mdaemon\u001b[39m\u001b[38;5;124m'\u001b[39m), \\\n\u001b[0;32m    119\u001b[0m        \u001b[38;5;124m'\u001b[39m\u001b[38;5;124mdaemonic processes are not allowed to have children\u001b[39m\u001b[38;5;124m'\u001b[39m\n\u001b[0;32m    120\u001b[0m _cleanup()\n\u001b[1;32m--> 121\u001b[0m \u001b[38;5;28mself\u001b[39m\u001b[38;5;241m.\u001b[39m_popen \u001b[38;5;241m=\u001b[39m \u001b[38;5;28;43mself\u001b[39;49m\u001b[38;5;241;43m.\u001b[39;49m\u001b[43m_Popen\u001b[49m\u001b[43m(\u001b[49m\u001b[38;5;28;43mself\u001b[39;49m\u001b[43m)\u001b[49m\n\u001b[0;32m    122\u001b[0m \u001b[38;5;28mself\u001b[39m\u001b[38;5;241m.\u001b[39m_sentinel \u001b[38;5;241m=\u001b[39m \u001b[38;5;28mself\u001b[39m\u001b[38;5;241m.\u001b[39m_popen\u001b[38;5;241m.\u001b[39msentinel\n\u001b[0;32m    123\u001b[0m \u001b[38;5;66;03m# Avoid a refcycle if the target function holds an indirect\u001b[39;00m\n\u001b[0;32m    124\u001b[0m \u001b[38;5;66;03m# reference to the process object (see bpo-30775)\u001b[39;00m\n",
      "File \u001b[1;32m~\\anaconda3\\envs\\venv_py39\\lib\\multiprocessing\\context.py:224\u001b[0m, in \u001b[0;36mProcess._Popen\u001b[1;34m(process_obj)\u001b[0m\n\u001b[0;32m    222\u001b[0m \u001b[38;5;129m@staticmethod\u001b[39m\n\u001b[0;32m    223\u001b[0m \u001b[38;5;28;01mdef\u001b[39;00m \u001b[38;5;21m_Popen\u001b[39m(process_obj):\n\u001b[1;32m--> 224\u001b[0m     \u001b[38;5;28;01mreturn\u001b[39;00m \u001b[43m_default_context\u001b[49m\u001b[38;5;241;43m.\u001b[39;49m\u001b[43mget_context\u001b[49m\u001b[43m(\u001b[49m\u001b[43m)\u001b[49m\u001b[38;5;241;43m.\u001b[39;49m\u001b[43mProcess\u001b[49m\u001b[38;5;241;43m.\u001b[39;49m\u001b[43m_Popen\u001b[49m\u001b[43m(\u001b[49m\u001b[43mprocess_obj\u001b[49m\u001b[43m)\u001b[49m\n",
      "File \u001b[1;32m~\\anaconda3\\envs\\venv_py39\\lib\\multiprocessing\\context.py:327\u001b[0m, in \u001b[0;36mSpawnProcess._Popen\u001b[1;34m(process_obj)\u001b[0m\n\u001b[0;32m    324\u001b[0m \u001b[38;5;129m@staticmethod\u001b[39m\n\u001b[0;32m    325\u001b[0m \u001b[38;5;28;01mdef\u001b[39;00m \u001b[38;5;21m_Popen\u001b[39m(process_obj):\n\u001b[0;32m    326\u001b[0m     \u001b[38;5;28;01mfrom\u001b[39;00m \u001b[38;5;21;01m.\u001b[39;00m\u001b[38;5;21;01mpopen_spawn_win32\u001b[39;00m \u001b[38;5;28;01mimport\u001b[39;00m Popen\n\u001b[1;32m--> 327\u001b[0m     \u001b[38;5;28;01mreturn\u001b[39;00m \u001b[43mPopen\u001b[49m\u001b[43m(\u001b[49m\u001b[43mprocess_obj\u001b[49m\u001b[43m)\u001b[49m\n",
      "File \u001b[1;32m~\\anaconda3\\envs\\venv_py39\\lib\\multiprocessing\\popen_spawn_win32.py:93\u001b[0m, in \u001b[0;36mPopen.__init__\u001b[1;34m(self, process_obj)\u001b[0m\n\u001b[0;32m     91\u001b[0m \u001b[38;5;28;01mtry\u001b[39;00m:\n\u001b[0;32m     92\u001b[0m     reduction\u001b[38;5;241m.\u001b[39mdump(prep_data, to_child)\n\u001b[1;32m---> 93\u001b[0m     \u001b[43mreduction\u001b[49m\u001b[38;5;241;43m.\u001b[39;49m\u001b[43mdump\u001b[49m\u001b[43m(\u001b[49m\u001b[43mprocess_obj\u001b[49m\u001b[43m,\u001b[49m\u001b[43m \u001b[49m\u001b[43mto_child\u001b[49m\u001b[43m)\u001b[49m\n\u001b[0;32m     94\u001b[0m \u001b[38;5;28;01mfinally\u001b[39;00m:\n\u001b[0;32m     95\u001b[0m     set_spawning_popen(\u001b[38;5;28;01mNone\u001b[39;00m)\n",
      "File \u001b[1;32m~\\anaconda3\\envs\\venv_py39\\lib\\multiprocessing\\reduction.py:60\u001b[0m, in \u001b[0;36mdump\u001b[1;34m(obj, file, protocol)\u001b[0m\n\u001b[0;32m     58\u001b[0m \u001b[38;5;28;01mdef\u001b[39;00m \u001b[38;5;21mdump\u001b[39m(obj, file, protocol\u001b[38;5;241m=\u001b[39m\u001b[38;5;28;01mNone\u001b[39;00m):\n\u001b[0;32m     59\u001b[0m     \u001b[38;5;124;03m'''Replacement for pickle.dump() using ForkingPickler.'''\u001b[39;00m\n\u001b[1;32m---> 60\u001b[0m     \u001b[43mForkingPickler\u001b[49m\u001b[43m(\u001b[49m\u001b[43mfile\u001b[49m\u001b[43m,\u001b[49m\u001b[43m \u001b[49m\u001b[43mprotocol\u001b[49m\u001b[43m)\u001b[49m\u001b[38;5;241;43m.\u001b[39;49m\u001b[43mdump\u001b[49m\u001b[43m(\u001b[49m\u001b[43mobj\u001b[49m\u001b[43m)\u001b[49m\n",
      "\u001b[1;31mTypeError\u001b[0m: cannot pickle 'module' object"
     ]
    }
   ],
   "source": [
    "for i,j in enumerate(train_loader):\n",
    "    print(i)"
   ]
  }
 ],
 "metadata": {
  "kernelspec": {
   "display_name": "Python 3 (ipykernel)",
   "language": "python",
   "name": "python3"
  },
  "language_info": {
   "codemirror_mode": {
    "name": "ipython",
    "version": 3
   },
   "file_extension": ".py",
   "mimetype": "text/x-python",
   "name": "python",
   "nbconvert_exporter": "python",
   "pygments_lexer": "ipython3",
   "version": "3.9.12"
  }
 },
 "nbformat": 4,
 "nbformat_minor": 5
}
