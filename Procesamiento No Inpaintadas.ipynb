{
 "cells": [
  {
   "cell_type": "code",
   "execution_count": 5,
   "id": "47fb0079",
   "metadata": {},
   "outputs": [],
   "source": [
    "import cv2\n",
    "import PIL\n",
    "import numpy as np\n",
    "import os\n",
    "\n",
    "from PIL import Image"
   ]
  },
  {
   "cell_type": "code",
   "execution_count": 2,
   "id": "2ffa0aa4",
   "metadata": {},
   "outputs": [],
   "source": [
    "def crop_image_from_gray(img,tol=7):\n",
    "    if img.ndim ==2:\n",
    "        mask = img>tol\n",
    "        return img[np.ix_(mask.any(1),mask.any(0))]\n",
    "    elif img.ndim==3:\n",
    "        gray_img = cv2.cvtColor(img, cv2.COLOR_RGB2GRAY)\n",
    "        mask = gray_img>tol\n",
    "        \n",
    "        check_shape = img[:,:,0][np.ix_(mask.any(1),mask.any(0))].shape[0]\n",
    "        if (check_shape == 0):\n",
    "            return img\n",
    "        else:\n",
    "            img1=img[:,:,0][np.ix_(mask.any(1),mask.any(0))]\n",
    "            img2=img[:,:,1][np.ix_(mask.any(1),mask.any(0))]\n",
    "            img3=img[:,:,2][np.ix_(mask.any(1),mask.any(0))]\n",
    "            img = np.stack([img1,img2,img3],axis=-1)\n",
    "        return img"
   ]
  },
  {
   "cell_type": "code",
   "execution_count": 3,
   "id": "7df8ad86",
   "metadata": {},
   "outputs": [],
   "source": [
    "def circle_crop(img, sigmaX):   \n",
    "    \"\"\"\n",
    "    Create circular crop around image centre    \n",
    "    \"\"\"    \n",
    "    img = crop_image_from_gray(img)    \n",
    "    img = cv2.cvtColor(img, cv2.COLOR_BGR2RGB)\n",
    "    \n",
    "    height, width, depth = img.shape    \n",
    "    \n",
    "    x = int(width/2)\n",
    "    y = int(height/2)\n",
    "    r = np.amin((x,y))\n",
    "    \n",
    "    circle_img = np.zeros((height, width), np.uint8)\n",
    "    cv2.circle(circle_img, (x,y), int(r), 1, thickness=-1)\n",
    "    img = cv2.bitwise_and(img, img, mask=circle_img)\n",
    "    img = crop_image_from_gray(img)\n",
    "    img=cv2.addWeighted(img,4, cv2.GaussianBlur( img , (0,0) , sigmaX) ,-4 ,128)\n",
    "    return img "
   ]
  },
  {
   "cell_type": "code",
   "execution_count": 9,
   "id": "727ffa1a",
   "metadata": {},
   "outputs": [],
   "source": [
    "for grado in os.listdir('No Inpainting/No_Proc/iPhone'):\n",
    "    for i in os.listdir('No Inpainting/No_Proc/iPhone/' + grado):\n",
    "        img = cv2.imread('No Inpainting/No_Proc/iPhone/' + grado + '/' + i)\n",
    "        img = cv2.cvtColor(img, cv2.COLOR_BGR2RGB)\n",
    "        img_t = circle_crop(img, 30)\n",
    "        image = Image.fromarray(img_t, 'RGB')\n",
    "        image.save('No Inpainting/Procesadas/iPhone/' + grado + '/' + i)"
   ]
  },
  {
   "cell_type": "code",
   "execution_count": 10,
   "id": "f546e8a6",
   "metadata": {},
   "outputs": [],
   "source": [
    "for grado in os.listdir('No Inpainting/No_Proc/Samsung'):\n",
    "    for i in os.listdir('No Inpainting/No_Proc/Samsung/' + grado):\n",
    "        img = cv2.imread('No Inpainting/No_Proc/Samsung/' + grado + '/' + i)\n",
    "        img = cv2.cvtColor(img, cv2.COLOR_BGR2RGB)\n",
    "        img_t = circle_crop(img, 30)\n",
    "        image = Image.fromarray(img_t, 'RGB')\n",
    "        image.save('No Inpainting/Procesadas/Samsung/' + grado + '/' + i)"
   ]
  }
 ],
 "metadata": {
  "kernelspec": {
   "display_name": "Python 3 (ipykernel)",
   "language": "python",
   "name": "python3"
  },
  "language_info": {
   "codemirror_mode": {
    "name": "ipython",
    "version": 3
   },
   "file_extension": ".py",
   "mimetype": "text/x-python",
   "name": "python",
   "nbconvert_exporter": "python",
   "pygments_lexer": "ipython3",
   "version": "3.9.12"
  }
 },
 "nbformat": 4,
 "nbformat_minor": 5
}
