{
 "cells": [
  {
   "cell_type": "markdown",
   "id": "7e5ec6cd",
   "metadata": {},
   "source": [
    "## Organización de las imágenes Inpaintadas (sin procesar) en el árbol de subdirectorios"
   ]
  },
  {
   "cell_type": "markdown",
   "id": "31622d10",
   "metadata": {},
   "source": [
    "Voy a aprovechar la estructura de directorios que ya tengo creada para el TFG y simplemente mover los ficheros para replicar esa misma estructura."
   ]
  },
  {
   "cell_type": "code",
   "execution_count": 1,
   "id": "1cddff3b",
   "metadata": {},
   "outputs": [],
   "source": [
    "import os\n",
    "import shutil"
   ]
  },
  {
   "cell_type": "markdown",
   "id": "3f76b16f",
   "metadata": {},
   "source": [
    "Primero vamos a obtener una lista con el nombre de las imágenes de cada subdirectorio, para después poder organizar las que tenemos disponibles en nuestro repositorio (de OCT no hace falta ya que simplemente copiaremos y pegaremos las imágenes del directorio del OCT de TFG a este). "
   ]
  },
  {
   "cell_type": "code",
   "execution_count": 10,
   "id": "b04945f2",
   "metadata": {},
   "outputs": [],
   "source": [
    "samsung_G1 = os.listdir('../TFG/CNN_and_Diabetic_Retinopathy/Datos/Processed Data/Samsung/G1')\n",
    "samsung_G2 = os.listdir('../TFG/CNN_and_Diabetic_Retinopathy/Datos/Processed Data/Samsung/G2')\n",
    "samsung_G3 = os.listdir('../TFG/CNN_and_Diabetic_Retinopathy/Datos/Processed Data/Samsung/G3')\n",
    "samsung_G4 = os.listdir('../TFG/CNN_and_Diabetic_Retinopathy/Datos/Processed Data/Samsung/G4')\n",
    "samsung_G5 = os.listdir('../TFG/CNN_and_Diabetic_Retinopathy/Datos/Processed Data/Samsung/G5')"
   ]
  },
  {
   "cell_type": "code",
   "execution_count": 13,
   "id": "3a792929",
   "metadata": {},
   "outputs": [],
   "source": [
    "iphone_G1 = os.listdir('../TFG/CNN_and_Diabetic_Retinopathy/Datos/Processed Data/iPhone/G1')\n",
    "iphone_G2 = os.listdir('../TFG/CNN_and_Diabetic_Retinopathy/Datos/Processed Data/iPhone/G2')\n",
    "iphone_G3 = os.listdir('../TFG/CNN_and_Diabetic_Retinopathy/Datos/Processed Data/iPhone/G3')\n",
    "iphone_G4 = os.listdir('../TFG/CNN_and_Diabetic_Retinopathy/Datos/Processed Data/iPhone/G4')\n",
    "iphone_G5 = os.listdir('../TFG/CNN_and_Diabetic_Retinopathy/Datos/Processed Data/iPhone/G5')"
   ]
  },
  {
   "cell_type": "markdown",
   "id": "4f624f50",
   "metadata": {},
   "source": [
    "Posteriormente debemos obtener un listado con todas las imágenes _inpaintadas_ de Samsung y de iPhone, para poder moverlas a la carpeta correspondiente."
   ]
  },
  {
   "cell_type": "code",
   "execution_count": 22,
   "id": "c80cf5b4",
   "metadata": {},
   "outputs": [],
   "source": [
    "samsung = os.listdir('Datos_INP/FOTOS Samsung')\n",
    "iphone = os.listdir('Datos_INP/FOTOS iPhone')"
   ]
  },
  {
   "cell_type": "markdown",
   "id": "37e7d5f1",
   "metadata": {},
   "source": [
    "Por último, recorremos todos los nombres de los archivos de Samsung y de iPhone _inpaintados_, y según a qué subdirectorio pertenezcan los movemos."
   ]
  },
  {
   "cell_type": "code",
   "execution_count": 24,
   "id": "b35157c9",
   "metadata": {},
   "outputs": [],
   "source": [
    "for i in samsung:\n",
    "    if i in samsung_G1:\n",
    "        shutil.move('Datos_INP/FOTOS Samsung/' + i, 'Images/Samsung/G1/' + i)\n",
    "    elif i in samsung_G2:\n",
    "        shutil.move('Datos_INP/FOTOS Samsung/' + i, 'Images/Samsung/G2/' + i)\n",
    "    elif i in samsung_G3:\n",
    "        shutil.move('Datos_INP/FOTOS Samsung/' + i, 'Images/Samsung/G3/' + i)\n",
    "    elif i in samsung_G4:\n",
    "        shutil.move('Datos_INP/FOTOS Samsung/' + i, 'Images/Samsung/G4/' + i)\n",
    "    elif i in samsung_G5:\n",
    "        shutil.move('Datos_INP/FOTOS Samsung/' + i, 'Images/Samsung/G5/' + i)"
   ]
  },
  {
   "cell_type": "code",
   "execution_count": 25,
   "id": "aa801d71",
   "metadata": {},
   "outputs": [],
   "source": [
    "for i in iphone:\n",
    "    if i in iphone_G1:\n",
    "        shutil.move('Datos_INP/FOTOS iPhone/' + i, 'Images/iPhone/G1/' + i)\n",
    "    elif i in iphone_G2:\n",
    "        shutil.move('Datos_INP/FOTOS iPhone/' + i, 'Images/iPhone/G2/' + i)\n",
    "    elif i in iphone_G3:\n",
    "        shutil.move('Datos_INP/FOTOS iPhone/' + i, 'Images/iPhone/G3/' + i)\n",
    "    elif i in iphone_G4:\n",
    "        shutil.move('Datos_INP/FOTOS iPhone/' + i, 'Images/iPhone/G4/' + i)\n",
    "    elif i in iphone_G5:\n",
    "        shutil.move('Datos_INP/FOTOS iPhone/' + i, 'Images/iPhone/G5/' + i)"
   ]
  },
  {
   "cell_type": "markdown",
   "id": "591b768b",
   "metadata": {},
   "source": [
    "## Procesamiento Gaussiano de las imágenes"
   ]
  },
  {
   "cell_type": "markdown",
   "id": "90ea5d67",
   "metadata": {},
   "source": [
    "Una vez hemos dividido las imágenes inpaintadas en la estructura de directorios necesaria, vamos a aplicar a todas ellas el preprocesamiento gaussiano que resalta las características de la imagen."
   ]
  },
  {
   "cell_type": "code",
   "execution_count": 26,
   "id": "957d35ca",
   "metadata": {},
   "outputs": [],
   "source": [
    "import cv2\n",
    "import PIL\n",
    "import numpy as np\n",
    "\n",
    "from PIL import Image"
   ]
  },
  {
   "cell_type": "markdown",
   "id": "adda6fee",
   "metadata": {},
   "source": [
    "Primero definimos las dos funciones que van a aplicar el filtro de desenfoque Gaussiano y luego el 'troquelado' circular."
   ]
  },
  {
   "cell_type": "code",
   "execution_count": 27,
   "id": "19ca5d4a",
   "metadata": {},
   "outputs": [],
   "source": [
    "def crop_image_from_gray(img,tol=7):\n",
    "    if img.ndim ==2:\n",
    "        mask = img>tol\n",
    "        return img[np.ix_(mask.any(1),mask.any(0))]\n",
    "    elif img.ndim==3:\n",
    "        gray_img = cv2.cvtColor(img, cv2.COLOR_RGB2GRAY)\n",
    "        mask = gray_img>tol\n",
    "        \n",
    "        check_shape = img[:,:,0][np.ix_(mask.any(1),mask.any(0))].shape[0]\n",
    "        if (check_shape == 0):\n",
    "            return img\n",
    "        else:\n",
    "            img1=img[:,:,0][np.ix_(mask.any(1),mask.any(0))]\n",
    "            img2=img[:,:,1][np.ix_(mask.any(1),mask.any(0))]\n",
    "            img3=img[:,:,2][np.ix_(mask.any(1),mask.any(0))]\n",
    "            img = np.stack([img1,img2,img3],axis=-1)\n",
    "        return img"
   ]
  },
  {
   "cell_type": "code",
   "execution_count": 28,
   "id": "1daacefa",
   "metadata": {},
   "outputs": [],
   "source": [
    "def circle_crop(img, sigmaX):   \n",
    "    \"\"\"\n",
    "    Create circular crop around image centre    \n",
    "    \"\"\"    \n",
    "    img = crop_image_from_gray(img)    \n",
    "    img = cv2.cvtColor(img, cv2.COLOR_BGR2RGB)\n",
    "    \n",
    "    height, width, depth = img.shape    \n",
    "    \n",
    "    x = int(width/2)\n",
    "    y = int(height/2)\n",
    "    r = np.amin((x,y))\n",
    "    \n",
    "    circle_img = np.zeros((height, width), np.uint8)\n",
    "    cv2.circle(circle_img, (x,y), int(r), 1, thickness=-1)\n",
    "    img = cv2.bitwise_and(img, img, mask=circle_img)\n",
    "    img = crop_image_from_gray(img)\n",
    "    img=cv2.addWeighted(img,4, cv2.GaussianBlur( img , (0,0) , sigmaX) ,-4 ,128)\n",
    "    return img "
   ]
  },
  {
   "cell_type": "markdown",
   "id": "ee8e587f",
   "metadata": {},
   "source": [
    "A continuación aplicamos este procesado a todas las imágenes inpaintadas (tanto de Samsung, como de iPhone como de OCT)."
   ]
  },
  {
   "cell_type": "code",
   "execution_count": 33,
   "id": "3ab27ca1",
   "metadata": {},
   "outputs": [],
   "source": [
    "for i in os.listdir('Images/Samsung/G1'):\n",
    "    img = cv2.imread('Images/Samsung/G1/'+ i)\n",
    "    img = cv2.cvtColor(img, cv2.COLOR_BGR2RGB)\n",
    "    img_t = circle_crop(img, 30)\n",
    "    image = Image.fromarray(img_t, 'RGB')\n",
    "    image.save('Images_Proc/Samsung/G1/'+ i)"
   ]
  },
  {
   "cell_type": "code",
   "execution_count": 34,
   "id": "fd482f52",
   "metadata": {},
   "outputs": [],
   "source": [
    "for i in os.listdir('Images/Samsung/G2'):\n",
    "    img = cv2.imread('Images/Samsung/G2/'+ i)\n",
    "    img = cv2.cvtColor(img, cv2.COLOR_BGR2RGB)\n",
    "    img_t = circle_crop(img, 30)\n",
    "    image = Image.fromarray(img_t, 'RGB')\n",
    "    image.save('Images_Proc/Samsung/G2/'+ i)"
   ]
  },
  {
   "cell_type": "code",
   "execution_count": 35,
   "id": "4d7f36b1",
   "metadata": {},
   "outputs": [],
   "source": [
    "for i in os.listdir('Images/Samsung/G3'):\n",
    "    img = cv2.imread('Images/Samsung/G3/'+ i)\n",
    "    img = cv2.cvtColor(img, cv2.COLOR_BGR2RGB)\n",
    "    img_t = circle_crop(img, 30)\n",
    "    image = Image.fromarray(img_t, 'RGB')\n",
    "    image.save('Images_Proc/Samsung/G3/'+ i)"
   ]
  },
  {
   "cell_type": "code",
   "execution_count": 36,
   "id": "4d96c56f",
   "metadata": {},
   "outputs": [],
   "source": [
    "for i in os.listdir('Images/Samsung/G4'):\n",
    "    img = cv2.imread('Images/Samsung/G4/'+ i)\n",
    "    img = cv2.cvtColor(img, cv2.COLOR_BGR2RGB)\n",
    "    img_t = circle_crop(img, 30)\n",
    "    image = Image.fromarray(img_t, 'RGB')\n",
    "    image.save('Images_Proc/Samsung/G4/'+ i)"
   ]
  },
  {
   "cell_type": "code",
   "execution_count": 37,
   "id": "acd09d32",
   "metadata": {},
   "outputs": [],
   "source": [
    "for i in os.listdir('Images/Samsung/G5'):\n",
    "    img = cv2.imread('Images/Samsung/G5/'+ i)\n",
    "    img = cv2.cvtColor(img, cv2.COLOR_BGR2RGB)\n",
    "    img_t = circle_crop(img, 30)\n",
    "    image = Image.fromarray(img_t, 'RGB')\n",
    "    image.save('Images_Proc/Samsung/G5/'+ i)"
   ]
  },
  {
   "cell_type": "markdown",
   "id": "2edcf2be",
   "metadata": {},
   "source": [
    "---------------------"
   ]
  },
  {
   "cell_type": "code",
   "execution_count": 38,
   "id": "520e740b",
   "metadata": {},
   "outputs": [],
   "source": [
    "for i in os.listdir('Images/iPhone/G1'):\n",
    "    img = cv2.imread('Images/iPhone/G1/'+ i)\n",
    "    img = cv2.cvtColor(img, cv2.COLOR_BGR2RGB)\n",
    "    img_t = circle_crop(img, 30)\n",
    "    image = Image.fromarray(img_t, 'RGB')\n",
    "    image.save('Images_Proc/iPhone/G1/'+ i)"
   ]
  },
  {
   "cell_type": "code",
   "execution_count": 39,
   "id": "b2a9869e",
   "metadata": {},
   "outputs": [],
   "source": [
    "for i in os.listdir('Images/iPhone/G2'):\n",
    "    img = cv2.imread('Images/iPhone/G2/'+ i)\n",
    "    img = cv2.cvtColor(img, cv2.COLOR_BGR2RGB)\n",
    "    img_t = circle_crop(img, 30)\n",
    "    image = Image.fromarray(img_t, 'RGB')\n",
    "    image.save('Images_Proc/iPhone/G2/'+ i)"
   ]
  },
  {
   "cell_type": "code",
   "execution_count": 40,
   "id": "2962cd9d",
   "metadata": {},
   "outputs": [],
   "source": [
    "for i in os.listdir('Images/iPhone/G3'):\n",
    "    img = cv2.imread('Images/iPhone/G3/'+ i)\n",
    "    img = cv2.cvtColor(img, cv2.COLOR_BGR2RGB)\n",
    "    img_t = circle_crop(img, 30)\n",
    "    image = Image.fromarray(img_t, 'RGB')\n",
    "    image.save('Images_Proc/iPhone/G3/'+ i)"
   ]
  },
  {
   "cell_type": "code",
   "execution_count": 41,
   "id": "bc2c6b52",
   "metadata": {},
   "outputs": [],
   "source": [
    "for i in os.listdir('Images/iPhone/G4'):\n",
    "    img = cv2.imread('Images/iPhone/G4/'+ i)\n",
    "    img = cv2.cvtColor(img, cv2.COLOR_BGR2RGB)\n",
    "    img_t = circle_crop(img, 30)\n",
    "    image = Image.fromarray(img_t, 'RGB')\n",
    "    image.save('Images_Proc/iPhone/G4/'+ i)"
   ]
  },
  {
   "cell_type": "code",
   "execution_count": 42,
   "id": "e9b57555",
   "metadata": {},
   "outputs": [],
   "source": [
    "for i in os.listdir('Images/iPhone/G5'):\n",
    "    img = cv2.imread('Images/iPhone/G5/'+ i)\n",
    "    img = cv2.cvtColor(img, cv2.COLOR_BGR2RGB)\n",
    "    img_t = circle_crop(img, 30)\n",
    "    image = Image.fromarray(img_t, 'RGB')\n",
    "    image.save('Images_Proc/iPhone/G5/'+ i)"
   ]
  },
  {
   "cell_type": "markdown",
   "id": "b7b45585",
   "metadata": {},
   "source": [
    "--------------"
   ]
  },
  {
   "cell_type": "code",
   "execution_count": 43,
   "id": "3ea5c1c8",
   "metadata": {},
   "outputs": [],
   "source": [
    "for i in os.listdir('Images/OCT/G1'):\n",
    "    img = cv2.imread('Images/OCT/G1/'+ i)\n",
    "    img = cv2.cvtColor(img, cv2.COLOR_BGR2RGB)\n",
    "    img_t = circle_crop(img, 30)\n",
    "    image = Image.fromarray(img_t, 'RGB')\n",
    "    image.save('Images_Proc/OCT/G1/'+ i)"
   ]
  },
  {
   "cell_type": "code",
   "execution_count": 44,
   "id": "5dee189a",
   "metadata": {},
   "outputs": [],
   "source": [
    "for i in os.listdir('Images/OCT/G2'):\n",
    "    img = cv2.imread('Images/OCT/G2/'+ i)\n",
    "    img = cv2.cvtColor(img, cv2.COLOR_BGR2RGB)\n",
    "    img_t = circle_crop(img, 30)\n",
    "    image = Image.fromarray(img_t, 'RGB')\n",
    "    image.save('Images_Proc/OCT/G2/'+ i)"
   ]
  },
  {
   "cell_type": "code",
   "execution_count": 45,
   "id": "adc6ee9f",
   "metadata": {},
   "outputs": [],
   "source": [
    "for i in os.listdir('Images/OCT/G3'):\n",
    "    img = cv2.imread('Images/OCT/G3/'+ i)\n",
    "    img = cv2.cvtColor(img, cv2.COLOR_BGR2RGB)\n",
    "    img_t = circle_crop(img, 30)\n",
    "    image = Image.fromarray(img_t, 'RGB')\n",
    "    image.save('Images_Proc/OCT/G3/'+ i)"
   ]
  },
  {
   "cell_type": "code",
   "execution_count": 46,
   "id": "c4fba3cb",
   "metadata": {},
   "outputs": [],
   "source": [
    "for i in os.listdir('Images/OCT/G4'):\n",
    "    img = cv2.imread('Images/OCT/G4/'+ i)\n",
    "    img = cv2.cvtColor(img, cv2.COLOR_BGR2RGB)\n",
    "    img_t = circle_crop(img, 30)\n",
    "    image = Image.fromarray(img_t, 'RGB')\n",
    "    image.save('Images_Proc/OCT/G4/'+ i)"
   ]
  },
  {
   "cell_type": "code",
   "execution_count": 47,
   "id": "3ba42e54",
   "metadata": {},
   "outputs": [],
   "source": [
    "for i in os.listdir('Images/OCT/G5'):\n",
    "    img = cv2.imread('Images/OCT/G5/'+ i)\n",
    "    img = cv2.cvtColor(img, cv2.COLOR_BGR2RGB)\n",
    "    img_t = circle_crop(img, 30)\n",
    "    image = Image.fromarray(img_t, 'RGB')\n",
    "    image.save('Images_Proc/OCT/G5/'+ i)"
   ]
  }
 ],
 "metadata": {
  "kernelspec": {
   "display_name": "Python 3 (ipykernel)",
   "language": "python",
   "name": "python3"
  },
  "language_info": {
   "codemirror_mode": {
    "name": "ipython",
    "version": 3
   },
   "file_extension": ".py",
   "mimetype": "text/x-python",
   "name": "python",
   "nbconvert_exporter": "python",
   "pygments_lexer": "ipython3",
   "version": "3.9.12"
  }
 },
 "nbformat": 4,
 "nbformat_minor": 5
}
