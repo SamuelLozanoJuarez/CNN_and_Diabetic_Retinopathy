{
 "cells": [
  {
   "cell_type": "code",
   "execution_count": 1,
   "id": "5d99b7a6",
   "metadata": {},
   "outputs": [
    {
     "name": "stderr",
     "output_type": "stream",
     "text": [
      "C:\\Users\\samue\\anaconda3\\envs\\venv_py39\\lib\\site-packages\\tqdm\\auto.py:22: TqdmWarning: IProgress not found. Please update jupyter and ipywidgets. See https://ipywidgets.readthedocs.io/en/stable/user_install.html\n",
      "  from .autonotebook import tqdm as notebook_tqdm\n"
     ]
    }
   ],
   "source": [
    "#primero importamos todos los paquetes necesarios\n",
    "import torch #contiene todas las funciones de PyTorch\n",
    "import torch.nn as nn #contiene la clase padre de todos los modelos (nn.Module)\n",
    "import torch.nn.functional as F #esencial para la función de activación \n",
    "import torchvision #fundamental para la importación de imágenes\n",
    "import torchvision.transforms as transforms\n",
    "from torchvision.datasets import ImageFolder\n",
    "from torch.utils.data import DataLoader\n",
    "from matplotlib import pyplot as plt #para poder representar las gráficas\n",
    "import numpy as np #para las métricas de la red"
   ]
  },
  {
   "cell_type": "code",
   "execution_count": 2,
   "id": "2c6bc122",
   "metadata": {},
   "outputs": [],
   "source": [
    "#importamos los paquetes necesarios para el cálculo de las métricas\n",
    "import sklearn\n",
    "from sklearn.metrics import accuracy_score, balanced_accuracy_score, f1_score, cohen_kappa_score, roc_auc_score, confusion_matrix\n",
    "import seaborn as sns"
   ]
  },
  {
   "cell_type": "code",
   "execution_count": 3,
   "id": "2c85266b",
   "metadata": {},
   "outputs": [],
   "source": [
    "#en este script se entrenarán modelos que siguen una estructura idéntica a la relatada en los siguientes artículos:\n",
    "# - Automatic Detection and Classification of Diabetic Retinopathy stages using CNN (Ghosh R.,Ghosh K.)\n",
    "# - Classification of Diabetic Retinopathy Images Based on Customised CNN Architecture (Mobeen-ur-Rehman)\n",
    "# - Diagnosis of retinal disorders from Optical Coherence Tomography images using CNN (Rajagopalan N., Venkateswaran N.)\n",
    "# - AOCT-NET: a convolutional network automated classification of multiclass retinal diseases using spectral-domain optical coherence tomography images (Alqudah A.)"
   ]
  },
  {
   "cell_type": "code",
   "execution_count": 4,
   "id": "85007421",
   "metadata": {},
   "outputs": [],
   "source": [
    "#establecemos el tamaño del batch, la escala de las imágenes y el número de épocas de entrenamiento\n",
    "#debido a que cada una de las arquitecturas requiere una escala de imagen específica, la escala y los loaders serán definidas para cada arquitectura\n",
    "batch = 4\n",
    "#comenzaremos con la arquitectura propuesta por Ghosh, con una escala de 512, 512, 3\n",
    "escala = 512\n",
    "epocas = 50"
   ]
  },
  {
   "cell_type": "code",
   "execution_count": 9,
   "id": "583ccb3d",
   "metadata": {},
   "outputs": [],
   "source": [
    "#a continuación definimos la operación que permitirá transformar las imágenes del repositorio en Tensores que puedan ser empleados por PyTorch\n",
    "transform = transforms.Compose(\n",
    "    [transforms.ToTensor(), #transforma la imagen de formato PIL a formato tensor\n",
    "     transforms.Normalize((0.5, 0.5, 0.5), (0.5, 0.5, 0.5)), #normaliza el tensor para que la media de sus valores sea 0 y su desviación estándar 0.5\n",
    "     transforms.Resize((escala, escala))]) #redimensionamos las imágenes"
   ]
  },
  {
   "cell_type": "code",
   "execution_count": 10,
   "id": "7f2ffcf7",
   "metadata": {},
   "outputs": [
    {
     "name": "stdout",
     "output_type": "stream",
     "text": [
      "Tamaño del conjunto de datos de train: 113\n",
      "Tamaño del conjunto de datos de test de Samsung: 93\n",
      "Tamaño del conjunto de datos de test de iPhone: 99\n"
     ]
    }
   ],
   "source": [
    "#a continuación cargamos el conjunto de imágenes de train (OCT) y los dos de test (iPhone y Samsung)\n",
    "OCT = ImageFolder(root = 'Datos/Classified Data/Images/OCT', transform = transform)\n",
    "print(f'Tamaño del conjunto de datos de train: {len(OCT)}')\n",
    "\n",
    "Samsung = ImageFolder(root = 'Datos/Classified Data/Images/Samsung', transform = transform)\n",
    "print(f'Tamaño del conjunto de datos de test de Samsung: {len(Samsung)}')\n",
    "\n",
    "iPhone = ImageFolder(root = 'Datos/Classified Data/Images/iPhone', transform = transform)\n",
    "print(f'Tamaño del conjunto de datos de test de iPhone: {len(iPhone)}')"
   ]
  },
  {
   "cell_type": "code",
   "execution_count": 11,
   "id": "d587ac5c",
   "metadata": {},
   "outputs": [],
   "source": [
    "#establecemos una lista con el nombre de las etiquetas\n",
    "classes = OCT.classes"
   ]
  },
  {
   "cell_type": "code",
   "execution_count": 12,
   "id": "3039dcb3",
   "metadata": {},
   "outputs": [],
   "source": [
    "#y definimos también las funciones que van a ir cargando las imágenes en el modelo\n",
    "train_loader = DataLoader(\n",
    "    dataset = OCT,\n",
    "    batch_size = 4, #establecemos un tamaño de lote (batch_size) de 4, ya que son pocas imágenes y podemos permitírnoslo\n",
    "    shuffle = True, #indicamos que mezcle las imágenes\n",
    "    num_workers = 2 #genera subprocesos para cargar los datos y así liberamos el proceso main\n",
    ")\n",
    "\n",
    "test_S_loader = DataLoader(\n",
    "    dataset = Samsung,\n",
    "    batch_size = 4, #establecemos un tamaño de lote (batch_size) de 10, ya que son pocas imágenes y podemos permitírnoslo\n",
    "    shuffle = True, #indicamos que mezcle las imágenes\n",
    "    num_workers = 2 #genera subprocesos para cargar los datos y así liberamos el proceso main\n",
    ")\n",
    "\n",
    "test_i_loader = DataLoader(\n",
    "    dataset = iPhone,\n",
    "    batch_size = 4, #establecemos un tamaño de lote (batch_size) de 10, ya que son pocas imágenes y podemos permitírnoslo\n",
    "    shuffle = True, #indicamos que mezcle las imágenes\n",
    "    num_workers = 2 #genera subprocesos para cargar los datos y así liberamos el proceso main\n",
    ")"
   ]
  },
  {
   "cell_type": "code",
   "execution_count": 13,
   "id": "5840ddeb",
   "metadata": {},
   "outputs": [],
   "source": [
    "#en esta ocasión, para mayor sencillez del código, vamos a omitir el paso de representación de las imágenes (además sabemos que los DataLoaders funcionan correctamente pues son los mismos que los empleados en el script 'Primera_Red_Básica')"
   ]
  },
  {
   "cell_type": "code",
   "execution_count": 43,
   "id": "5baae0a6",
   "metadata": {},
   "outputs": [],
   "source": [
    "#ARQUITECTURA DEFINIDA POR GHOSH\n",
    "class Ghosh(nn.Module):\n",
    "    #esta estructura está formada por capas convolucionales, de maxpooling, de activación, de Dropout, fully-connected y de clasificación\n",
    "    \n",
    "    def __init__(self):\n",
    "        #sobreescribimos el constructor del padre\n",
    "        super(Ghosh,self).__init__()\n",
    "        #primero definimos una capa convolucional\n",
    "        self.conv1 = nn.Conv2d(\n",
    "            in_channels = 3, #3 canales de entrada porque las imágenes son a color\n",
    "            out_channels = 32, #se trata del número de salidas de la capa. Es el número de kernels de la capa\n",
    "            kernel_size = 7, #suele tratarse de un número impar\n",
    "            stride = 2, #cantidad píxeles que se desplaza el filtro sobre la imagen\n",
    "            padding = 2, #cantidad de relleno que se va a aplicar sobre los bordes de la imagen\n",
    "        )\n",
    "        \n",
    "        #la segunda (y tercera) capa convolucional, se pueden definir como una única porque el número de entradas y salidas coincide\n",
    "        self.conv2_3 = nn.Conv2d(\n",
    "            in_channels = 32, #32 canales de entrada para que coincida con las salidas de la capa anterior\n",
    "            out_channels = 32, #se trata del número de salidas de la capa. Es el número de kernels de la capa\n",
    "            kernel_size = 3, #suele tratarse de un número impar\n",
    "            stride = 2, #cantidad píxeles que se desplaza el filtro sobre la imagen\n",
    "            padding = 2, #cantidad de relleno que se va a aplicar sobre los bordes de la imagen\n",
    "        )\n",
    "        \n",
    "        #la cuarta capa convolucional\n",
    "        self.conv4 = nn.Conv2d(\n",
    "            in_channels = 32, #32 canales de entrada para que coincida con las salidas de la capa anterior\n",
    "            out_channels = 64, #se trata del número de salidas de la capa. Es el número de kernels de la capa\n",
    "            kernel_size = 3, #suele tratarse de un número impar\n",
    "            stride = 2, #cantidad píxeles que se desplaza el filtro sobre la imagen\n",
    "            padding = 2, #cantidad de relleno que se va a aplicar sobre los bordes de la imagen\n",
    "        )\n",
    "        \n",
    "        #la quinta capa convolucional\n",
    "        self.conv5 = nn.Conv2d(\n",
    "            in_channels = 64, #64 canales de entrada para que coincida con las salidas de la capa anterior\n",
    "            out_channels = 64, #se trata del número de salidas de la capa. Es el número de kernels de la capa\n",
    "            kernel_size = 3, #suele tratarse de un número impar\n",
    "            stride = 2, #cantidad píxeles que se desplaza el filtro sobre la imagen\n",
    "            padding = 2, #cantidad de relleno que se va a aplicar sobre los bordes de la imagen\n",
    "        )\n",
    "        \n",
    "        #la sexta capa convolucional\n",
    "        self.conv6 = nn.Conv2d(\n",
    "            in_channels = 64, #64 canales de entrada para que coincida con las salidas de la capa anterior\n",
    "            out_channels = 128, #se trata del número de salidas de la capa. Es el número de kernels de la capa\n",
    "            kernel_size = 3, #suele tratarse de un número impar\n",
    "            stride = 2, #cantidad píxeles que se desplaza el filtro sobre la imagen\n",
    "            padding = 2, #cantidad de relleno que se va a aplicar sobre los bordes de la imagen\n",
    "        )\n",
    "        \n",
    "        #la séptima (y octava y novena) capa convolucional\n",
    "        self.conv7_8_9 = nn.Conv2d(\n",
    "            in_channels = 128, #64 canales de entrada para que coincida con las salidas de la capa anterior\n",
    "            out_channels = 128, #se trata del número de salidas de la capa. Es el número de kernels de la capa\n",
    "            kernel_size = 3, #suele tratarse de un número impar\n",
    "            stride = 2, #cantidad píxeles que se desplaza el filtro sobre la imagen\n",
    "            padding = 2, #cantidad de relleno que se va a aplicar sobre los bordes de la imagen\n",
    "        )\n",
    "        \n",
    "        #la décima capa convolucional\n",
    "        self.conv10 = nn.Conv2d(\n",
    "            in_channels = 128, #64 canales de entrada para que coincida con las salidas de la capa anterior\n",
    "            out_channels = 256, #se trata del número de salidas de la capa. Es el número de kernels de la capa\n",
    "            kernel_size = 3, #suele tratarse de un número impar\n",
    "            stride = 2, #cantidad píxeles que se desplaza el filtro sobre la imagen\n",
    "            padding = 2, #cantidad de relleno que se va a aplicar sobre los bordes de la imagen\n",
    "        )\n",
    "        \n",
    "        #las últimas 3 capa convolucionales\n",
    "        self.conv11_12_13 = nn.Conv2d(\n",
    "            in_channels = 256, #64 canales de entrada para que coincida con las salidas de la capa anterior\n",
    "            out_channels = 256, #se trata del número de salidas de la capa. Es el número de kernels de la capa\n",
    "            kernel_size = 3, #suele tratarse de un número impar\n",
    "            stride = 2, #cantidad píxeles que se desplaza el filtro sobre la imagen\n",
    "            padding = 2, #cantidad de relleno que se va a aplicar sobre los bordes de la imagen\n",
    "        )\n",
    "        \n",
    "        #la función de activación (en este caso PReLU)\n",
    "        self.activation = nn.PReLU()\n",
    "        \n",
    "        #la capa de MaxPool\n",
    "        self.pool = nn.MaxPool2d(\n",
    "            kernel_size = 2, #establecemos el tamaño del kernel a 2*2\n",
    "            stride = 2 #cantidad píxeles que se desplaza el filtro sobre la imagen\n",
    "        )\n",
    "        \n",
    "        #la primera capa de neuronas a la que aplicaremos Dropout como técnica de regularización\n",
    "        self.fc1 = nn.Linear(\n",
    "            in_features = 256, #número de características de entrada\n",
    "            out_features = 256 #número de neuronas de salida\n",
    "        )\n",
    "        \n",
    "        #la segunda capa fully-connected\n",
    "        self.fc2 = nn.Linear(256,1024)\n",
    "        \n",
    "        #la tercera capa fully-connected\n",
    "        self.fc3 = nn.Linear(1024,512)\n",
    "        \n",
    "        #la capa de neuronas fully-connected final\n",
    "        self.dense = nn.Linear(\n",
    "            in_features = 512, #número de parámetros de entrada de la red (los valores se obtienen experimentalmente)\n",
    "            out_features = 5 #número de neuronas de salida\n",
    "        )\n",
    "        \n",
    "    def forward(self,x):\n",
    "        #en esta función es donde tiene lugar la computación (y la función invocada por defecto al ejecutar la red)\n",
    "        #siguiendo la estructura descrita en Ghosh et al.:\n",
    "        \n",
    "        #primero una capa convolucional de tipo 1, con su consecuente activación PReLU y la capa de MaxPool\n",
    "        x = self.pool(self.activation(self.conv1(x)))\n",
    "        #una capa convolucional de tipo 2 con su correspondiente activación\n",
    "        x = self.activation(self.conv2_3(x))\n",
    "        #capa convolucional de tipo 2 con activación y MaxPool\n",
    "        x = self.pool(self.activation(self.conv2_3(x)))\n",
    "        #cuarta convolucional con activación\n",
    "        x = self.activation(self.conv4(x))\n",
    "        #quinta convolucional con activación y MaxPool\n",
    "        x = self.pool(self.activation(self.conv5(x)))\n",
    "        #3 capas convolucionales consecutivas de tipo 2 con su correspondiente activación\n",
    "        x = self.activation(self.conv6(x))\n",
    "        x = self.activation(self.conv7_8_9(x))\n",
    "        x = self.activation(self.conv7_8_9(x))\n",
    "        #novena capa convolucional con activación y MaxPool\n",
    "        x = self.pool(self.activation(self.conv7_8_9(x)))\n",
    "        #se repite la misma estructura de 3 capas convolucionales con activación y una última con activación y MaxPool\n",
    "        x = self.activation(self.conv10(x))\n",
    "        x = self.activation(self.conv11_12_13(x))\n",
    "        x = self.activation(self.conv11_12_13(x))\n",
    "        x = self.pool(self.activation(self.conv11_12_13(x)))\n",
    "        #aplanamos la salida, hasta convertirla de forma matricial a forma vectorial (sería la capa flatten)\n",
    "        x = x.view(-1,self.num_flat_features(x))#usamos una función propia de la clase para obtener el número de características\n",
    "        #aplicamos una primera red neuronal fully-connected, con la activación consecuente y la estrategia dropout para evitar el sobreentrenamiento\n",
    "        x = F.dropout(self.activation(self.fc1(x)))\n",
    "        #lo mismo sucede con la segunda capa fully-connected\n",
    "        x = F.dropout(self.activation(self.fc2(x)))\n",
    "        #y con la tercera\n",
    "        x = F.dropout(self.activation(self.fc3(x)))\n",
    "        #por último tiene lugar la capa de predicciones, que convierte las 512 neuronas de la tercera capa fully-connected en una salida de 5 neuronas (una por clase)\n",
    "        x = self.dense(x)\n",
    "        \n",
    "        return x\n",
    "    \n",
    "    def num_flat_features(self,x):\n",
    "        #por último definimos la función que permite obtener el número de características de los tensores\n",
    "        size = x.size()[1:] #seleccionamos todas las dimensiones expcepto la primera (que son los batches)\n",
    "        num_features = 1\n",
    "        #va iterando y calcula el número de características de los datos (x)\n",
    "        for s in size:\n",
    "            num_features*=s\n",
    "        return num_features"
   ]
  },
  {
   "cell_type": "code",
   "execution_count": 44,
   "id": "7d8afde5",
   "metadata": {},
   "outputs": [
    {
     "name": "stdout",
     "output_type": "stream",
     "text": [
      "Ghosh(\n",
      "  (conv1): Conv2d(3, 32, kernel_size=(7, 7), stride=(2, 2), padding=(2, 2))\n",
      "  (conv2_3): Conv2d(32, 32, kernel_size=(3, 3), stride=(2, 2), padding=(2, 2))\n",
      "  (conv4): Conv2d(32, 64, kernel_size=(3, 3), stride=(2, 2), padding=(2, 2))\n",
      "  (conv5): Conv2d(64, 64, kernel_size=(3, 3), stride=(2, 2), padding=(2, 2))\n",
      "  (conv6): Conv2d(64, 128, kernel_size=(3, 3), stride=(2, 2), padding=(2, 2))\n",
      "  (conv7_8_9): Conv2d(128, 128, kernel_size=(3, 3), stride=(2, 2), padding=(2, 2))\n",
      "  (conv10): Conv2d(128, 256, kernel_size=(3, 3), stride=(2, 2), padding=(2, 2))\n",
      "  (conv11_12_13): Conv2d(256, 256, kernel_size=(3, 3), stride=(2, 2), padding=(2, 2))\n",
      "  (activation): PReLU(num_parameters=1)\n",
      "  (pool): MaxPool2d(kernel_size=2, stride=2, padding=0, dilation=1, ceil_mode=False)\n",
      "  (fc1): Linear(in_features=256, out_features=256, bias=True)\n",
      "  (fc2): Linear(in_features=256, out_features=1024, bias=True)\n",
      "  (fc3): Linear(in_features=1024, out_features=512, bias=True)\n",
      "  (dense): Linear(in_features=512, out_features=5, bias=True)\n",
      ")\n"
     ]
    }
   ],
   "source": [
    "#creamos una instancia de esta red\n",
    "ghosh = Ghosh()\n",
    "#mostramos su estructura\n",
    "print(ghosh)"
   ]
  },
  {
   "cell_type": "code",
   "execution_count": 45,
   "id": "b455ef93",
   "metadata": {},
   "outputs": [],
   "source": [
    "#definimos como loss la función de tipo cross entropy \n",
    "criterion = nn.CrossEntropyLoss() "
   ]
  },
  {
   "cell_type": "code",
   "execution_count": 69,
   "id": "fb192de1",
   "metadata": {},
   "outputs": [],
   "source": [
    "#en este caso el optimizador será la función Adam (ampliamente utilizada)\n",
    "optimizer = torch.optim.Adam(params = ghosh.parameters()) #dejamos el valor de learning-rate por defecto (0.001)"
   ]
  },
  {
   "cell_type": "code",
   "execution_count": 70,
   "id": "7af66209",
   "metadata": {},
   "outputs": [
    {
     "name": "stdout",
     "output_type": "stream",
     "text": [
      "Época 1/50 - Accuracy: 0.3893805309734513 - Loss: 1.2957532405853271\n"
     ]
    },
    {
     "ename": "KeyboardInterrupt",
     "evalue": "",
     "output_type": "error",
     "traceback": [
      "\u001b[1;31m---------------------------------------------------------------------------\u001b[0m",
      "\u001b[1;31mKeyboardInterrupt\u001b[0m                         Traceback (most recent call last)",
      "Input \u001b[1;32mIn [70]\u001b[0m, in \u001b[0;36m<cell line: 5>\u001b[1;34m()\u001b[0m\n\u001b[0;32m     17\u001b[0m loss \u001b[38;5;241m=\u001b[39m criterion(outputs, labels)\n\u001b[0;32m     18\u001b[0m \u001b[38;5;66;03m#propagamos hacia atrás el valor loss\u001b[39;00m\n\u001b[1;32m---> 19\u001b[0m \u001b[43mloss\u001b[49m\u001b[38;5;241;43m.\u001b[39;49m\u001b[43mbackward\u001b[49m\u001b[43m(\u001b[49m\u001b[43m)\u001b[49m\n\u001b[0;32m     20\u001b[0m \u001b[38;5;66;03m#y modificamos los pesos en función del loss y la función optimizer\u001b[39;00m\n\u001b[0;32m     21\u001b[0m optimizer\u001b[38;5;241m.\u001b[39mstep()\n",
      "File \u001b[1;32m~\\anaconda3\\envs\\venv_py39\\lib\\site-packages\\torch\\_tensor.py:487\u001b[0m, in \u001b[0;36mTensor.backward\u001b[1;34m(self, gradient, retain_graph, create_graph, inputs)\u001b[0m\n\u001b[0;32m    477\u001b[0m \u001b[38;5;28;01mif\u001b[39;00m has_torch_function_unary(\u001b[38;5;28mself\u001b[39m):\n\u001b[0;32m    478\u001b[0m     \u001b[38;5;28;01mreturn\u001b[39;00m handle_torch_function(\n\u001b[0;32m    479\u001b[0m         Tensor\u001b[38;5;241m.\u001b[39mbackward,\n\u001b[0;32m    480\u001b[0m         (\u001b[38;5;28mself\u001b[39m,),\n\u001b[1;32m   (...)\u001b[0m\n\u001b[0;32m    485\u001b[0m         inputs\u001b[38;5;241m=\u001b[39minputs,\n\u001b[0;32m    486\u001b[0m     )\n\u001b[1;32m--> 487\u001b[0m \u001b[43mtorch\u001b[49m\u001b[38;5;241;43m.\u001b[39;49m\u001b[43mautograd\u001b[49m\u001b[38;5;241;43m.\u001b[39;49m\u001b[43mbackward\u001b[49m\u001b[43m(\u001b[49m\n\u001b[0;32m    488\u001b[0m \u001b[43m    \u001b[49m\u001b[38;5;28;43mself\u001b[39;49m\u001b[43m,\u001b[49m\u001b[43m \u001b[49m\u001b[43mgradient\u001b[49m\u001b[43m,\u001b[49m\u001b[43m \u001b[49m\u001b[43mretain_graph\u001b[49m\u001b[43m,\u001b[49m\u001b[43m \u001b[49m\u001b[43mcreate_graph\u001b[49m\u001b[43m,\u001b[49m\u001b[43m \u001b[49m\u001b[43minputs\u001b[49m\u001b[38;5;241;43m=\u001b[39;49m\u001b[43minputs\u001b[49m\n\u001b[0;32m    489\u001b[0m \u001b[43m\u001b[49m\u001b[43m)\u001b[49m\n",
      "File \u001b[1;32m~\\anaconda3\\envs\\venv_py39\\lib\\site-packages\\torch\\autograd\\__init__.py:197\u001b[0m, in \u001b[0;36mbackward\u001b[1;34m(tensors, grad_tensors, retain_graph, create_graph, grad_variables, inputs)\u001b[0m\n\u001b[0;32m    192\u001b[0m     retain_graph \u001b[38;5;241m=\u001b[39m create_graph\n\u001b[0;32m    194\u001b[0m \u001b[38;5;66;03m# The reason we repeat same the comment below is that\u001b[39;00m\n\u001b[0;32m    195\u001b[0m \u001b[38;5;66;03m# some Python versions print out the first line of a multi-line function\u001b[39;00m\n\u001b[0;32m    196\u001b[0m \u001b[38;5;66;03m# calls in the traceback and some print out the last line\u001b[39;00m\n\u001b[1;32m--> 197\u001b[0m \u001b[43mVariable\u001b[49m\u001b[38;5;241;43m.\u001b[39;49m\u001b[43m_execution_engine\u001b[49m\u001b[38;5;241;43m.\u001b[39;49m\u001b[43mrun_backward\u001b[49m\u001b[43m(\u001b[49m\u001b[43m  \u001b[49m\u001b[38;5;66;43;03m# Calls into the C++ engine to run the backward pass\u001b[39;49;00m\n\u001b[0;32m    198\u001b[0m \u001b[43m    \u001b[49m\u001b[43mtensors\u001b[49m\u001b[43m,\u001b[49m\u001b[43m \u001b[49m\u001b[43mgrad_tensors_\u001b[49m\u001b[43m,\u001b[49m\u001b[43m \u001b[49m\u001b[43mretain_graph\u001b[49m\u001b[43m,\u001b[49m\u001b[43m \u001b[49m\u001b[43mcreate_graph\u001b[49m\u001b[43m,\u001b[49m\u001b[43m \u001b[49m\u001b[43minputs\u001b[49m\u001b[43m,\u001b[49m\n\u001b[0;32m    199\u001b[0m \u001b[43m    \u001b[49m\u001b[43mallow_unreachable\u001b[49m\u001b[38;5;241;43m=\u001b[39;49m\u001b[38;5;28;43;01mTrue\u001b[39;49;00m\u001b[43m,\u001b[49m\u001b[43m \u001b[49m\u001b[43maccumulate_grad\u001b[49m\u001b[38;5;241;43m=\u001b[39;49m\u001b[38;5;28;43;01mTrue\u001b[39;49;00m\u001b[43m)\u001b[49m\n",
      "\u001b[1;31mKeyboardInterrupt\u001b[0m: "
     ]
    }
   ],
   "source": [
    "#definimos 2 listas en las que almacenaremos los valores de accuracy y loss de cada época para poder graficarlo posteriormente\n",
    "acc_graph = []\n",
    "loss_graph = []\n",
    "#para entrenar el modelo vamos a iterar el número de épocas determinadas, calculando el valor de loss y accuracy para cada época\n",
    "for epoch in range(epocas):\n",
    "    #establecemos el número de predicciones correctas inicial a 0\n",
    "    correct = 0\n",
    "    total = 0\n",
    "    #y cargamos las imágenes de entrenamiento y sus etiquetas usando la estructura Loader previamente creada\n",
    "    for i, data in enumerate(train_loader):\n",
    "        inputs, labels = data\n",
    "        #establecemos a 0 los parámetros del modelo\n",
    "        optimizer.zero_grad()\n",
    "        #generamos las predicciones de los inputs\n",
    "        outputs = ghosh(inputs)\n",
    "        #calculamos el loss, la desviación de las predicciones con respecto a las etiquetas\n",
    "        loss = criterion(outputs, labels)\n",
    "        #propagamos hacia atrás el valor loss\n",
    "        loss.backward()\n",
    "        #y modificamos los pesos en función del loss y la función optimizer\n",
    "        optimizer.step()\n",
    "        #actualizamos el número de predicciones correctas\n",
    "        _, predicted = torch.max(outputs.data, 1)\n",
    "        total += labels.size(0)\n",
    "        correct += (predicted == labels).sum().item()\n",
    "    \n",
    "    #una vez finalizada la época (que recorre todo el conjunto de imágenes) mostramos el valor del loss y del accuracy\n",
    "    print(f'Época {epoch +1}/{epocas} - Accuracy: {correct/len(OCT)} - Loss: {loss.data.item()}')\n",
    "    #añadimos los valores a la lista correspondiente\n",
    "    loss_graph.append(loss.data.item())\n",
    "    acc_graph.append(correct/len(OCT))"
   ]
  },
  {
   "cell_type": "code",
   "execution_count": 72,
   "id": "641de7fc",
   "metadata": {
    "collapsed": true
   },
   "outputs": [
    {
     "data": {
      "image/png": "[encoded data removed]",
      "text/plain": [
       "<Figure size 720x504 with 1 Axes>"
      ]
     },
     "metadata": {
      "needs_background": "light"
     },
     "output_type": "display_data"
    }
   ],
   "source": [
    "#a continuación mostramos la evolución temporal del accuracy\n",
    "plt.figure(figsize = (10,7))\n",
    "plt.title('Evolución del Accuracy')\n",
    "plt.xlabel('Nº Época')\n",
    "plt.ylabel('Accuracy')\n",
    "plt.plot(range(1,epocas+1),acc_graph, linewidth = 3)\n",
    "plt.show()"
   ]
  },
  {
   "cell_type": "code",
   "execution_count": 73,
   "id": "c24e1025",
   "metadata": {
    "collapsed": true
   },
   "outputs": [
    {
     "data": {
      "image/png": "[encoded data removed]",
      "text/plain": [
       "<Figure size 720x504 with 1 Axes>"
      ]
     },
     "metadata": {
      "needs_background": "light"
     },
     "output_type": "display_data"
    }
   ],
   "source": [
    "#a continuación mostramos la evolución temporal del loss\n",
    "plt.figure(figsize = (10,7))\n",
    "plt.title('Evolución del Loss')\n",
    "plt.xlabel('Nº Época')\n",
    "plt.ylabel('Loss')\n",
    "plt.plot(range(1,epocas+1),loss_graph, color='orange', linewidth = 3)\n",
    "plt.show()"
   ]
  },
  {
   "cell_type": "code",
   "execution_count": 49,
   "id": "594eac58",
   "metadata": {},
   "outputs": [],
   "source": [
    "#por último solo debemos generar las predicciones a partir de la red entrenada\n",
    "#creamos 2 listas para almacenar las etiquetas reales y las etiquetas predichas y así poder calcular las métricas\n",
    "y_true_iphone = []\n",
    "y_pred_iphone = []\n",
    "#creamos una para almacenar también la salida del modelo, para posteriormente poder calcular AUC\n",
    "predictions = []\n",
    "#y definimos una función para convertir esa salida a forma de probabilidad (usando Softmax como en la arquitectura de Ghosh)\n",
    "m = nn.Softmax(dim=1)\n",
    "#es importante activar torch.no_grad() para que la red no entrene al pasarle el conjunto de test, no varíen los pesos\n",
    "with torch.no_grad():\n",
    "    #recorremos el conjunto de imágenes de test de iPhone\n",
    "    for data in test_i_loader:\n",
    "        images, labels = data #cargamos las imágenes y las etiquetas del dataloader\n",
    "        outputs = ghosh(images) #obtenemos las predicciones\n",
    "        predictions.append(m(outputs).numpy()) #las convertimos a probabilidad mediante Softmax \n",
    "        _, predicted = torch.max(outputs.data,1) #y obtenemos las etiquetas o labels predichas a partir de la probabilidad\n",
    "        y_pred_iphone.append(predicted.numpy()) #añadimos la predicción a la lista de predicciones\n",
    "        y_true_iphone.append(labels.numpy()) #y añadimos la etiqueta real a la lista de etiquetas reales\n",
    "#convertimos los datos a formato np.array de una única dimensión        \n",
    "y_true_iphone = np.concatenate(y_true_iphone)\n",
    "y_pred_iphone = np.concatenate(y_pred_iphone)\n",
    "predictions = np.concatenate(predictions)"
   ]
  },
  {
   "cell_type": "code",
   "execution_count": 50,
   "id": "db63ca67",
   "metadata": {},
   "outputs": [
    {
     "name": "stdout",
     "output_type": "stream",
     "text": [
      "AxesSubplot(0.125,0.125;0.775x0.755)\n",
      "El valor de accuracy del modelo con imágenes de iphone es: 0.29292929292929293\n",
      "El valor de balanced accuracy del modelo con imágenes de iphone es: 0.23053613053613056\n",
      "El valor de F-score del modelo con imágenes de iphone es: 0.22687068544735134\n",
      "El valor de Kappa del modelo con imágenes de iphone es: 0.05003427004797811\n",
      "El valor de AUC del modelo con imágenes de iphone es: 0.5211514157400863\n"
     ]
    },
    {
     "data": {
      "image/png": "[encoded data removed]",
      "text/plain": [
       "<Figure size 432x288 with 1 Axes>"
      ]
     },
     "metadata": {
      "needs_background": "light"
     },
     "output_type": "display_data"
    }
   ],
   "source": [
    "#a partir de las predicciones y las labels reales podemos calcular las métricas deseadas\n",
    "#primero la matriz de confusión\n",
    "matrix_iphone = confusion_matrix(y_true_iphone, y_pred_iphone)\n",
    "#usamos el paquete seaborn para mostrar de manera más visual la matriz de confusión\n",
    "plot = sns.heatmap(matrix_iphone, annot = True, cmap = 'Reds', cbar = False)\n",
    "#establecemos título\n",
    "plot.set_title('Matriz de confusión - iPhone\\n')\n",
    "#título de cada eje\n",
    "plot.set_xlabel('\\nGrado Iphone')\n",
    "plot.set_ylabel('Grado real\\n')\n",
    "#y el significado de cada fila y columna de la matriz\n",
    "plot.xaxis.set_ticklabels(['Grado1','Grado2','Grado3','Grado4','Grado5'])\n",
    "plot.yaxis.set_ticklabels(['Grado1','Grado2','Grado3','Grado4','Grado5'])\n",
    "print(plot)\n",
    "\n",
    "#calculamos el valor de accuracy\n",
    "accuracy_iphone = accuracy_score(y_true = y_true_iphone, y_pred = y_pred_iphone)\n",
    "print(f'El valor de accuracy del modelo con imágenes de iphone es: {accuracy_iphone}')\n",
    "#el balanced accuracy\n",
    "bal_acc_iphone = balanced_accuracy_score(y_true = y_true_iphone, y_pred = y_pred_iphone)\n",
    "print(f'El valor de balanced accuracy del modelo con imágenes de iphone es: {bal_acc_iphone}')\n",
    "#el F-score\n",
    "f_score_iphone = f1_score(y_true = y_true_iphone, y_pred = y_pred_iphone,average = 'weighted')\n",
    "print(f'El valor de F-score del modelo con imágenes de iphone es: {f_score_iphone}')\n",
    "#calculamos el valor de quadratic weighted kappa\n",
    "kappa_iphone = cohen_kappa_score(y1 = y_true_iphone, y2 = y_pred_iphone)\n",
    "print(f'El valor de Kappa del modelo con imágenes de iphone es: {kappa_iphone}')\n",
    "#y por último calculamos el valor de AUC bajo la curva ROC\n",
    "auc_iphone = roc_auc_score(y_true = y_true_iphone, y_score = predictions, multi_class = 'ovr')\n",
    "print(f'El valor de AUC del modelo con imágenes de iphone es: {auc_iphone}')"
   ]
  },
  {
   "cell_type": "code",
   "execution_count": 51,
   "id": "2ebf2453",
   "metadata": {},
   "outputs": [],
   "source": [
    "#realizamos el mismo proceso para las imágenes de Samsung\n",
    "#creamos 2 listas para almacenar las etiquetas reales y las etiquetas predichas y así poder calcular las métricas\n",
    "y_true_samsung = []\n",
    "y_pred_samsung = []\n",
    "#creamos una para almacenar también la salida del modelo, para posteriormente poder calcular AUC\n",
    "predictions = []\n",
    "#y definimos una función para convertir esa salida a forma de probabilidad (usando Softmax)\n",
    "m = nn.Softmax(dim=1)\n",
    "#es importante activar torch.no_grad() para que la red no entrene al pasarle el conjunto de test, no varíen los pesos\n",
    "with torch.no_grad():\n",
    "    #recorremos el conjunto de imágenes de test de Samsung en este caso \n",
    "    for data in test_S_loader:\n",
    "        images, labels = data #cargamos las imágenes y las etiquetas del dataloader\n",
    "        outputs = ghosh(images) #obtenemos las predicciones\n",
    "        predictions.append(m(outputs).numpy()) #las convertimos a probabilidad mediante Softmax \n",
    "        _, predicted = torch.max(outputs.data,1) #y obtenemos las etiquetas o labels predichas a partir de la probabilidad\n",
    "        y_pred_samsung.append(predicted.numpy()) #añadimos la predicción a la lista de predicciones\n",
    "        y_true_samsung.append(labels.numpy()) #y añadimos la etiqueta real a la lista de etiquetas reales\n",
    "#convertimos los datos a formato np.array de una única dimensión \n",
    "y_true_samsung = np.concatenate(y_true_samsung)\n",
    "y_pred_samsung = np.concatenate(y_pred_samsung)\n",
    "predictions = np.concatenate(predictions)"
   ]
  },
  {
   "cell_type": "code",
   "execution_count": 52,
   "id": "7cc25caa",
   "metadata": {},
   "outputs": [
    {
     "name": "stdout",
     "output_type": "stream",
     "text": [
      "AxesSubplot(0.125,0.125;0.775x0.755)\n",
      "El valor de accuracy del modelo con imágenes de samsung es: 0.25806451612903225\n",
      "El valor de balanced accuracy del modelo con imágenes de samsung es: 0.17327659574468085\n",
      "El valor de F-score del modelo con imágenes de samsung es: 0.18637992831541222\n",
      "El valor de Kappa del modelo con imágenes de samsung es: -0.04460361386944478\n",
      "El valor de AUC del modelo con imágenes de samsung es: 0.5275870390413006\n"
     ]
    },
    {
     "data": {
      "image/png": "[encoded data removed]",
      "text/plain": [
       "<Figure size 432x288 with 1 Axes>"
      ]
     },
     "metadata": {
      "needs_background": "light"
     },
     "output_type": "display_data"
    }
   ],
   "source": [
    "#a partir de las predicciones y las labels reales podemos calcular las métricas deseadas\n",
    "matrix_samsung = confusion_matrix(y_true_samsung, y_pred_samsung)\n",
    "plot = sns.heatmap(matrix_samsung, annot = True, cmap = 'Reds', cbar = False)\n",
    "#establecemos título\n",
    "plot.set_title('Matriz de confusión - Samsung\\n')\n",
    "#título de cada eje\n",
    "plot.set_xlabel('\\nGrado Samsung')\n",
    "plot.set_ylabel('Grado real\\n')\n",
    "#y el significado de cada fila y columna de la matriz\n",
    "plot.xaxis.set_ticklabels(['Grado1','Grado2','Grado3','Grado4','Grado5'])\n",
    "plot.yaxis.set_ticklabels(['Grado1','Grado2','Grado3','Grado4','Grado5'])\n",
    "print(plot)\n",
    "\n",
    "#calculamos el valor de accuracy\n",
    "accuracy_samsung = accuracy_score(y_true = y_true_samsung, y_pred = y_pred_samsung)\n",
    "print(f'El valor de accuracy del modelo con imágenes de samsung es: {accuracy_samsung}')\n",
    "#el balanced accuracy\n",
    "bal_acc_samsung = balanced_accuracy_score(y_true = y_true_samsung, y_pred = y_pred_samsung)\n",
    "print(f'El valor de balanced accuracy del modelo con imágenes de samsung es: {bal_acc_samsung}')\n",
    "#el F-score\n",
    "f_score_samsung = f1_score(y_true = y_true_samsung, y_pred = y_pred_samsung,average = 'weighted')\n",
    "print(f'El valor de F-score del modelo con imágenes de samsung es: {f_score_samsung}')\n",
    "#calculamos el valor de quadratic weighted kappa\n",
    "kappa_samsung = cohen_kappa_score(y1 = y_true_samsung, y2 = y_pred_samsung)\n",
    "print(f'El valor de Kappa del modelo con imágenes de samsung es: {kappa_samsung}')\n",
    "#y por último calculamos el valor de AUC bajo la curva ROC\n",
    "auc_samsung = roc_auc_score(y_true = y_true_samsung, y_score = predictions, multi_class = 'ovr')\n",
    "print(f'El valor de AUC del modelo con imágenes de samsung es: {auc_samsung}')"
   ]
  },
  {
   "cell_type": "code",
   "execution_count": 3,
   "id": "72fa636f",
   "metadata": {},
   "outputs": [],
   "source": [
    "#una vez finalizado la construcción del modelo basado en Ghosh repetimos el proceso pero en este caso siguiendo la arquitectura planteada por Mobeen-ur-Rehman"
   ]
  },
  {
   "cell_type": "code",
   "execution_count": 4,
   "id": "757757b3",
   "metadata": {},
   "outputs": [],
   "source": [
    "#debido a que en esta arquitectura no se especifica un tamaño de escala en particular, el valor se mantendrá sin modificar\n",
    "#procedo directamente a definir la arquitectura"
   ]
  },
  {
   "cell_type": "code",
   "execution_count": 64,
   "id": "fae7ec9a",
   "metadata": {},
   "outputs": [],
   "source": [
    "#ARQUITECTURA DEFINIDA POR MOBEEN-UR-REHMAN\n",
    "class Mobeen(nn.Module):\n",
    "    \n",
    "    def __init__(self):\n",
    "        #sobreescribimos el constructor del padre\n",
    "        super(Mobeen,self).__init__()\n",
    "        #creamos la primera capa convolucional\n",
    "        self.conv1 = nn.Conv2d(\n",
    "            in_channels = 3, #3 canales de entrada porque las imágenes son a color\n",
    "            out_channels = 4, #se trata del número de salidas de la capa. Es el número de kernels de la capa convolucional\n",
    "            kernel_size = 3, #suele tratarse de un número impar\n",
    "            stride = 1, #cantidad píxeles que se desplaza el filtro sobre la imagen\n",
    "            padding = 2, #cantidad de relleno que se va a aplicar sobre los bordes de la imagen\n",
    "        )\n",
    "        \n",
    "        #creamos la segunda capa convolucional\n",
    "        self.conv2 = nn.Conv2d(\n",
    "            in_channels = 4, #3 canales de entrada porque las imágenes son a color\n",
    "            out_channels = 16, #se trata del número de salidas de la capa. Es el número de kernels de la capa convolucional\n",
    "            kernel_size = 3, #suele tratarse de un número impar\n",
    "            stride = 1, #cantidad píxeles que se desplaza el filtro sobre la imagen\n",
    "            padding = 2, #cantidad de relleno que se va a aplicar sobre los bordes de la imagen\n",
    "        )\n",
    "        \n",
    "        #definimos la capa de maxpooling\n",
    "        self.pool = nn.MaxPool2d(\n",
    "            kernel_size = 2, #establecemos el tamaño del kernel a 2*2\n",
    "            stride = 2 #cantidad píxeles que se desplaza el filtro sobre la imagen (por defecto se desplazará el tamaño del kernel)\n",
    "        )\n",
    "        \n",
    "        #y continuamos con las capas de neuronas fully-connected\n",
    "        self.fc1 = nn.Linear(\n",
    "            in_features = 16*129*129, #número de parámetros de entrada de la red\n",
    "            out_features = 100\n",
    "        )\n",
    "        \n",
    "        #segunda capa fully-connected\n",
    "        self.fc2 = nn.Linear(100,50)\n",
    "        \n",
    "        #y la última capa de fully connected que va a ser la que proporcione la última predicción\n",
    "        self.fc3 = nn.Linear(50,5)\n",
    "        \n",
    "    def forward(self,x):\n",
    "        #en esta función es donde tiene lugar la computación (y la función invocada por defecto al ejecutar la red)\n",
    "        #en esta ocasión la función de activación que emplearemos es ReLU\n",
    "        #primero tiene lugar la primera capa convolucional, con su respectiva activación y pooling\n",
    "        x = self.pool(F.relu(self.conv1(x)))\n",
    "        #posteriormente la segunda capa convolucional, con ReLU y pooling\n",
    "        x = self.pool(F.relu(self.conv2(x)))\n",
    "        #posteriormente la capa de flatten que convierte los datos de forma matricial a vectorial, para poder trabajar en las capas neuronales\n",
    "        x = x.view(-1,self.num_flat_features(x))#usamos una función propia de la clase para obtener el número de características\n",
    "        #por último las 3 capas neuronales fully-connected, con su correspondiente activación\n",
    "        x = F.relu(self.fc1(x))\n",
    "        x = F.relu(self.fc2(x))\n",
    "        x = self.fc3(x)\n",
    "        \n",
    "        return x\n",
    "    \n",
    "    def num_flat_features(self,x):\n",
    "        #por último definimos la función que permite obtener el número de características de los tensores\n",
    "        size = x.size()[1:] #seleccionamos todas las dimensiones expcepto la primera (que son los batches)\n",
    "        num_features = 1\n",
    "        #va iterando y calcula el número de características de los datos (x)\n",
    "        for s in size:\n",
    "            num_features*=s\n",
    "        return num_features"
   ]
  },
  {
   "cell_type": "code",
   "execution_count": 65,
   "id": "bc93f71b",
   "metadata": {
    "scrolled": true
   },
   "outputs": [
    {
     "name": "stdout",
     "output_type": "stream",
     "text": [
      "Mobeen(\n",
      "  (conv1): Conv2d(3, 4, kernel_size=(3, 3), stride=(1, 1), padding=(2, 2))\n",
      "  (conv2): Conv2d(4, 16, kernel_size=(3, 3), stride=(1, 1), padding=(2, 2))\n",
      "  (pool): MaxPool2d(kernel_size=2, stride=2, padding=0, dilation=1, ceil_mode=False)\n",
      "  (fc1): Linear(in_features=266256, out_features=100, bias=True)\n",
      "  (fc2): Linear(in_features=100, out_features=50, bias=True)\n",
      "  (fc3): Linear(in_features=50, out_features=5, bias=True)\n",
      ")\n"
     ]
    }
   ],
   "source": [
    "#una vez creada la estructura generamos una instancia de la misma y mostramos sus capas\n",
    "mobeen = Mobeen()\n",
    "print(mobeen)"
   ]
  },
  {
   "cell_type": "code",
   "execution_count": 66,
   "id": "f6f9a618",
   "metadata": {},
   "outputs": [],
   "source": [
    "#definimos como loss la función de tipo cross entropy \n",
    "criterion = nn.CrossEntropyLoss() "
   ]
  },
  {
   "cell_type": "code",
   "execution_count": 67,
   "id": "0a50cc21",
   "metadata": {},
   "outputs": [],
   "source": [
    "#en este caso el optimizador será la función Adam (ampliamente utilizada)\n",
    "optimizer = torch.optim.Adam(params = mobeen.parameters()) #dejamos el valor de learning rate por defecto"
   ]
  },
  {
   "cell_type": "code",
   "execution_count": 68,
   "id": "be7ff967",
   "metadata": {
    "collapsed": true
   },
   "outputs": [
    {
     "name": "stdout",
     "output_type": "stream",
     "text": [
      "Época 1/50 - Accuracy: 0.39823008849557523 - Loss: 0.4233042895793915\n"
     ]
    },
    {
     "ename": "KeyboardInterrupt",
     "evalue": "",
     "output_type": "error",
     "traceback": [
      "\u001b[1;31m---------------------------------------------------------------------------\u001b[0m",
      "\u001b[1;31mKeyboardInterrupt\u001b[0m                         Traceback (most recent call last)",
      "Input \u001b[1;32mIn [68]\u001b[0m, in \u001b[0;36m<cell line: 6>\u001b[1;34m()\u001b[0m\n\u001b[0;32m      9\u001b[0m total \u001b[38;5;241m=\u001b[39m \u001b[38;5;241m0\u001b[39m\n\u001b[0;32m     10\u001b[0m \u001b[38;5;66;03m#y cargamos las imágenes de entrenamiento y sus etiquetas usando la estructura Loader previamente creada\u001b[39;00m\n\u001b[1;32m---> 11\u001b[0m \u001b[38;5;28;01mfor\u001b[39;00m i, data \u001b[38;5;129;01min\u001b[39;00m \u001b[38;5;28menumerate\u001b[39m(train_loader):\n\u001b[0;32m     12\u001b[0m     inputs, labels \u001b[38;5;241m=\u001b[39m data\n\u001b[0;32m     13\u001b[0m     \u001b[38;5;66;03m#establecemos a 0 los parámetros del modelo\u001b[39;00m\n",
      "File \u001b[1;32m~\\anaconda3\\envs\\venv_py39\\lib\\site-packages\\torch\\utils\\data\\dataloader.py:628\u001b[0m, in \u001b[0;36m_BaseDataLoaderIter.__next__\u001b[1;34m(self)\u001b[0m\n\u001b[0;32m    625\u001b[0m \u001b[38;5;28;01mif\u001b[39;00m \u001b[38;5;28mself\u001b[39m\u001b[38;5;241m.\u001b[39m_sampler_iter \u001b[38;5;129;01mis\u001b[39;00m \u001b[38;5;28;01mNone\u001b[39;00m:\n\u001b[0;32m    626\u001b[0m     \u001b[38;5;66;03m# TODO(https://github.com/pytorch/pytorch/issues/76750)\u001b[39;00m\n\u001b[0;32m    627\u001b[0m     \u001b[38;5;28mself\u001b[39m\u001b[38;5;241m.\u001b[39m_reset()  \u001b[38;5;66;03m# type: ignore[call-arg]\u001b[39;00m\n\u001b[1;32m--> 628\u001b[0m data \u001b[38;5;241m=\u001b[39m \u001b[38;5;28;43mself\u001b[39;49m\u001b[38;5;241;43m.\u001b[39;49m\u001b[43m_next_data\u001b[49m\u001b[43m(\u001b[49m\u001b[43m)\u001b[49m\n\u001b[0;32m    629\u001b[0m \u001b[38;5;28mself\u001b[39m\u001b[38;5;241m.\u001b[39m_num_yielded \u001b[38;5;241m+\u001b[39m\u001b[38;5;241m=\u001b[39m \u001b[38;5;241m1\u001b[39m\n\u001b[0;32m    630\u001b[0m \u001b[38;5;28;01mif\u001b[39;00m \u001b[38;5;28mself\u001b[39m\u001b[38;5;241m.\u001b[39m_dataset_kind \u001b[38;5;241m==\u001b[39m _DatasetKind\u001b[38;5;241m.\u001b[39mIterable \u001b[38;5;129;01mand\u001b[39;00m \\\n\u001b[0;32m    631\u001b[0m         \u001b[38;5;28mself\u001b[39m\u001b[38;5;241m.\u001b[39m_IterableDataset_len_called \u001b[38;5;129;01mis\u001b[39;00m \u001b[38;5;129;01mnot\u001b[39;00m \u001b[38;5;28;01mNone\u001b[39;00m \u001b[38;5;129;01mand\u001b[39;00m \\\n\u001b[0;32m    632\u001b[0m         \u001b[38;5;28mself\u001b[39m\u001b[38;5;241m.\u001b[39m_num_yielded \u001b[38;5;241m>\u001b[39m \u001b[38;5;28mself\u001b[39m\u001b[38;5;241m.\u001b[39m_IterableDataset_len_called:\n",
      "File \u001b[1;32m~\\anaconda3\\envs\\venv_py39\\lib\\site-packages\\torch\\utils\\data\\dataloader.py:1316\u001b[0m, in \u001b[0;36m_MultiProcessingDataLoaderIter._next_data\u001b[1;34m(self)\u001b[0m\n\u001b[0;32m   1313\u001b[0m     \u001b[38;5;28;01mreturn\u001b[39;00m \u001b[38;5;28mself\u001b[39m\u001b[38;5;241m.\u001b[39m_process_data(data)\n\u001b[0;32m   1315\u001b[0m \u001b[38;5;28;01massert\u001b[39;00m \u001b[38;5;129;01mnot\u001b[39;00m \u001b[38;5;28mself\u001b[39m\u001b[38;5;241m.\u001b[39m_shutdown \u001b[38;5;129;01mand\u001b[39;00m \u001b[38;5;28mself\u001b[39m\u001b[38;5;241m.\u001b[39m_tasks_outstanding \u001b[38;5;241m>\u001b[39m \u001b[38;5;241m0\u001b[39m\n\u001b[1;32m-> 1316\u001b[0m idx, data \u001b[38;5;241m=\u001b[39m \u001b[38;5;28;43mself\u001b[39;49m\u001b[38;5;241;43m.\u001b[39;49m\u001b[43m_get_data\u001b[49m\u001b[43m(\u001b[49m\u001b[43m)\u001b[49m\n\u001b[0;32m   1317\u001b[0m \u001b[38;5;28mself\u001b[39m\u001b[38;5;241m.\u001b[39m_tasks_outstanding \u001b[38;5;241m-\u001b[39m\u001b[38;5;241m=\u001b[39m \u001b[38;5;241m1\u001b[39m\n\u001b[0;32m   1318\u001b[0m \u001b[38;5;28;01mif\u001b[39;00m \u001b[38;5;28mself\u001b[39m\u001b[38;5;241m.\u001b[39m_dataset_kind \u001b[38;5;241m==\u001b[39m _DatasetKind\u001b[38;5;241m.\u001b[39mIterable:\n\u001b[0;32m   1319\u001b[0m     \u001b[38;5;66;03m# Check for _IterableDatasetStopIteration\u001b[39;00m\n",
      "File \u001b[1;32m~\\anaconda3\\envs\\venv_py39\\lib\\site-packages\\torch\\utils\\data\\dataloader.py:1282\u001b[0m, in \u001b[0;36m_MultiProcessingDataLoaderIter._get_data\u001b[1;34m(self)\u001b[0m\n\u001b[0;32m   1278\u001b[0m     \u001b[38;5;66;03m# In this case, `self._data_queue` is a `queue.Queue`,. But we don't\u001b[39;00m\n\u001b[0;32m   1279\u001b[0m     \u001b[38;5;66;03m# need to call `.task_done()` because we don't use `.join()`.\u001b[39;00m\n\u001b[0;32m   1280\u001b[0m \u001b[38;5;28;01melse\u001b[39;00m:\n\u001b[0;32m   1281\u001b[0m     \u001b[38;5;28;01mwhile\u001b[39;00m \u001b[38;5;28;01mTrue\u001b[39;00m:\n\u001b[1;32m-> 1282\u001b[0m         success, data \u001b[38;5;241m=\u001b[39m \u001b[38;5;28;43mself\u001b[39;49m\u001b[38;5;241;43m.\u001b[39;49m\u001b[43m_try_get_data\u001b[49m\u001b[43m(\u001b[49m\u001b[43m)\u001b[49m\n\u001b[0;32m   1283\u001b[0m         \u001b[38;5;28;01mif\u001b[39;00m success:\n\u001b[0;32m   1284\u001b[0m             \u001b[38;5;28;01mreturn\u001b[39;00m data\n",
      "File \u001b[1;32m~\\anaconda3\\envs\\venv_py39\\lib\\site-packages\\torch\\utils\\data\\dataloader.py:1120\u001b[0m, in \u001b[0;36m_MultiProcessingDataLoaderIter._try_get_data\u001b[1;34m(self, timeout)\u001b[0m\n\u001b[0;32m   1107\u001b[0m \u001b[38;5;28;01mdef\u001b[39;00m \u001b[38;5;21m_try_get_data\u001b[39m(\u001b[38;5;28mself\u001b[39m, timeout\u001b[38;5;241m=\u001b[39m_utils\u001b[38;5;241m.\u001b[39mMP_STATUS_CHECK_INTERVAL):\n\u001b[0;32m   1108\u001b[0m     \u001b[38;5;66;03m# Tries to fetch data from `self._data_queue` once for a given timeout.\u001b[39;00m\n\u001b[0;32m   1109\u001b[0m     \u001b[38;5;66;03m# This can also be used as inner loop of fetching without timeout, with\u001b[39;00m\n\u001b[1;32m   (...)\u001b[0m\n\u001b[0;32m   1117\u001b[0m     \u001b[38;5;66;03m# Returns a 2-tuple:\u001b[39;00m\n\u001b[0;32m   1118\u001b[0m     \u001b[38;5;66;03m#   (bool: whether successfully get data, any: data if successful else None)\u001b[39;00m\n\u001b[0;32m   1119\u001b[0m     \u001b[38;5;28;01mtry\u001b[39;00m:\n\u001b[1;32m-> 1120\u001b[0m         data \u001b[38;5;241m=\u001b[39m \u001b[38;5;28;43mself\u001b[39;49m\u001b[38;5;241;43m.\u001b[39;49m\u001b[43m_data_queue\u001b[49m\u001b[38;5;241;43m.\u001b[39;49m\u001b[43mget\u001b[49m\u001b[43m(\u001b[49m\u001b[43mtimeout\u001b[49m\u001b[38;5;241;43m=\u001b[39;49m\u001b[43mtimeout\u001b[49m\u001b[43m)\u001b[49m\n\u001b[0;32m   1121\u001b[0m         \u001b[38;5;28;01mreturn\u001b[39;00m (\u001b[38;5;28;01mTrue\u001b[39;00m, data)\n\u001b[0;32m   1122\u001b[0m     \u001b[38;5;28;01mexcept\u001b[39;00m \u001b[38;5;167;01mException\u001b[39;00m \u001b[38;5;28;01mas\u001b[39;00m e:\n\u001b[0;32m   1123\u001b[0m         \u001b[38;5;66;03m# At timeout and error, we manually check whether any worker has\u001b[39;00m\n\u001b[0;32m   1124\u001b[0m         \u001b[38;5;66;03m# failed. Note that this is the only mechanism for Windows to detect\u001b[39;00m\n\u001b[0;32m   1125\u001b[0m         \u001b[38;5;66;03m# worker failures.\u001b[39;00m\n",
      "File \u001b[1;32m~\\anaconda3\\envs\\venv_py39\\lib\\multiprocessing\\queues.py:113\u001b[0m, in \u001b[0;36mQueue.get\u001b[1;34m(self, block, timeout)\u001b[0m\n\u001b[0;32m    111\u001b[0m \u001b[38;5;28;01mif\u001b[39;00m block:\n\u001b[0;32m    112\u001b[0m     timeout \u001b[38;5;241m=\u001b[39m deadline \u001b[38;5;241m-\u001b[39m time\u001b[38;5;241m.\u001b[39mmonotonic()\n\u001b[1;32m--> 113\u001b[0m     \u001b[38;5;28;01mif\u001b[39;00m \u001b[38;5;129;01mnot\u001b[39;00m \u001b[38;5;28;43mself\u001b[39;49m\u001b[38;5;241;43m.\u001b[39;49m\u001b[43m_poll\u001b[49m\u001b[43m(\u001b[49m\u001b[43mtimeout\u001b[49m\u001b[43m)\u001b[49m:\n\u001b[0;32m    114\u001b[0m         \u001b[38;5;28;01mraise\u001b[39;00m Empty\n\u001b[0;32m    115\u001b[0m \u001b[38;5;28;01melif\u001b[39;00m \u001b[38;5;129;01mnot\u001b[39;00m \u001b[38;5;28mself\u001b[39m\u001b[38;5;241m.\u001b[39m_poll():\n",
      "File \u001b[1;32m~\\anaconda3\\envs\\venv_py39\\lib\\multiprocessing\\connection.py:262\u001b[0m, in \u001b[0;36m_ConnectionBase.poll\u001b[1;34m(self, timeout)\u001b[0m\n\u001b[0;32m    260\u001b[0m \u001b[38;5;28mself\u001b[39m\u001b[38;5;241m.\u001b[39m_check_closed()\n\u001b[0;32m    261\u001b[0m \u001b[38;5;28mself\u001b[39m\u001b[38;5;241m.\u001b[39m_check_readable()\n\u001b[1;32m--> 262\u001b[0m \u001b[38;5;28;01mreturn\u001b[39;00m \u001b[38;5;28;43mself\u001b[39;49m\u001b[38;5;241;43m.\u001b[39;49m\u001b[43m_poll\u001b[49m\u001b[43m(\u001b[49m\u001b[43mtimeout\u001b[49m\u001b[43m)\u001b[49m\n",
      "File \u001b[1;32m~\\anaconda3\\envs\\venv_py39\\lib\\multiprocessing\\connection.py:335\u001b[0m, in \u001b[0;36mPipeConnection._poll\u001b[1;34m(self, timeout)\u001b[0m\n\u001b[0;32m    332\u001b[0m \u001b[38;5;28;01mif\u001b[39;00m (\u001b[38;5;28mself\u001b[39m\u001b[38;5;241m.\u001b[39m_got_empty_message \u001b[38;5;129;01mor\u001b[39;00m\n\u001b[0;32m    333\u001b[0m             _winapi\u001b[38;5;241m.\u001b[39mPeekNamedPipe(\u001b[38;5;28mself\u001b[39m\u001b[38;5;241m.\u001b[39m_handle)[\u001b[38;5;241m0\u001b[39m] \u001b[38;5;241m!=\u001b[39m \u001b[38;5;241m0\u001b[39m):\n\u001b[0;32m    334\u001b[0m     \u001b[38;5;28;01mreturn\u001b[39;00m \u001b[38;5;28;01mTrue\u001b[39;00m\n\u001b[1;32m--> 335\u001b[0m \u001b[38;5;28;01mreturn\u001b[39;00m \u001b[38;5;28mbool\u001b[39m(\u001b[43mwait\u001b[49m\u001b[43m(\u001b[49m\u001b[43m[\u001b[49m\u001b[38;5;28;43mself\u001b[39;49m\u001b[43m]\u001b[49m\u001b[43m,\u001b[49m\u001b[43m \u001b[49m\u001b[43mtimeout\u001b[49m\u001b[43m)\u001b[49m)\n",
      "File \u001b[1;32m~\\anaconda3\\envs\\venv_py39\\lib\\multiprocessing\\connection.py:884\u001b[0m, in \u001b[0;36mwait\u001b[1;34m(object_list, timeout)\u001b[0m\n\u001b[0;32m    881\u001b[0m                 ready_objects\u001b[38;5;241m.\u001b[39madd(o)\n\u001b[0;32m    882\u001b[0m                 timeout \u001b[38;5;241m=\u001b[39m \u001b[38;5;241m0\u001b[39m\n\u001b[1;32m--> 884\u001b[0m     ready_handles \u001b[38;5;241m=\u001b[39m \u001b[43m_exhaustive_wait\u001b[49m\u001b[43m(\u001b[49m\u001b[43mwaithandle_to_obj\u001b[49m\u001b[38;5;241;43m.\u001b[39;49m\u001b[43mkeys\u001b[49m\u001b[43m(\u001b[49m\u001b[43m)\u001b[49m\u001b[43m,\u001b[49m\u001b[43m \u001b[49m\u001b[43mtimeout\u001b[49m\u001b[43m)\u001b[49m\n\u001b[0;32m    885\u001b[0m \u001b[38;5;28;01mfinally\u001b[39;00m:\n\u001b[0;32m    886\u001b[0m     \u001b[38;5;66;03m# request that overlapped reads stop\u001b[39;00m\n\u001b[0;32m    887\u001b[0m     \u001b[38;5;28;01mfor\u001b[39;00m ov \u001b[38;5;129;01min\u001b[39;00m ov_list:\n",
      "File \u001b[1;32m~\\anaconda3\\envs\\venv_py39\\lib\\multiprocessing\\connection.py:816\u001b[0m, in \u001b[0;36m_exhaustive_wait\u001b[1;34m(handles, timeout)\u001b[0m\n\u001b[0;32m    814\u001b[0m ready \u001b[38;5;241m=\u001b[39m []\n\u001b[0;32m    815\u001b[0m \u001b[38;5;28;01mwhile\u001b[39;00m L:\n\u001b[1;32m--> 816\u001b[0m     res \u001b[38;5;241m=\u001b[39m \u001b[43m_winapi\u001b[49m\u001b[38;5;241;43m.\u001b[39;49m\u001b[43mWaitForMultipleObjects\u001b[49m\u001b[43m(\u001b[49m\u001b[43mL\u001b[49m\u001b[43m,\u001b[49m\u001b[43m \u001b[49m\u001b[38;5;28;43;01mFalse\u001b[39;49;00m\u001b[43m,\u001b[49m\u001b[43m \u001b[49m\u001b[43mtimeout\u001b[49m\u001b[43m)\u001b[49m\n\u001b[0;32m    817\u001b[0m     \u001b[38;5;28;01mif\u001b[39;00m res \u001b[38;5;241m==\u001b[39m WAIT_TIMEOUT:\n\u001b[0;32m    818\u001b[0m         \u001b[38;5;28;01mbreak\u001b[39;00m\n",
      "\u001b[1;31mKeyboardInterrupt\u001b[0m: "
     ]
    }
   ],
   "source": [
    "#a continuación vamos a entrenar la red\n",
    "#definimos 2 listas en las que almacenaremos los valores de accuracy y loss de cada época para poder graficarlo posteriormente\n",
    "acc_graph = []\n",
    "loss_graph = []\n",
    "#para entrenar el modelo vamos a iterar el número de épocas determinadas, calculando el valor de loss y accuracy para cada época\n",
    "for epoch in range(epocas):\n",
    "    #establecemos el número de predicciones correctas inicial a 0\n",
    "    correct = 0\n",
    "    total = 0\n",
    "    #y cargamos las imágenes de entrenamiento y sus etiquetas usando la estructura Loader previamente creada\n",
    "    for i, data in enumerate(train_loader):\n",
    "        inputs, labels = data\n",
    "        #establecemos a 0 los parámetros del modelo\n",
    "        optimizer.zero_grad()\n",
    "        #generamos las predicciones de los inputs\n",
    "        outputs = mobeen(inputs)\n",
    "        #calculamos el loss, la desviación de las predicciones con respecto a las etiquetas\n",
    "        loss = criterion(outputs, labels)\n",
    "        #propagamos hacia atrás el valor loss\n",
    "        loss.backward()\n",
    "        #y modificamos los pesos en función del loss y la función optimizer\n",
    "        optimizer.step()\n",
    "        #actualizamos el número de predicciones correctas\n",
    "        _, predicted = torch.max(outputs.data, 1)\n",
    "        total += labels.size(0)\n",
    "        correct += (predicted == labels).sum().item()\n",
    "    \n",
    "    #una vez finalizada la época (que recorre todo el conjunto de imágenes) mostramos el valor del loss y del accuracy\n",
    "    print(f'Época {epoch +1}/{epocas} - Accuracy: {correct/len(OCT)} - Loss: {loss.data.item()}')\n",
    "    #añadimos los valores a la lista correspondiente\n",
    "    loss_graph.append(loss.data.item())\n",
    "    acc_graph.append(correct/len(OCT))"
   ]
  },
  {
   "cell_type": "code",
   "execution_count": 71,
   "id": "1a68d6dc",
   "metadata": {},
   "outputs": [
    {
     "ename": "ValueError",
     "evalue": "x and y must have same first dimension, but have shapes (50,) and (1,)",
     "output_type": "error",
     "traceback": [
      "\u001b[1;31m---------------------------------------------------------------------------\u001b[0m",
      "\u001b[1;31mValueError\u001b[0m                                Traceback (most recent call last)",
      "Input \u001b[1;32mIn [71]\u001b[0m, in \u001b[0;36m<cell line: 6>\u001b[1;34m()\u001b[0m\n\u001b[0;32m      4\u001b[0m plt\u001b[38;5;241m.\u001b[39mxlabel(\u001b[38;5;124m'\u001b[39m\u001b[38;5;124mNº Época\u001b[39m\u001b[38;5;124m'\u001b[39m)\n\u001b[0;32m      5\u001b[0m plt\u001b[38;5;241m.\u001b[39mylabel(\u001b[38;5;124m'\u001b[39m\u001b[38;5;124mAccuracy\u001b[39m\u001b[38;5;124m'\u001b[39m)\n\u001b[1;32m----> 6\u001b[0m \u001b[43mplt\u001b[49m\u001b[38;5;241;43m.\u001b[39;49m\u001b[43mplot\u001b[49m\u001b[43m(\u001b[49m\u001b[38;5;28;43mrange\u001b[39;49m\u001b[43m(\u001b[49m\u001b[38;5;241;43m1\u001b[39;49m\u001b[43m,\u001b[49m\u001b[43mepocas\u001b[49m\u001b[38;5;241;43m+\u001b[39;49m\u001b[38;5;241;43m1\u001b[39;49m\u001b[43m)\u001b[49m\u001b[43m,\u001b[49m\u001b[43macc_graph\u001b[49m\u001b[43m,\u001b[49m\u001b[43m \u001b[49m\u001b[43mlinewidth\u001b[49m\u001b[43m \u001b[49m\u001b[38;5;241;43m=\u001b[39;49m\u001b[43m \u001b[49m\u001b[38;5;241;43m3\u001b[39;49m\u001b[43m)\u001b[49m\n\u001b[0;32m      7\u001b[0m plt\u001b[38;5;241m.\u001b[39mshow()\n",
      "File \u001b[1;32m~\\anaconda3\\envs\\venv_py39\\lib\\site-packages\\matplotlib\\pyplot.py:2757\u001b[0m, in \u001b[0;36mplot\u001b[1;34m(scalex, scaley, data, *args, **kwargs)\u001b[0m\n\u001b[0;32m   2755\u001b[0m \u001b[38;5;129m@_copy_docstring_and_deprecators\u001b[39m(Axes\u001b[38;5;241m.\u001b[39mplot)\n\u001b[0;32m   2756\u001b[0m \u001b[38;5;28;01mdef\u001b[39;00m \u001b[38;5;21mplot\u001b[39m(\u001b[38;5;241m*\u001b[39margs, scalex\u001b[38;5;241m=\u001b[39m\u001b[38;5;28;01mTrue\u001b[39;00m, scaley\u001b[38;5;241m=\u001b[39m\u001b[38;5;28;01mTrue\u001b[39;00m, data\u001b[38;5;241m=\u001b[39m\u001b[38;5;28;01mNone\u001b[39;00m, \u001b[38;5;241m*\u001b[39m\u001b[38;5;241m*\u001b[39mkwargs):\n\u001b[1;32m-> 2757\u001b[0m     \u001b[38;5;28;01mreturn\u001b[39;00m gca()\u001b[38;5;241m.\u001b[39mplot(\n\u001b[0;32m   2758\u001b[0m         \u001b[38;5;241m*\u001b[39margs, scalex\u001b[38;5;241m=\u001b[39mscalex, scaley\u001b[38;5;241m=\u001b[39mscaley,\n\u001b[0;32m   2759\u001b[0m         \u001b[38;5;241m*\u001b[39m\u001b[38;5;241m*\u001b[39m({\u001b[38;5;124m\"\u001b[39m\u001b[38;5;124mdata\u001b[39m\u001b[38;5;124m\"\u001b[39m: data} \u001b[38;5;28;01mif\u001b[39;00m data \u001b[38;5;129;01mis\u001b[39;00m \u001b[38;5;129;01mnot\u001b[39;00m \u001b[38;5;28;01mNone\u001b[39;00m \u001b[38;5;28;01melse\u001b[39;00m {}), \u001b[38;5;241m*\u001b[39m\u001b[38;5;241m*\u001b[39mkwargs)\n",
      "File \u001b[1;32m~\\anaconda3\\envs\\venv_py39\\lib\\site-packages\\matplotlib\\axes\\_axes.py:1632\u001b[0m, in \u001b[0;36mAxes.plot\u001b[1;34m(self, scalex, scaley, data, *args, **kwargs)\u001b[0m\n\u001b[0;32m   1390\u001b[0m \u001b[38;5;124;03m\"\"\"\u001b[39;00m\n\u001b[0;32m   1391\u001b[0m \u001b[38;5;124;03mPlot y versus x as lines and/or markers.\u001b[39;00m\n\u001b[0;32m   1392\u001b[0m \n\u001b[1;32m   (...)\u001b[0m\n\u001b[0;32m   1629\u001b[0m \u001b[38;5;124;03m(``'green'``) or hex strings (``'#008000'``).\u001b[39;00m\n\u001b[0;32m   1630\u001b[0m \u001b[38;5;124;03m\"\"\"\u001b[39;00m\n\u001b[0;32m   1631\u001b[0m kwargs \u001b[38;5;241m=\u001b[39m cbook\u001b[38;5;241m.\u001b[39mnormalize_kwargs(kwargs, mlines\u001b[38;5;241m.\u001b[39mLine2D)\n\u001b[1;32m-> 1632\u001b[0m lines \u001b[38;5;241m=\u001b[39m [\u001b[38;5;241m*\u001b[39m\u001b[38;5;28mself\u001b[39m\u001b[38;5;241m.\u001b[39m_get_lines(\u001b[38;5;241m*\u001b[39margs, data\u001b[38;5;241m=\u001b[39mdata, \u001b[38;5;241m*\u001b[39m\u001b[38;5;241m*\u001b[39mkwargs)]\n\u001b[0;32m   1633\u001b[0m \u001b[38;5;28;01mfor\u001b[39;00m line \u001b[38;5;129;01min\u001b[39;00m lines:\n\u001b[0;32m   1634\u001b[0m     \u001b[38;5;28mself\u001b[39m\u001b[38;5;241m.\u001b[39madd_line(line)\n",
      "File \u001b[1;32m~\\anaconda3\\envs\\venv_py39\\lib\\site-packages\\matplotlib\\axes\\_base.py:312\u001b[0m, in \u001b[0;36m_process_plot_var_args.__call__\u001b[1;34m(self, data, *args, **kwargs)\u001b[0m\n\u001b[0;32m    310\u001b[0m     this \u001b[38;5;241m+\u001b[39m\u001b[38;5;241m=\u001b[39m args[\u001b[38;5;241m0\u001b[39m],\n\u001b[0;32m    311\u001b[0m     args \u001b[38;5;241m=\u001b[39m args[\u001b[38;5;241m1\u001b[39m:]\n\u001b[1;32m--> 312\u001b[0m \u001b[38;5;28;01myield from\u001b[39;00m \u001b[38;5;28;43mself\u001b[39;49m\u001b[38;5;241;43m.\u001b[39;49m\u001b[43m_plot_args\u001b[49m\u001b[43m(\u001b[49m\u001b[43mthis\u001b[49m\u001b[43m,\u001b[49m\u001b[43m \u001b[49m\u001b[43mkwargs\u001b[49m\u001b[43m)\u001b[49m\n",
      "File \u001b[1;32m~\\anaconda3\\envs\\venv_py39\\lib\\site-packages\\matplotlib\\axes\\_base.py:498\u001b[0m, in \u001b[0;36m_process_plot_var_args._plot_args\u001b[1;34m(self, tup, kwargs, return_kwargs)\u001b[0m\n\u001b[0;32m    495\u001b[0m     \u001b[38;5;28mself\u001b[39m\u001b[38;5;241m.\u001b[39maxes\u001b[38;5;241m.\u001b[39myaxis\u001b[38;5;241m.\u001b[39mupdate_units(y)\n\u001b[0;32m    497\u001b[0m \u001b[38;5;28;01mif\u001b[39;00m x\u001b[38;5;241m.\u001b[39mshape[\u001b[38;5;241m0\u001b[39m] \u001b[38;5;241m!=\u001b[39m y\u001b[38;5;241m.\u001b[39mshape[\u001b[38;5;241m0\u001b[39m]:\n\u001b[1;32m--> 498\u001b[0m     \u001b[38;5;28;01mraise\u001b[39;00m \u001b[38;5;167;01mValueError\u001b[39;00m(\u001b[38;5;124mf\u001b[39m\u001b[38;5;124m\"\u001b[39m\u001b[38;5;124mx and y must have same first dimension, but \u001b[39m\u001b[38;5;124m\"\u001b[39m\n\u001b[0;32m    499\u001b[0m                      \u001b[38;5;124mf\u001b[39m\u001b[38;5;124m\"\u001b[39m\u001b[38;5;124mhave shapes \u001b[39m\u001b[38;5;132;01m{\u001b[39;00mx\u001b[38;5;241m.\u001b[39mshape\u001b[38;5;132;01m}\u001b[39;00m\u001b[38;5;124m and \u001b[39m\u001b[38;5;132;01m{\u001b[39;00my\u001b[38;5;241m.\u001b[39mshape\u001b[38;5;132;01m}\u001b[39;00m\u001b[38;5;124m\"\u001b[39m)\n\u001b[0;32m    500\u001b[0m \u001b[38;5;28;01mif\u001b[39;00m x\u001b[38;5;241m.\u001b[39mndim \u001b[38;5;241m>\u001b[39m \u001b[38;5;241m2\u001b[39m \u001b[38;5;129;01mor\u001b[39;00m y\u001b[38;5;241m.\u001b[39mndim \u001b[38;5;241m>\u001b[39m \u001b[38;5;241m2\u001b[39m:\n\u001b[0;32m    501\u001b[0m     \u001b[38;5;28;01mraise\u001b[39;00m \u001b[38;5;167;01mValueError\u001b[39;00m(\u001b[38;5;124mf\u001b[39m\u001b[38;5;124m\"\u001b[39m\u001b[38;5;124mx and y can be no greater than 2D, but have \u001b[39m\u001b[38;5;124m\"\u001b[39m\n\u001b[0;32m    502\u001b[0m                      \u001b[38;5;124mf\u001b[39m\u001b[38;5;124m\"\u001b[39m\u001b[38;5;124mshapes \u001b[39m\u001b[38;5;132;01m{\u001b[39;00mx\u001b[38;5;241m.\u001b[39mshape\u001b[38;5;132;01m}\u001b[39;00m\u001b[38;5;124m and \u001b[39m\u001b[38;5;132;01m{\u001b[39;00my\u001b[38;5;241m.\u001b[39mshape\u001b[38;5;132;01m}\u001b[39;00m\u001b[38;5;124m\"\u001b[39m)\n",
      "\u001b[1;31mValueError\u001b[0m: x and y must have same first dimension, but have shapes (50,) and (1,)"
     ]
    },
    {
     "data": {
      "image/png": "[encoded data removed]",
      "text/plain": [
       "<Figure size 720x504 with 1 Axes>"
      ]
     },
     "metadata": {
      "needs_background": "light"
     },
     "output_type": "display_data"
    }
   ],
   "source": [
    "#a continuación mostramos la evolución temporal del accuracy\n",
    "plt.figure(figsize = (10,7))\n",
    "plt.title('Evolución del Accuracy')\n",
    "plt.xlabel('Nº Época')\n",
    "plt.ylabel('Accuracy')\n",
    "plt.plot(range(1,epocas+1),acc_graph, linewidth = 3)\n",
    "plt.show()"
   ]
  },
  {
   "cell_type": "code",
   "execution_count": null,
   "id": "68777563",
   "metadata": {},
   "outputs": [],
   "source": [
    "#a continuación mostramos la evolución temporal del loss\n",
    "plt.figure(figsize = (10,7))\n",
    "plt.title('Evolución del Loss')\n",
    "plt.xlabel('Nº Época')\n",
    "plt.ylabel('Loss')\n",
    "plt.plot(range(1,epocas+1),loss_graph, color='orange', linewidth = 3)\n",
    "plt.show()"
   ]
  },
  {
   "cell_type": "code",
   "execution_count": 73,
   "id": "8aeffb8b",
   "metadata": {},
   "outputs": [],
   "source": [
    "#por último solo debemos generar las predicciones a partir de la red entrenada\n",
    "#creamos 2 listas para almacenar las etiquetas reales y las etiquetas predichas y así poder calcular las métricas\n",
    "y_true_iphone = []\n",
    "y_pred_iphone = []\n",
    "#creamos una para almacenar también la salida del modelo, para posteriormente poder calcular AUC\n",
    "predictions = []\n",
    "#y definimos una función para convertir esa salida a forma de probabilidad (usando Softmax)\n",
    "m = nn.Softmax(dim=1)\n",
    "#es importante activar torch.no_grad() para que la red no entrene al pasarle el conjunto de test, no varíen los pesos\n",
    "with torch.no_grad():\n",
    "    #recorremos el conjunto de imágenes de test de iPhone\n",
    "    for data in test_i_loader:\n",
    "        images, labels = data #cargamos las imágenes y las etiquetas del dataloader\n",
    "        outputs = mobeen(images) #obtenemos las predicciones\n",
    "        predictions.append(m(outputs).numpy()) #las convertimos a probabilidad mediante Softmax \n",
    "        _, predicted = torch.max(outputs.data,1) #y obtenemos las etiquetas o labels predichas a partir de la probabilidad\n",
    "        y_pred_iphone.append(predicted.numpy()) #añadimos la predicción a la lista de predicciones\n",
    "        y_true_iphone.append(labels.numpy()) #y añadimos la etiqueta real a la lista de etiquetas reales\n",
    "#convertimos los datos a formato np.array de una única dimensión        \n",
    "y_true_iphone = np.concatenate(y_true_iphone)\n",
    "y_pred_iphone = np.concatenate(y_pred_iphone)\n",
    "predictions = np.concatenate(predictions)"
   ]
  },
  {
   "cell_type": "code",
   "execution_count": 74,
   "id": "782ef12f",
   "metadata": {},
   "outputs": [
    {
     "name": "stdout",
     "output_type": "stream",
     "text": [
      "AxesSubplot(0.125,0.125;0.775x0.755)\n",
      "El valor de accuracy del modelo con imágenes de iphone es: 0.48484848484848486\n",
      "El valor de balanced accuracy del modelo con imágenes de iphone es: 0.2\n",
      "El valor de F-score del modelo con imágenes de iphone es: 0.3166357452071738\n",
      "El valor de Kappa del modelo con imágenes de iphone es: 0.0\n",
      "El valor de AUC del modelo con imágenes de iphone es: 0.5160756626852263\n"
     ]
    },
    {
     "data": {
      "image/png": "[encoded data removed]",
      "text/plain": [
       "<Figure size 432x288 with 1 Axes>"
      ]
     },
     "metadata": {
      "needs_background": "light"
     },
     "output_type": "display_data"
    }
   ],
   "source": [
    "#a partir de las predicciones y las labels reales podemos calcular las métricas deseadas\n",
    "#primero la matriz de confusión\n",
    "matrix_iphone = confusion_matrix(y_true_iphone, y_pred_iphone)\n",
    "#usamos el paquete seaborn para mostrar de manera más visual la matriz de confusión\n",
    "plot = sns.heatmap(matrix_iphone, annot = True, cmap = 'Reds', cbar = False)\n",
    "#establecemos título\n",
    "plot.set_title('Matriz de confusión - iPhone\\n')\n",
    "#título de cada eje\n",
    "plot.set_xlabel('\\nGrado Iphone')\n",
    "plot.set_ylabel('Grado real\\n')\n",
    "#y el significado de cada fila y columna de la matriz\n",
    "plot.xaxis.set_ticklabels(['Grado1','Grado2','Grado3','Grado4','Grado5'])\n",
    "plot.yaxis.set_ticklabels(['Grado1','Grado2','Grado3','Grado4','Grado5'])\n",
    "print(plot)\n",
    "\n",
    "#calculamos el valor de accuracy\n",
    "accuracy_iphone = accuracy_score(y_true = y_true_iphone, y_pred = y_pred_iphone)\n",
    "print(f'El valor de accuracy del modelo con imágenes de iphone es: {accuracy_iphone}')\n",
    "#el balanced accuracy\n",
    "bal_acc_iphone = balanced_accuracy_score(y_true = y_true_iphone, y_pred = y_pred_iphone)\n",
    "print(f'El valor de balanced accuracy del modelo con imágenes de iphone es: {bal_acc_iphone}')\n",
    "#el F-score\n",
    "f_score_iphone = f1_score(y_true = y_true_iphone, y_pred = y_pred_iphone,average = 'weighted')\n",
    "print(f'El valor de F-score del modelo con imágenes de iphone es: {f_score_iphone}')\n",
    "#calculamos el valor de quadratic weighted kappa\n",
    "kappa_iphone = cohen_kappa_score(y1 = y_true_iphone, y2 = y_pred_iphone)\n",
    "print(f'El valor de Kappa del modelo con imágenes de iphone es: {kappa_iphone}')\n",
    "#y por último calculamos el valor de AUC bajo la curva ROC\n",
    "auc_iphone = roc_auc_score(y_true = y_true_iphone, y_score = predictions, multi_class = 'ovr')\n",
    "print(f'El valor de AUC del modelo con imágenes de iphone es: {auc_iphone}')"
   ]
  },
  {
   "cell_type": "code",
   "execution_count": 75,
   "id": "76737372",
   "metadata": {},
   "outputs": [],
   "source": [
    "#realizamos el mismo proceso para las imágenes de Samsung\n",
    "#creamos 2 listas para almacenar las etiquetas reales y las etiquetas predichas y así poder calcular las métricas\n",
    "y_true_samsung = []\n",
    "y_pred_samsung = []\n",
    "#creamos una para almacenar también la salida del modelo, para posteriormente poder calcular AUC\n",
    "predictions = []\n",
    "#y definimos una función para convertir esa salida a forma de probabilidad (usando Softmax)\n",
    "m = nn.Softmax(dim=1)\n",
    "#es importante activar torch.no_grad() para que la red no entrene al pasarle el conjunto de test, no varíen los pesos\n",
    "with torch.no_grad():\n",
    "    #recorremos el conjunto de imágenes de test de Samsung en este caso \n",
    "    for data in test_S_loader:\n",
    "        images, labels = data #cargamos las imágenes y las etiquetas del dataloader\n",
    "        outputs = mobeen(images) #obtenemos las predicciones\n",
    "        predictions.append(m(outputs).numpy()) #las convertimos a probabilidad mediante Softmax \n",
    "        _, predicted = torch.max(outputs.data,1) #y obtenemos las etiquetas o labels predichas a partir de la probabilidad\n",
    "        y_pred_samsung.append(predicted.numpy()) #añadimos la predicción a la lista de predicciones\n",
    "        y_true_samsung.append(labels.numpy()) #y añadimos la etiqueta real a la lista de etiquetas reales\n",
    "#convertimos los datos a formato np.array de una única dimensión \n",
    "y_true_samsung = np.concatenate(y_true_samsung)\n",
    "y_pred_samsung = np.concatenate(y_pred_samsung)\n",
    "predictions = np.concatenate(predictions)"
   ]
  },
  {
   "cell_type": "code",
   "execution_count": 76,
   "id": "9da8f0c1",
   "metadata": {},
   "outputs": [
    {
     "name": "stdout",
     "output_type": "stream",
     "text": [
      "AxesSubplot(0.125,0.125;0.775x0.755)\n",
      "El valor de accuracy del modelo con imágenes de samsung es: 0.5053763440860215\n",
      "El valor de balanced accuracy del modelo con imágenes de samsung es: 0.2\n",
      "El valor de F-score del modelo con imágenes de samsung es: 0.3393241167434715\n",
      "El valor de Kappa del modelo con imágenes de samsung es: 0.0\n",
      "El valor de AUC del modelo con imágenes de samsung es: 0.5477874832248264\n"
     ]
    },
    {
     "data": {
      "image/png": "[encoded data removed]",
      "text/plain": [
       "<Figure size 432x288 with 1 Axes>"
      ]
     },
     "metadata": {
      "needs_background": "light"
     },
     "output_type": "display_data"
    }
   ],
   "source": [
    "#a partir de las predicciones y las labels reales podemos calcular las métricas deseadas\n",
    "matrix_samsung = confusion_matrix(y_true_samsung, y_pred_samsung)\n",
    "plot = sns.heatmap(matrix_samsung, annot = True, cmap = 'Reds', cbar = False)\n",
    "#establecemos título\n",
    "plot.set_title('Matriz de confusión - Samsung\\n')\n",
    "#título de cada eje\n",
    "plot.set_xlabel('\\nGrado Samsung')\n",
    "plot.set_ylabel('Grado real\\n')\n",
    "#y el significado de cada fila y columna de la matriz\n",
    "plot.xaxis.set_ticklabels(['Grado1','Grado2','Grado3','Grado4','Grado5'])\n",
    "plot.yaxis.set_ticklabels(['Grado1','Grado2','Grado3','Grado4','Grado5'])\n",
    "print(plot)\n",
    "\n",
    "#calculamos el valor de accuracy\n",
    "accuracy_samsung = accuracy_score(y_true = y_true_samsung, y_pred = y_pred_samsung)\n",
    "print(f'El valor de accuracy del modelo con imágenes de samsung es: {accuracy_samsung}')\n",
    "#el balanced accuracy\n",
    "bal_acc_samsung = balanced_accuracy_score(y_true = y_true_samsung, y_pred = y_pred_samsung)\n",
    "print(f'El valor de balanced accuracy del modelo con imágenes de samsung es: {bal_acc_samsung}')\n",
    "#el F-score\n",
    "f_score_samsung = f1_score(y_true = y_true_samsung, y_pred = y_pred_samsung,average = 'weighted')\n",
    "print(f'El valor de F-score del modelo con imágenes de samsung es: {f_score_samsung}')\n",
    "#calculamos el valor de quadratic weighted kappa\n",
    "kappa_samsung = cohen_kappa_score(y1 = y_true_samsung, y2 = y_pred_samsung)\n",
    "print(f'El valor de Kappa del modelo con imágenes de samsung es: {kappa_samsung}')\n",
    "#y por último calculamos el valor de AUC bajo la curva ROC\n",
    "auc_samsung = roc_auc_score(y_true = y_true_samsung, y_score = predictions, multi_class = 'ovr')\n",
    "print(f'El valor de AUC del modelo con imágenes de samsung es: {auc_samsung}')"
   ]
  },
  {
   "cell_type": "code",
   "execution_count": 10,
   "id": "ae34badf",
   "metadata": {},
   "outputs": [],
   "source": [
    "#a continuación se va a desarrollar la arquitectura propuesta en el artículo escrito por Rajagopalan"
   ]
  },
  {
   "cell_type": "code",
   "execution_count": 11,
   "id": "6c1321e0",
   "metadata": {},
   "outputs": [],
   "source": [
    "#primero debemos redefinir la escala, y por tanto las funciones de carga de las imágenes (el batch y el número de épocas se mantienen)\n",
    "escala = 224"
   ]
  },
  {
   "cell_type": "code",
   "execution_count": 12,
   "id": "e16b2ec2",
   "metadata": {},
   "outputs": [
    {
     "name": "stdout",
     "output_type": "stream",
     "text": [
      "Tamaño del conjunto de datos de train: 113\n",
      "Tamaño del conjunto de datos de test de Samsung: 93\n",
      "Tamaño del conjunto de datos de test de iPhone: 99\n"
     ]
    }
   ],
   "source": [
    "#volvemos a crear las funciones necesarias para la carga de las imágenes, debido al cambio en la escala\n",
    "transform = transforms.Compose(\n",
    "    [transforms.ToTensor(), #transforma la imagen de formato PIL a formato tensor\n",
    "     transforms.Normalize((0.5, 0.5, 0.5), (0.5, 0.5, 0.5)), #normaliza el tensor para que la media de sus valores sea 0 y su desviación estándar 0.5\n",
    "     transforms.Resize((escala, escala))]) #redimensionamos las imágenes\n",
    "\n",
    "#a continuación cargamos el conjunto de imágenes de train (OCT) y los dos de test (iPhone y Samsung)\n",
    "OCT = ImageFolder(root = 'Datos/Classified Data/Images/OCT', transform = transform)\n",
    "print(f'Tamaño del conjunto de datos de train: {len(OCT)}')\n",
    "\n",
    "Samsung = ImageFolder(root = 'Datos/Classified Data/Images/Samsung', transform = transform)\n",
    "print(f'Tamaño del conjunto de datos de test de Samsung: {len(Samsung)}')\n",
    "\n",
    "iPhone = ImageFolder(root = 'Datos/Classified Data/Images/iPhone', transform = transform)\n",
    "print(f'Tamaño del conjunto de datos de test de iPhone: {len(iPhone)}')\n",
    "\n",
    "#establecemos una lista con el nombre de las etiquetas\n",
    "classes = OCT.classes\n",
    "\n",
    "#y definimos también las funciones que van a ir cargando las imágenes en el modelo\n",
    "train_loader = DataLoader(\n",
    "    dataset = OCT,\n",
    "    batch_size = 4, #establecemos un tamaño de lote (batch_size) de 4, ya que son pocas imágenes y podemos permitírnoslo\n",
    "    shuffle = True, #indicamos que mezcle las imágenes\n",
    "    num_workers = 2 #genera subprocesos para cargar los datos y así liberamos el proceso main\n",
    ")\n",
    "\n",
    "test_S_loader = DataLoader(\n",
    "    dataset = Samsung,\n",
    "    batch_size = 4, #establecemos un tamaño de lote (batch_size) de 10, ya que son pocas imágenes y podemos permitírnoslo\n",
    "    shuffle = True, #indicamos que mezcle las imágenes\n",
    "    num_workers = 2 #genera subprocesos para cargar los datos y así liberamos el proceso main\n",
    ")\n",
    "\n",
    "test_i_loader = DataLoader(\n",
    "    dataset = iPhone,\n",
    "    batch_size = 4, #establecemos un tamaño de lote (batch_size) de 10, ya que son pocas imágenes y podemos permitírnoslo\n",
    "    shuffle = True, #indicamos que mezcle las imágenes\n",
    "    num_workers = 2 #genera subprocesos para cargar los datos y así liberamos el proceso main\n",
    ")"
   ]
  },
  {
   "cell_type": "code",
   "execution_count": 21,
   "id": "16ef8919",
   "metadata": {},
   "outputs": [],
   "source": [
    "#ya podemos definir la clase que sigue la arquitectura propuesta por Rajagopalan\n",
    "class Rajagopalan(nn.Module):\n",
    "    \n",
    "    def __init__(self):\n",
    "        #esta función sobreescribe la función init() del padre\n",
    "        super(Rajagopalan,self).__init__()\n",
    "        #definimos todas las capas que van a constituir el modelo\n",
    "        \n",
    "        #la primera convolucional\n",
    "        self.conv1 = nn.Conv2d(\n",
    "            in_channels = 3, #3 canales de entrada porque las imágenes son a color\n",
    "            out_channels = 64, #se trata del número de salidas de la capa. Es el número de kernels de la capa convolucional\n",
    "            kernel_size = 9, #suele tratarse de un número impar\n",
    "            stride = 4, #cantidad píxeles que se desplaza el filtro sobre la imagen\n",
    "            padding = 0, #cantidad de relleno que se va a aplicar sobre los bordes de la imagen\n",
    "        )\n",
    "        \n",
    "        #una segunda convolucional\n",
    "        self.conv2 = nn.Conv2d(\n",
    "            in_channels = 64, #64 canales de entrada porque es el número de salidas de la capa anterior\n",
    "            out_channels = 128, #se trata del número de salidas de la capa. Es el número de kernels de la capa convolucional\n",
    "            kernel_size = 7, #suele tratarse de un número impar\n",
    "            stride = 1, #cantidad píxeles que se desplaza el filtro sobre la imagen\n",
    "            padding = 0, #cantidad de relleno que se va a aplicar sobre los bordes de la imagen\n",
    "        )\n",
    "        \n",
    "        #la tercera convolucional\n",
    "        self.conv3 = nn.Conv2d(\n",
    "            in_channels = 128, #128 canales de entrada porque es el número de salidas de la capa anterior\n",
    "            out_channels = 256, #se trata del número de salidas de la capa. Es el número de kernels de la capa convolucional\n",
    "            kernel_size = 5, #suele tratarse de un número impar\n",
    "            stride = 1, #cantidad píxeles que se desplaza el filtro sobre la imagen\n",
    "            padding = 0, #cantidad de relleno que se va a aplicar sobre los bordes de la imagen\n",
    "        )\n",
    "        \n",
    "        #cuarta convolucional\n",
    "        self.conv4 = nn.Conv2d(\n",
    "            in_channels = 256, #256 canales de entrada porque es el número de salidas de la capa anterior\n",
    "            out_channels = 384, #se trata del número de salidas de la capa. Es el número de kernels de la capa convolucional\n",
    "            kernel_size = 3, #suele tratarse de un número impar\n",
    "            stride = 1, #cantidad píxeles que se desplaza el filtro sobre la imagen\n",
    "            padding = 0, #cantidad de relleno que se va a aplicar sobre los bordes de la imagen\n",
    "        )\n",
    "        \n",
    "        #quinta y última capa convolucional\n",
    "        self.conv5 = nn.Conv2d(\n",
    "            in_channels = 384, #256 canales de entrada porque es el número de salidas de la capa anterior\n",
    "            out_channels = 256, #se trata del número de salidas de la capa. Es el número de kernels de la capa convolucional\n",
    "            kernel_size = 3, #suele tratarse de un número impar\n",
    "            stride = 1, #cantidad píxeles que se desplaza el filtro sobre la imagen\n",
    "            padding = 0, #cantidad de relleno que se va a aplicar sobre los bordes de la imagen\n",
    "        )\n",
    "        \n",
    "        #definimos también la función de MaxPooling que se aplicará sobre algunas de las capas convolucionales\n",
    "        self.pool = nn.MaxPool2d(\n",
    "            kernel_size = 2, #establecemos el tamaño del kernel a 2*2\n",
    "            stride = 2 #cantidad píxeles que se desplaza el filtro sobre la imagen (por defecto se desplazará el tamaño del kernel)\n",
    "        )\n",
    "        \n",
    "        #y las capas de neuronas fully-connected\n",
    "        self.fc1 = nn.Linear(\n",
    "            in_features = 1024, #número de parámetros de entrada de la red (los valores se obtienen experimentalmente)\n",
    "            out_features = 512 #número de neuronas de salida\n",
    "        )\n",
    "        \n",
    "        self.fc2 = nn.Linear(512,256)\n",
    "        \n",
    "        #y por último la capa encargada de realizar las predicciones\n",
    "        self.dense = nn.Linear(256,5)#tiene 5 neuronas de salida, una para cada clase de nuestro problema\n",
    "        \n",
    "    def forward(self,x):\n",
    "        #en esta función es donde tiene lugar la computación (y la función invocada por defecto al ejecutar la red)\n",
    "        #en este modelo la función de activación empleada fue ReLU\n",
    "        #siguiendo las arquitectura planteada en Rajagopalan:\n",
    "        \n",
    "        #primero una capa convolucional con activación ReLU y maxpooling\n",
    "        x = self.pool(F.relu(self.conv1(x)))\n",
    "        #una segunda capa convolucional con activación y maxpooling\n",
    "        x = self.pool(F.relu(self.conv2(x)))\n",
    "        #a continuación 3 capas convolucionales SIN maxpooling (pero sí activación ReLU)\n",
    "        x = F.relu(self.conv3(x))\n",
    "        x = F.relu(self.conv4(x))\n",
    "        x = F.relu(self.conv5(x))\n",
    "        #aplanamos la salida usando la función view para convertir las dimensiones de los datos\n",
    "        x = x.view(-1,self.num_flat_features(x))#usamos una función propia de la clase para obtener el número de características\n",
    "        #posteriormente tienen lugar las dos capas fully-connected\n",
    "        x = F.relu(self.fc1(x))\n",
    "        x = F.relu(self.fc2(x))\n",
    "        #y por último la capa densa que va a proporcionarnos la predicción\n",
    "        x = self.dense(x)\n",
    "        \n",
    "        return x\n",
    "    \n",
    "    def num_flat_features(self,x):\n",
    "        #por último definimos la función que permite obtener el número de características de los tensores\n",
    "        size = x.size()[1:] #seleccionamos todas las dimensiones expcepto la primera (que son los batches)\n",
    "        num_features = 1\n",
    "        #va iterando y calcula el número de características de los datos (x)\n",
    "        for s in size:\n",
    "            num_features*=s\n",
    "        return num_features"
   ]
  },
  {
   "cell_type": "code",
   "execution_count": 22,
   "id": "9dcbe1df",
   "metadata": {},
   "outputs": [
    {
     "name": "stdout",
     "output_type": "stream",
     "text": [
      "Rajagopalan(\n",
      "  (conv1): Conv2d(3, 64, kernel_size=(9, 9), stride=(4, 4))\n",
      "  (conv2): Conv2d(64, 128, kernel_size=(7, 7), stride=(1, 1))\n",
      "  (conv3): Conv2d(128, 256, kernel_size=(5, 5), stride=(1, 1))\n",
      "  (conv4): Conv2d(256, 384, kernel_size=(3, 3), stride=(1, 1))\n",
      "  (conv5): Conv2d(384, 256, kernel_size=(3, 3), stride=(1, 1))\n",
      "  (pool): MaxPool2d(kernel_size=2, stride=2, padding=0, dilation=1, ceil_mode=False)\n",
      "  (fc1): Linear(in_features=1024, out_features=512, bias=True)\n",
      "  (fc2): Linear(in_features=512, out_features=256, bias=True)\n",
      "  (dense): Linear(in_features=256, out_features=5, bias=True)\n",
      ")\n"
     ]
    }
   ],
   "source": [
    "#una vez definida la clase generamos una instancia de la misma\n",
    "rajagopalan = Rajagopalan()\n",
    "#y mostramos por pantalla sus secciones\n",
    "print(rajagopalan)"
   ]
  },
  {
   "cell_type": "code",
   "execution_count": 23,
   "id": "3201def9",
   "metadata": {},
   "outputs": [],
   "source": [
    "#a continuación debemos entrenar el modelo, para ello es necesario definir una función loss que evalúa la desviación entre las predicciones y los valores reales\n",
    "#definimos como loss la función de tipo cross entropy \n",
    "criterion = nn.CrossEntropyLoss() \n",
    "\n",
    "#y una función optimizadora que modificará los pesos de la red para tratar de mejorar su rendimiento\n",
    "#en este caso el optimizador será la función Adam (ampliamente utilizada)\n",
    "optimizer = torch.optim.Adam(params = rajagopalan.parameters()) #dejamos el valor de learning rate por defecto (0.001)"
   ]
  },
  {
   "cell_type": "code",
   "execution_count": 24,
   "id": "33d60471",
   "metadata": {
    "collapsed": true
   },
   "outputs": [
    {
     "name": "stdout",
     "output_type": "stream",
     "text": [
      "Época 1/50 - Accuracy: 0.48672566371681414 - Loss: 1.3877564668655396\n",
      "Época 2/50 - Accuracy: 0.5132743362831859 - Loss: 1.2850496768951416\n"
     ]
    },
    {
     "ename": "KeyboardInterrupt",
     "evalue": "",
     "output_type": "error",
     "traceback": [
      "\u001b[1;31m---------------------------------------------------------------------------\u001b[0m",
      "\u001b[1;31mKeyboardInterrupt\u001b[0m                         Traceback (most recent call last)",
      "Input \u001b[1;32mIn [24]\u001b[0m, in \u001b[0;36m<cell line: 6>\u001b[1;34m()\u001b[0m\n\u001b[0;32m      9\u001b[0m total \u001b[38;5;241m=\u001b[39m \u001b[38;5;241m0\u001b[39m\n\u001b[0;32m     10\u001b[0m \u001b[38;5;66;03m#y cargamos las imágenes de entrenamiento y sus etiquetas usando la estructura Loader previamente creada\u001b[39;00m\n\u001b[1;32m---> 11\u001b[0m \u001b[38;5;28;01mfor\u001b[39;00m i, data \u001b[38;5;129;01min\u001b[39;00m \u001b[38;5;28menumerate\u001b[39m(train_loader):\n\u001b[0;32m     12\u001b[0m     inputs, labels \u001b[38;5;241m=\u001b[39m data\n\u001b[0;32m     13\u001b[0m     \u001b[38;5;66;03m#establecemos a 0 los parámetros del modelo\u001b[39;00m\n",
      "File \u001b[1;32m~\\anaconda3\\envs\\venv_py39\\lib\\site-packages\\torch\\utils\\data\\dataloader.py:628\u001b[0m, in \u001b[0;36m_BaseDataLoaderIter.__next__\u001b[1;34m(self)\u001b[0m\n\u001b[0;32m    625\u001b[0m \u001b[38;5;28;01mif\u001b[39;00m \u001b[38;5;28mself\u001b[39m\u001b[38;5;241m.\u001b[39m_sampler_iter \u001b[38;5;129;01mis\u001b[39;00m \u001b[38;5;28;01mNone\u001b[39;00m:\n\u001b[0;32m    626\u001b[0m     \u001b[38;5;66;03m# TODO(https://github.com/pytorch/pytorch/issues/76750)\u001b[39;00m\n\u001b[0;32m    627\u001b[0m     \u001b[38;5;28mself\u001b[39m\u001b[38;5;241m.\u001b[39m_reset()  \u001b[38;5;66;03m# type: ignore[call-arg]\u001b[39;00m\n\u001b[1;32m--> 628\u001b[0m data \u001b[38;5;241m=\u001b[39m \u001b[38;5;28;43mself\u001b[39;49m\u001b[38;5;241;43m.\u001b[39;49m\u001b[43m_next_data\u001b[49m\u001b[43m(\u001b[49m\u001b[43m)\u001b[49m\n\u001b[0;32m    629\u001b[0m \u001b[38;5;28mself\u001b[39m\u001b[38;5;241m.\u001b[39m_num_yielded \u001b[38;5;241m+\u001b[39m\u001b[38;5;241m=\u001b[39m \u001b[38;5;241m1\u001b[39m\n\u001b[0;32m    630\u001b[0m \u001b[38;5;28;01mif\u001b[39;00m \u001b[38;5;28mself\u001b[39m\u001b[38;5;241m.\u001b[39m_dataset_kind \u001b[38;5;241m==\u001b[39m _DatasetKind\u001b[38;5;241m.\u001b[39mIterable \u001b[38;5;129;01mand\u001b[39;00m \\\n\u001b[0;32m    631\u001b[0m         \u001b[38;5;28mself\u001b[39m\u001b[38;5;241m.\u001b[39m_IterableDataset_len_called \u001b[38;5;129;01mis\u001b[39;00m \u001b[38;5;129;01mnot\u001b[39;00m \u001b[38;5;28;01mNone\u001b[39;00m \u001b[38;5;129;01mand\u001b[39;00m \\\n\u001b[0;32m    632\u001b[0m         \u001b[38;5;28mself\u001b[39m\u001b[38;5;241m.\u001b[39m_num_yielded \u001b[38;5;241m>\u001b[39m \u001b[38;5;28mself\u001b[39m\u001b[38;5;241m.\u001b[39m_IterableDataset_len_called:\n",
      "File \u001b[1;32m~\\anaconda3\\envs\\venv_py39\\lib\\site-packages\\torch\\utils\\data\\dataloader.py:1316\u001b[0m, in \u001b[0;36m_MultiProcessingDataLoaderIter._next_data\u001b[1;34m(self)\u001b[0m\n\u001b[0;32m   1313\u001b[0m     \u001b[38;5;28;01mreturn\u001b[39;00m \u001b[38;5;28mself\u001b[39m\u001b[38;5;241m.\u001b[39m_process_data(data)\n\u001b[0;32m   1315\u001b[0m \u001b[38;5;28;01massert\u001b[39;00m \u001b[38;5;129;01mnot\u001b[39;00m \u001b[38;5;28mself\u001b[39m\u001b[38;5;241m.\u001b[39m_shutdown \u001b[38;5;129;01mand\u001b[39;00m \u001b[38;5;28mself\u001b[39m\u001b[38;5;241m.\u001b[39m_tasks_outstanding \u001b[38;5;241m>\u001b[39m \u001b[38;5;241m0\u001b[39m\n\u001b[1;32m-> 1316\u001b[0m idx, data \u001b[38;5;241m=\u001b[39m \u001b[38;5;28;43mself\u001b[39;49m\u001b[38;5;241;43m.\u001b[39;49m\u001b[43m_get_data\u001b[49m\u001b[43m(\u001b[49m\u001b[43m)\u001b[49m\n\u001b[0;32m   1317\u001b[0m \u001b[38;5;28mself\u001b[39m\u001b[38;5;241m.\u001b[39m_tasks_outstanding \u001b[38;5;241m-\u001b[39m\u001b[38;5;241m=\u001b[39m \u001b[38;5;241m1\u001b[39m\n\u001b[0;32m   1318\u001b[0m \u001b[38;5;28;01mif\u001b[39;00m \u001b[38;5;28mself\u001b[39m\u001b[38;5;241m.\u001b[39m_dataset_kind \u001b[38;5;241m==\u001b[39m _DatasetKind\u001b[38;5;241m.\u001b[39mIterable:\n\u001b[0;32m   1319\u001b[0m     \u001b[38;5;66;03m# Check for _IterableDatasetStopIteration\u001b[39;00m\n",
      "File \u001b[1;32m~\\anaconda3\\envs\\venv_py39\\lib\\site-packages\\torch\\utils\\data\\dataloader.py:1282\u001b[0m, in \u001b[0;36m_MultiProcessingDataLoaderIter._get_data\u001b[1;34m(self)\u001b[0m\n\u001b[0;32m   1278\u001b[0m     \u001b[38;5;66;03m# In this case, `self._data_queue` is a `queue.Queue`,. But we don't\u001b[39;00m\n\u001b[0;32m   1279\u001b[0m     \u001b[38;5;66;03m# need to call `.task_done()` because we don't use `.join()`.\u001b[39;00m\n\u001b[0;32m   1280\u001b[0m \u001b[38;5;28;01melse\u001b[39;00m:\n\u001b[0;32m   1281\u001b[0m     \u001b[38;5;28;01mwhile\u001b[39;00m \u001b[38;5;28;01mTrue\u001b[39;00m:\n\u001b[1;32m-> 1282\u001b[0m         success, data \u001b[38;5;241m=\u001b[39m \u001b[38;5;28;43mself\u001b[39;49m\u001b[38;5;241;43m.\u001b[39;49m\u001b[43m_try_get_data\u001b[49m\u001b[43m(\u001b[49m\u001b[43m)\u001b[49m\n\u001b[0;32m   1283\u001b[0m         \u001b[38;5;28;01mif\u001b[39;00m success:\n\u001b[0;32m   1284\u001b[0m             \u001b[38;5;28;01mreturn\u001b[39;00m data\n",
      "File \u001b[1;32m~\\anaconda3\\envs\\venv_py39\\lib\\site-packages\\torch\\utils\\data\\dataloader.py:1120\u001b[0m, in \u001b[0;36m_MultiProcessingDataLoaderIter._try_get_data\u001b[1;34m(self, timeout)\u001b[0m\n\u001b[0;32m   1107\u001b[0m \u001b[38;5;28;01mdef\u001b[39;00m \u001b[38;5;21m_try_get_data\u001b[39m(\u001b[38;5;28mself\u001b[39m, timeout\u001b[38;5;241m=\u001b[39m_utils\u001b[38;5;241m.\u001b[39mMP_STATUS_CHECK_INTERVAL):\n\u001b[0;32m   1108\u001b[0m     \u001b[38;5;66;03m# Tries to fetch data from `self._data_queue` once for a given timeout.\u001b[39;00m\n\u001b[0;32m   1109\u001b[0m     \u001b[38;5;66;03m# This can also be used as inner loop of fetching without timeout, with\u001b[39;00m\n\u001b[1;32m   (...)\u001b[0m\n\u001b[0;32m   1117\u001b[0m     \u001b[38;5;66;03m# Returns a 2-tuple:\u001b[39;00m\n\u001b[0;32m   1118\u001b[0m     \u001b[38;5;66;03m#   (bool: whether successfully get data, any: data if successful else None)\u001b[39;00m\n\u001b[0;32m   1119\u001b[0m     \u001b[38;5;28;01mtry\u001b[39;00m:\n\u001b[1;32m-> 1120\u001b[0m         data \u001b[38;5;241m=\u001b[39m \u001b[38;5;28;43mself\u001b[39;49m\u001b[38;5;241;43m.\u001b[39;49m\u001b[43m_data_queue\u001b[49m\u001b[38;5;241;43m.\u001b[39;49m\u001b[43mget\u001b[49m\u001b[43m(\u001b[49m\u001b[43mtimeout\u001b[49m\u001b[38;5;241;43m=\u001b[39;49m\u001b[43mtimeout\u001b[49m\u001b[43m)\u001b[49m\n\u001b[0;32m   1121\u001b[0m         \u001b[38;5;28;01mreturn\u001b[39;00m (\u001b[38;5;28;01mTrue\u001b[39;00m, data)\n\u001b[0;32m   1122\u001b[0m     \u001b[38;5;28;01mexcept\u001b[39;00m \u001b[38;5;167;01mException\u001b[39;00m \u001b[38;5;28;01mas\u001b[39;00m e:\n\u001b[0;32m   1123\u001b[0m         \u001b[38;5;66;03m# At timeout and error, we manually check whether any worker has\u001b[39;00m\n\u001b[0;32m   1124\u001b[0m         \u001b[38;5;66;03m# failed. Note that this is the only mechanism for Windows to detect\u001b[39;00m\n\u001b[0;32m   1125\u001b[0m         \u001b[38;5;66;03m# worker failures.\u001b[39;00m\n",
      "File \u001b[1;32m~\\anaconda3\\envs\\venv_py39\\lib\\multiprocessing\\queues.py:113\u001b[0m, in \u001b[0;36mQueue.get\u001b[1;34m(self, block, timeout)\u001b[0m\n\u001b[0;32m    111\u001b[0m \u001b[38;5;28;01mif\u001b[39;00m block:\n\u001b[0;32m    112\u001b[0m     timeout \u001b[38;5;241m=\u001b[39m deadline \u001b[38;5;241m-\u001b[39m time\u001b[38;5;241m.\u001b[39mmonotonic()\n\u001b[1;32m--> 113\u001b[0m     \u001b[38;5;28;01mif\u001b[39;00m \u001b[38;5;129;01mnot\u001b[39;00m \u001b[38;5;28;43mself\u001b[39;49m\u001b[38;5;241;43m.\u001b[39;49m\u001b[43m_poll\u001b[49m\u001b[43m(\u001b[49m\u001b[43mtimeout\u001b[49m\u001b[43m)\u001b[49m:\n\u001b[0;32m    114\u001b[0m         \u001b[38;5;28;01mraise\u001b[39;00m Empty\n\u001b[0;32m    115\u001b[0m \u001b[38;5;28;01melif\u001b[39;00m \u001b[38;5;129;01mnot\u001b[39;00m \u001b[38;5;28mself\u001b[39m\u001b[38;5;241m.\u001b[39m_poll():\n",
      "File \u001b[1;32m~\\anaconda3\\envs\\venv_py39\\lib\\multiprocessing\\connection.py:262\u001b[0m, in \u001b[0;36m_ConnectionBase.poll\u001b[1;34m(self, timeout)\u001b[0m\n\u001b[0;32m    260\u001b[0m \u001b[38;5;28mself\u001b[39m\u001b[38;5;241m.\u001b[39m_check_closed()\n\u001b[0;32m    261\u001b[0m \u001b[38;5;28mself\u001b[39m\u001b[38;5;241m.\u001b[39m_check_readable()\n\u001b[1;32m--> 262\u001b[0m \u001b[38;5;28;01mreturn\u001b[39;00m \u001b[38;5;28;43mself\u001b[39;49m\u001b[38;5;241;43m.\u001b[39;49m\u001b[43m_poll\u001b[49m\u001b[43m(\u001b[49m\u001b[43mtimeout\u001b[49m\u001b[43m)\u001b[49m\n",
      "File \u001b[1;32m~\\anaconda3\\envs\\venv_py39\\lib\\multiprocessing\\connection.py:335\u001b[0m, in \u001b[0;36mPipeConnection._poll\u001b[1;34m(self, timeout)\u001b[0m\n\u001b[0;32m    332\u001b[0m \u001b[38;5;28;01mif\u001b[39;00m (\u001b[38;5;28mself\u001b[39m\u001b[38;5;241m.\u001b[39m_got_empty_message \u001b[38;5;129;01mor\u001b[39;00m\n\u001b[0;32m    333\u001b[0m             _winapi\u001b[38;5;241m.\u001b[39mPeekNamedPipe(\u001b[38;5;28mself\u001b[39m\u001b[38;5;241m.\u001b[39m_handle)[\u001b[38;5;241m0\u001b[39m] \u001b[38;5;241m!=\u001b[39m \u001b[38;5;241m0\u001b[39m):\n\u001b[0;32m    334\u001b[0m     \u001b[38;5;28;01mreturn\u001b[39;00m \u001b[38;5;28;01mTrue\u001b[39;00m\n\u001b[1;32m--> 335\u001b[0m \u001b[38;5;28;01mreturn\u001b[39;00m \u001b[38;5;28mbool\u001b[39m(\u001b[43mwait\u001b[49m\u001b[43m(\u001b[49m\u001b[43m[\u001b[49m\u001b[38;5;28;43mself\u001b[39;49m\u001b[43m]\u001b[49m\u001b[43m,\u001b[49m\u001b[43m \u001b[49m\u001b[43mtimeout\u001b[49m\u001b[43m)\u001b[49m)\n",
      "File \u001b[1;32m~\\anaconda3\\envs\\venv_py39\\lib\\multiprocessing\\connection.py:884\u001b[0m, in \u001b[0;36mwait\u001b[1;34m(object_list, timeout)\u001b[0m\n\u001b[0;32m    881\u001b[0m                 ready_objects\u001b[38;5;241m.\u001b[39madd(o)\n\u001b[0;32m    882\u001b[0m                 timeout \u001b[38;5;241m=\u001b[39m \u001b[38;5;241m0\u001b[39m\n\u001b[1;32m--> 884\u001b[0m     ready_handles \u001b[38;5;241m=\u001b[39m \u001b[43m_exhaustive_wait\u001b[49m\u001b[43m(\u001b[49m\u001b[43mwaithandle_to_obj\u001b[49m\u001b[38;5;241;43m.\u001b[39;49m\u001b[43mkeys\u001b[49m\u001b[43m(\u001b[49m\u001b[43m)\u001b[49m\u001b[43m,\u001b[49m\u001b[43m \u001b[49m\u001b[43mtimeout\u001b[49m\u001b[43m)\u001b[49m\n\u001b[0;32m    885\u001b[0m \u001b[38;5;28;01mfinally\u001b[39;00m:\n\u001b[0;32m    886\u001b[0m     \u001b[38;5;66;03m# request that overlapped reads stop\u001b[39;00m\n\u001b[0;32m    887\u001b[0m     \u001b[38;5;28;01mfor\u001b[39;00m ov \u001b[38;5;129;01min\u001b[39;00m ov_list:\n",
      "File \u001b[1;32m~\\anaconda3\\envs\\venv_py39\\lib\\multiprocessing\\connection.py:816\u001b[0m, in \u001b[0;36m_exhaustive_wait\u001b[1;34m(handles, timeout)\u001b[0m\n\u001b[0;32m    814\u001b[0m ready \u001b[38;5;241m=\u001b[39m []\n\u001b[0;32m    815\u001b[0m \u001b[38;5;28;01mwhile\u001b[39;00m L:\n\u001b[1;32m--> 816\u001b[0m     res \u001b[38;5;241m=\u001b[39m \u001b[43m_winapi\u001b[49m\u001b[38;5;241;43m.\u001b[39;49m\u001b[43mWaitForMultipleObjects\u001b[49m\u001b[43m(\u001b[49m\u001b[43mL\u001b[49m\u001b[43m,\u001b[49m\u001b[43m \u001b[49m\u001b[38;5;28;43;01mFalse\u001b[39;49;00m\u001b[43m,\u001b[49m\u001b[43m \u001b[49m\u001b[43mtimeout\u001b[49m\u001b[43m)\u001b[49m\n\u001b[0;32m    817\u001b[0m     \u001b[38;5;28;01mif\u001b[39;00m res \u001b[38;5;241m==\u001b[39m WAIT_TIMEOUT:\n\u001b[0;32m    818\u001b[0m         \u001b[38;5;28;01mbreak\u001b[39;00m\n",
      "\u001b[1;31mKeyboardInterrupt\u001b[0m: "
     ]
    }
   ],
   "source": [
    "#realizamos el entrenamiento de la red\n",
    "#definimos 2 listas en las que almacenaremos los valores de accuracy y loss de cada época para poder graficarlo posteriormente\n",
    "acc_graph = []\n",
    "loss_graph = []\n",
    "#para entrenar el modelo vamos a iterar el número de épocas determinadas, calculando el valor de loss y accuracy para cada época\n",
    "for epoch in range(epocas):\n",
    "    #establecemos el número de predicciones correctas inicial a 0\n",
    "    correct = 0\n",
    "    total = 0\n",
    "    #y cargamos las imágenes de entrenamiento y sus etiquetas usando la estructura Loader previamente creada\n",
    "    for i, data in enumerate(train_loader):\n",
    "        inputs, labels = data\n",
    "        #establecemos a 0 los parámetros del modelo\n",
    "        optimizer.zero_grad()\n",
    "        #generamos las predicciones de los inputs\n",
    "        outputs = rajagopalan(inputs)\n",
    "        #calculamos el loss, la desviación de las predicciones con respecto a las etiquetas\n",
    "        loss = criterion(outputs, labels)\n",
    "        #propagamos hacia atrás el valor loss\n",
    "        loss.backward()\n",
    "        #y modificamos los pesos en función del loss y la función optimizer\n",
    "        optimizer.step()\n",
    "        #actualizamos el número de predicciones correctas\n",
    "        _, predicted = torch.max(outputs.data, 1)\n",
    "        total += labels.size(0)\n",
    "        correct += (predicted == labels).sum().item()\n",
    "    \n",
    "    #una vez finalizada la época (que recorre todo el conjunto de imágenes) mostramos el valor del loss y del accuracy\n",
    "    print(f'Época {epoch +1}/{epocas} - Accuracy: {correct/len(OCT)} - Loss: {loss.data.item()}')\n",
    "    #añadimos los valores a la lista correspondiente\n",
    "    loss_graph.append(loss.data.item())\n",
    "    acc_graph.append(correct/len(OCT))"
   ]
  },
  {
   "cell_type": "code",
   "execution_count": null,
   "id": "39708e05",
   "metadata": {},
   "outputs": [],
   "source": [
    "#a continuación mostramos la evolución temporal del accuracy\n",
    "plt.figure(figsize = (10,7))\n",
    "plt.title('Evolución del Accuracy')\n",
    "plt.xlabel('Nº Época')\n",
    "plt.ylabel('Accuracy')\n",
    "plt.plot(range(1,epocas+1),acc_graph, linewidth = 3)\n",
    "plt.show()"
   ]
  },
  {
   "cell_type": "code",
   "execution_count": null,
   "id": "23451d7b",
   "metadata": {},
   "outputs": [],
   "source": [
    "#a continuación mostramos la evolución temporal del loss\n",
    "plt.figure(figsize = (10,7))\n",
    "plt.title('Evolución del Loss')\n",
    "plt.xlabel('Nº Época')\n",
    "plt.ylabel('Loss')\n",
    "plt.plot(range(1,epocas+1),loss_graph, color='orange', linewidth = 3)\n",
    "plt.show()"
   ]
  },
  {
   "cell_type": "code",
   "execution_count": 25,
   "id": "ab6d8ea4",
   "metadata": {},
   "outputs": [],
   "source": [
    "#una vez entrenada la red ya podemos ponerla a prueba con las imágenes de test"
   ]
  },
  {
   "cell_type": "code",
   "execution_count": 27,
   "id": "94556b48",
   "metadata": {},
   "outputs": [],
   "source": [
    "#por último solo debemos generar las predicciones a partir de la red entrenada\n",
    "#creamos 2 listas para almacenar las etiquetas reales y las etiquetas predichas y así poder calcular las métricas\n",
    "y_true_iphone = []\n",
    "y_pred_iphone = []\n",
    "#creamos una para almacenar también la salida del modelo, para posteriormente poder calcular AUC\n",
    "predictions = []\n",
    "#y definimos una función para convertir esa salida a forma de probabilidad (usando Softmax)\n",
    "m = nn.Softmax(dim=1)\n",
    "#es importante activar torch.no_grad() para que la red no entrene al pasarle el conjunto de test, no varíen los pesos\n",
    "with torch.no_grad():\n",
    "    #recorremos el conjunto de imágenes de test de iPhone\n",
    "    for data in test_i_loader:\n",
    "        images, labels = data #cargamos las imágenes y las etiquetas del dataloader\n",
    "        outputs = rajagopalan(images) #obtenemos las predicciones\n",
    "        predictions.append(m(outputs).numpy()) #las convertimos a probabilidad mediante Softmax \n",
    "        _, predicted = torch.max(outputs.data,1) #y obtenemos las etiquetas o labels predichas a partir de la probabilidad\n",
    "        y_pred_iphone.append(predicted.numpy()) #añadimos la predicción a la lista de predicciones\n",
    "        y_true_iphone.append(labels.numpy()) #y añadimos la etiqueta real a la lista de etiquetas reales\n",
    "#convertimos los datos a formato np.array de una única dimensión        \n",
    "y_true_iphone = np.concatenate(y_true_iphone)\n",
    "y_pred_iphone = np.concatenate(y_pred_iphone)\n",
    "predictions = np.concatenate(predictions)"
   ]
  },
  {
   "cell_type": "code",
   "execution_count": 30,
   "id": "4974c6f9",
   "metadata": {},
   "outputs": [
    {
     "name": "stdout",
     "output_type": "stream",
     "text": [
      "AxesSubplot(0.125,0.125;0.775x0.755)\n",
      "El valor de accuracy del modelo con imágenes de iphone es: 0.48484848484848486\n",
      "El valor de balanced accuracy del modelo con imágenes de iphone es: 0.2\n",
      "El valor de F-score del modelo con imágenes de iphone es: 0.3166357452071738\n",
      "El valor de Kappa del modelo con imágenes de iphone es: 0.0\n",
      "El valor de AUC del modelo con imágenes de iphone es: 0.44731414535387926\n"
     ]
    },
    {
     "data": {
      "image/png": "[encoded data removed]",
      "text/plain": [
       "<Figure size 432x288 with 1 Axes>"
      ]
     },
     "metadata": {
      "needs_background": "light"
     },
     "output_type": "display_data"
    }
   ],
   "source": [
    "#a partir de las predicciones y las labels reales podemos calcular las métricas deseadas\n",
    "#primero la matriz de confusión\n",
    "matrix_iphone = confusion_matrix(y_true_iphone, y_pred_iphone)\n",
    "#usamos el paquete seaborn para mostrar de manera más visual la matriz de confusión\n",
    "plot = sns.heatmap(matrix_iphone, annot = True, cmap = 'Reds', cbar = False)\n",
    "#establecemos título\n",
    "plot.set_title('Matriz de confusión - iPhone\\n')\n",
    "#título de cada eje\n",
    "plot.set_xlabel('\\nGrado Iphone')\n",
    "plot.set_ylabel('Grado real\\n')\n",
    "#y el significado de cada fila y columna de la matriz\n",
    "plot.xaxis.set_ticklabels(['Grado1','Grado2','Grado3','Grado4','Grado5'])\n",
    "plot.yaxis.set_ticklabels(['Grado1','Grado2','Grado3','Grado4','Grado5'])\n",
    "print(plot)\n",
    "\n",
    "#calculamos el valor de accuracy\n",
    "accuracy_iphone = accuracy_score(y_true = y_true_iphone, y_pred = y_pred_iphone)\n",
    "print(f'El valor de accuracy del modelo con imágenes de iphone es: {accuracy_iphone}')\n",
    "#el balanced accuracy\n",
    "bal_acc_iphone = balanced_accuracy_score(y_true = y_true_iphone, y_pred = y_pred_iphone)\n",
    "print(f'El valor de balanced accuracy del modelo con imágenes de iphone es: {bal_acc_iphone}')\n",
    "#el F-score\n",
    "f_score_iphone = f1_score(y_true = y_true_iphone, y_pred = y_pred_iphone,average = 'weighted')\n",
    "print(f'El valor de F-score del modelo con imágenes de iphone es: {f_score_iphone}')\n",
    "#calculamos el valor de quadratic weighted kappa\n",
    "kappa_iphone = cohen_kappa_score(y1 = y_true_iphone, y2 = y_pred_iphone)\n",
    "print(f'El valor de Kappa del modelo con imágenes de iphone es: {kappa_iphone}')\n",
    "#y por último calculamos el valor de AUC bajo la curva ROC\n",
    "auc_iphone = roc_auc_score(y_true = y_true_iphone, y_score = predictions, multi_class = 'ovr')\n",
    "print(f'El valor de AUC del modelo con imágenes de iphone es: {auc_iphone}')"
   ]
  },
  {
   "cell_type": "code",
   "execution_count": 32,
   "id": "2a98552e",
   "metadata": {},
   "outputs": [],
   "source": [
    "#realizamos el mismo proceso para las imágenes de Samsung\n",
    "#creamos 2 listas para almacenar las etiquetas reales y las etiquetas predichas y así poder calcular las métricas\n",
    "y_true_samsung = []\n",
    "y_pred_samsung = []\n",
    "#creamos una para almacenar también la salida del modelo, para posteriormente poder calcular AUC\n",
    "predictions = []\n",
    "#y definimos una función para convertir esa salida a forma de probabilidad (usando Softmax)\n",
    "m = nn.Softmax(dim=1)\n",
    "#es importante activar torch.no_grad() para que la red no entrene al pasarle el conjunto de test, no varíen los pesos\n",
    "with torch.no_grad():\n",
    "    #recorremos el conjunto de imágenes de test de Samsung en este caso \n",
    "    for data in test_S_loader:\n",
    "        images, labels = data #cargamos las imágenes y las etiquetas del dataloader\n",
    "        outputs = rajagopalan(images) #obtenemos las predicciones\n",
    "        predictions.append(m(outputs).numpy()) #las convertimos a probabilidad mediante Softmax \n",
    "        _, predicted = torch.max(outputs.data,1) #y obtenemos las etiquetas o labels predichas a partir de la probabilidad\n",
    "        y_pred_samsung.append(predicted.numpy()) #añadimos la predicción a la lista de predicciones\n",
    "        y_true_samsung.append(labels.numpy()) #y añadimos la etiqueta real a la lista de etiquetas reales\n",
    "#convertimos los datos a formato np.array de una única dimensión \n",
    "y_true_samsung = np.concatenate(y_true_samsung)\n",
    "y_pred_samsung = np.concatenate(y_pred_samsung)\n",
    "predictions = np.concatenate(predictions)"
   ]
  },
  {
   "cell_type": "code",
   "execution_count": 33,
   "id": "45e425d5",
   "metadata": {},
   "outputs": [
    {
     "name": "stdout",
     "output_type": "stream",
     "text": [
      "AxesSubplot(0.125,0.125;0.775x0.755)\n",
      "El valor de accuracy del modelo con imágenes de samsung es: 0.5053763440860215\n",
      "El valor de balanced accuracy del modelo con imágenes de samsung es: 0.2\n",
      "El valor de F-score del modelo con imágenes de samsung es: 0.3393241167434715\n",
      "El valor de Kappa del modelo con imágenes de samsung es: 0.0\n",
      "El valor de AUC del modelo con imágenes de samsung es: 0.4989659499524338\n"
     ]
    },
    {
     "data": {
      "image/png": "[encoded data removed]",
      "text/plain": [
       "<Figure size 432x288 with 1 Axes>"
      ]
     },
     "metadata": {
      "needs_background": "light"
     },
     "output_type": "display_data"
    }
   ],
   "source": [
    "#a partir de las predicciones y las labels reales podemos calcular las métricas deseadas\n",
    "matrix_samsung = confusion_matrix(y_true_samsung, y_pred_samsung)\n",
    "plot = sns.heatmap(matrix_samsung, annot = True, cmap = 'Reds', cbar = False)\n",
    "#establecemos título\n",
    "plot.set_title('Matriz de confusión - Samsung\\n')\n",
    "#título de cada eje\n",
    "plot.set_xlabel('\\nGrado Samsung')\n",
    "plot.set_ylabel('Grado real\\n')\n",
    "#y el significado de cada fila y columna de la matriz\n",
    "plot.xaxis.set_ticklabels(['Grado1','Grado2','Grado3','Grado4','Grado5'])\n",
    "plot.yaxis.set_ticklabels(['Grado1','Grado2','Grado3','Grado4','Grado5'])\n",
    "print(plot)\n",
    "\n",
    "#calculamos el valor de accuracy\n",
    "accuracy_samsung = accuracy_score(y_true = y_true_samsung, y_pred = y_pred_samsung)\n",
    "print(f'El valor de accuracy del modelo con imágenes de samsung es: {accuracy_samsung}')\n",
    "#el balanced accuracy\n",
    "bal_acc_samsung = balanced_accuracy_score(y_true = y_true_samsung, y_pred = y_pred_samsung)\n",
    "print(f'El valor de balanced accuracy del modelo con imágenes de samsung es: {bal_acc_samsung}')\n",
    "#el F-score\n",
    "f_score_samsung = f1_score(y_true = y_true_samsung, y_pred = y_pred_samsung,average = 'weighted')\n",
    "print(f'El valor de F-score del modelo con imágenes de samsung es: {f_score_samsung}')\n",
    "#calculamos el valor de quadratic weighted kappa\n",
    "kappa_samsung = cohen_kappa_score(y1 = y_true_samsung, y2 = y_pred_samsung)\n",
    "print(f'El valor de Kappa del modelo con imágenes de samsung es: {kappa_samsung}')\n",
    "#y por último calculamos el valor de AUC bajo la curva ROC\n",
    "auc_samsung = roc_auc_score(y_true = y_true_samsung, y_score = predictions, multi_class = 'ovr')\n",
    "print(f'El valor de AUC del modelo con imágenes de samsung es: {auc_samsung}')"
   ]
  },
  {
   "cell_type": "code",
   "execution_count": 34,
   "id": "5951386d",
   "metadata": {},
   "outputs": [],
   "source": [
    "#por último vamos a construir un modelo basado en la arquitectura propuesta por Alqudah\n",
    "#en este caso nuevamente es necesario redefinir la escala de las imágenes y por tanto las funciones para su carga\n",
    "escala = 256"
   ]
  },
  {
   "cell_type": "code",
   "execution_count": 35,
   "id": "29a5af02",
   "metadata": {},
   "outputs": [
    {
     "name": "stdout",
     "output_type": "stream",
     "text": [
      "Tamaño del conjunto de datos de train: 113\n",
      "Tamaño del conjunto de datos de test de Samsung: 93\n",
      "Tamaño del conjunto de datos de test de iPhone: 99\n"
     ]
    }
   ],
   "source": [
    "#volvemos a crear las funciones necesarias para la carga de las imágenes, debido al cambio en la escala\n",
    "transform = transforms.Compose(\n",
    "    [transforms.ToTensor(), #transforma la imagen de formato PIL a formato tensor\n",
    "     transforms.Normalize((0.5, 0.5, 0.5), (0.5, 0.5, 0.5)), #normaliza el tensor para que la media de sus valores sea 0 y su desviación estándar 0.5\n",
    "     transforms.Resize((escala, escala))]) #redimensionamos las imágenes\n",
    "\n",
    "#a continuación cargamos el conjunto de imágenes de train (OCT) y los dos de test (iPhone y Samsung)\n",
    "OCT = ImageFolder(root = 'Datos/Classified Data/Images/OCT', transform = transform)\n",
    "print(f'Tamaño del conjunto de datos de train: {len(OCT)}')\n",
    "\n",
    "Samsung = ImageFolder(root = 'Datos/Classified Data/Images/Samsung', transform = transform)\n",
    "print(f'Tamaño del conjunto de datos de test de Samsung: {len(Samsung)}')\n",
    "\n",
    "iPhone = ImageFolder(root = 'Datos/Classified Data/Images/iPhone', transform = transform)\n",
    "print(f'Tamaño del conjunto de datos de test de iPhone: {len(iPhone)}')\n",
    "\n",
    "#establecemos una lista con el nombre de las etiquetas\n",
    "classes = OCT.classes\n",
    "\n",
    "#y definimos también las funciones que van a ir cargando las imágenes en el modelo\n",
    "train_loader = DataLoader(\n",
    "    dataset = OCT,\n",
    "    batch_size = 4, #establecemos un tamaño de lote (batch_size) de 4, ya que son pocas imágenes y podemos permitírnoslo\n",
    "    shuffle = True, #indicamos que mezcle las imágenes\n",
    "    num_workers = 2 #genera subprocesos para cargar los datos y así liberamos el proceso main\n",
    ")\n",
    "\n",
    "test_S_loader = DataLoader(\n",
    "    dataset = Samsung,\n",
    "    batch_size = 4, #establecemos un tamaño de lote (batch_size) de 10, ya que son pocas imágenes y podemos permitírnoslo\n",
    "    shuffle = True, #indicamos que mezcle las imágenes\n",
    "    num_workers = 2 #genera subprocesos para cargar los datos y así liberamos el proceso main\n",
    ")\n",
    "\n",
    "test_i_loader = DataLoader(\n",
    "    dataset = iPhone,\n",
    "    batch_size = 4, #establecemos un tamaño de lote (batch_size) de 10, ya que son pocas imágenes y podemos permitírnoslo\n",
    "    shuffle = True, #indicamos que mezcle las imágenes\n",
    "    num_workers = 2 #genera subprocesos para cargar los datos y así liberamos el proceso main\n",
    ")"
   ]
  },
  {
   "cell_type": "code",
   "execution_count": 42,
   "id": "785e077f",
   "metadata": {},
   "outputs": [],
   "source": [
    "#una vez definidos los DataLoaders ya podemos crear la clase que contendrá la estructura del modelo\n",
    "class Alqudah(nn.Module):\n",
    "    \n",
    "    def __init__(self):\n",
    "        #heredamos del constructor de la clase padre y lo sobreescribimos\n",
    "        super(Alqudah,self).__init__()\n",
    "        \n",
    "        #definimos la primera capa convolucional\n",
    "        self.conv1 = nn.Conv2d(\n",
    "            in_channels = 3, #3 canales de entrada porque las imágenes son a color\n",
    "            out_channels = 32, #se trata del número de salidas de la capa. Es el número de kernels de la capa convolucional\n",
    "            kernel_size = 3, #suele tratarse de un número impar\n",
    "            stride = 1, #cantidad píxeles que se desplaza el filtro sobre la imagen (lo dejamos por defecto ya que el artículo no dice nada)\n",
    "            padding = 0, #cantidad de relleno que se va a aplicar sobre los bordes de la imagen\n",
    "        )\n",
    "        \n",
    "        #segunda capa convolucional\n",
    "        self.conv2 = nn.Conv2d(\n",
    "            in_channels = 32, #32 canales de entrada porque es el número de salidas de la capa anterior\n",
    "            out_channels = 16, #se trata del número de salidas de la capa. Es el número de kernels de la capa convolucional\n",
    "            kernel_size = 3, #suele tratarse de un número impar\n",
    "            stride = 1, #cantidad píxeles que se desplaza el filtro sobre la imagen\n",
    "            padding = 0, #cantidad de relleno que se va a aplicar sobre los bordes de la imagen\n",
    "        )\n",
    "        \n",
    "        #tercera capa convolucional\n",
    "        self.conv3 = nn.Conv2d(\n",
    "            in_channels = 16, #16 canales de entrada porque es el número de salidas de la capa anterior\n",
    "            out_channels = 8, #se trata del número de salidas de la capa. Es el número de kernels de la capa convolucional\n",
    "            kernel_size = 3, #suele tratarse de un número impar\n",
    "            stride = 1, #cantidad píxeles que se desplaza el filtro sobre la imagen\n",
    "            padding = 0, #cantidad de relleno que se va a aplicar sobre los bordes de la imagen\n",
    "        )\n",
    "        \n",
    "        #cuarta y última capa convolucional\n",
    "        self.conv4 = nn.Conv2d(\n",
    "            in_channels = 8, #8 canales de entrada porque es el número de salidas de la capa anterior\n",
    "            out_channels = 16, #se trata del número de salidas de la capa. Es el número de kernels de la capa convolucional\n",
    "            kernel_size = 3, #suele tratarse de un número impar\n",
    "            stride = 1, #cantidad píxeles que se desplaza el filtro sobre la imagen\n",
    "            padding = 0, #cantidad de relleno que se va a aplicar sobre los bordes de la imagen\n",
    "        )\n",
    "        \n",
    "        #definimos también la capa de MaxPooling\n",
    "        self.pool = nn.MaxPool2d(\n",
    "            kernel_size = 2, #establecemos el tamaño del kernel a 2*2\n",
    "            stride = 2 #cantidad píxeles que se desplaza el filtro sobre la imagen\n",
    "        )\n",
    "        \n",
    "        #como novedad se introduce un nuevo tipo de capa: BatchNormalization\n",
    "        self.batch_norm1 = nn.BatchNorm2d(\n",
    "            num_features = 32 #número de características a normalizar (salidas de la capa a normalizar en este caso)\n",
    "        )\n",
    "        \n",
    "        self.batch_norm2_4 = nn.BatchNorm2d(\n",
    "            num_features = 16 #número de características a normalizar (salidas de la capa a normalizar en este caso)\n",
    "        )\n",
    "        \n",
    "        self.batch_norm3 = nn.BatchNorm2d(\n",
    "            num_features = 8 #número de características a normalizar (salidas de la capa a normalizar en este caso)\n",
    "        )\n",
    "        \n",
    "        #por último definimos la capa de neuronas fully-connected, con 5 neuronas de salida (una por clase del problema)\n",
    "        self.dense = nn.Linear(\n",
    "            in_features = 16*28*28,\n",
    "            out_features = 5\n",
    "        )\n",
    "        \n",
    "    def forward(self,x):\n",
    "        #en esta función es donde tiene lugar la computación (y la función invocada por defecto al ejecutar la red)\n",
    "        #en este caso la función de activación es ReLU\n",
    "        #vamos recreando la estructura descrita por Alqudah\n",
    "        #primero una capa convolucional con Batch Normalization, activación ReLU y MaxPooling\n",
    "        x = self.pool(F.relu(self.batch_norm1(self.conv1(x))))\n",
    "        #la misma secuencia pero variando las características de la capa convolucional y de batch normalization\n",
    "        x = self.pool(F.relu(self.batch_norm2_4(self.conv2(x)))) \n",
    "        #lo mismo para la tercera capa\n",
    "        x = self.pool(F.relu(self.batch_norm3(self.conv3(x))))\n",
    "        #y en la última capa convolucional no tiene lugar el MaxPooling (la activación y Batch Normalization sí)\n",
    "        x = F.relu(self.batch_norm2_4(self.conv4(x)))\n",
    "        #aplanamos la salida para que pueda ser utilizada por la capa de neuronas fully-connected\n",
    "        x = x.view(-1,self.num_flat_features(x))#usamos una función propia de la clase para obtener el número de características\n",
    "        #por último la capa densa \n",
    "        x = self.dense(x)\n",
    "        \n",
    "        return x\n",
    "    \n",
    "    def num_flat_features(self,x):\n",
    "        #por último definimos la función que permite obtener el número de características de los tensores\n",
    "        size = x.size()[1:] #seleccionamos todas las dimensiones expcepto la primera (que son los batches)\n",
    "        num_features = 1\n",
    "        #va iterando y calcula el número de características de los datos (x)\n",
    "        for s in size:\n",
    "            num_features*=s\n",
    "        return num_features"
   ]
  },
  {
   "cell_type": "code",
   "execution_count": 43,
   "id": "2ca575b3",
   "metadata": {},
   "outputs": [
    {
     "name": "stdout",
     "output_type": "stream",
     "text": [
      "Alqudah(\n",
      "  (conv1): Conv2d(3, 32, kernel_size=(3, 3), stride=(1, 1))\n",
      "  (conv2): Conv2d(32, 16, kernel_size=(3, 3), stride=(1, 1))\n",
      "  (conv3): Conv2d(16, 8, kernel_size=(3, 3), stride=(1, 1))\n",
      "  (conv4): Conv2d(8, 16, kernel_size=(3, 3), stride=(1, 1))\n",
      "  (pool): MaxPool2d(kernel_size=2, stride=2, padding=0, dilation=1, ceil_mode=False)\n",
      "  (batch_norm1): BatchNorm2d(32, eps=1e-05, momentum=0.1, affine=True, track_running_stats=True)\n",
      "  (batch_norm2_4): BatchNorm2d(16, eps=1e-05, momentum=0.1, affine=True, track_running_stats=True)\n",
      "  (batch_norm3): BatchNorm2d(8, eps=1e-05, momentum=0.1, affine=True, track_running_stats=True)\n",
      "  (dense): Linear(in_features=12544, out_features=5, bias=True)\n",
      ")\n"
     ]
    }
   ],
   "source": [
    "#una vez definida la clase generamos una instancia de la misma\n",
    "alqudah = Alqudah()\n",
    "#y mostramos por pantalla sus secciones\n",
    "print(alqudah)"
   ]
  },
  {
   "cell_type": "code",
   "execution_count": 44,
   "id": "8411a272",
   "metadata": {},
   "outputs": [],
   "source": [
    "#a continuación debemos entrenar el modelo, para ello es necesario definir una función loss que evalúa la desviación entre las predicciones y los valores reales\n",
    "#definimos como loss la función de tipo cross entropy \n",
    "criterion = nn.CrossEntropyLoss() \n",
    "\n",
    "#y una función optimizadora que modificará los pesos de la red para tratar de mejorar su rendimiento\n",
    "#en este caso el optimizador será la función Adam (ampliamente utilizada)\n",
    "optimizer = torch.optim.Adam(params = alqudah.parameters()) #dejamos el valor de learning rate por defecto (0.001)"
   ]
  },
  {
   "cell_type": "code",
   "execution_count": 45,
   "id": "ea5f77c2",
   "metadata": {},
   "outputs": [
    {
     "name": "stdout",
     "output_type": "stream",
     "text": [
      "Época 1/50 - Accuracy: 0.40707964601769914 - Loss: 0.23240400850772858\n"
     ]
    },
    {
     "ename": "KeyboardInterrupt",
     "evalue": "",
     "output_type": "error",
     "traceback": [
      "\u001b[1;31m---------------------------------------------------------------------------\u001b[0m",
      "\u001b[1;31mKeyboardInterrupt\u001b[0m                         Traceback (most recent call last)",
      "Input \u001b[1;32mIn [45]\u001b[0m, in \u001b[0;36m<cell line: 6>\u001b[1;34m()\u001b[0m\n\u001b[0;32m     18\u001b[0m loss \u001b[38;5;241m=\u001b[39m criterion(outputs, labels)\n\u001b[0;32m     19\u001b[0m \u001b[38;5;66;03m#propagamos hacia atrás el valor loss\u001b[39;00m\n\u001b[1;32m---> 20\u001b[0m \u001b[43mloss\u001b[49m\u001b[38;5;241;43m.\u001b[39;49m\u001b[43mbackward\u001b[49m\u001b[43m(\u001b[49m\u001b[43m)\u001b[49m\n\u001b[0;32m     21\u001b[0m \u001b[38;5;66;03m#y modificamos los pesos en función del loss y la función optimizer\u001b[39;00m\n\u001b[0;32m     22\u001b[0m optimizer\u001b[38;5;241m.\u001b[39mstep()\n",
      "File \u001b[1;32m~\\anaconda3\\envs\\venv_py39\\lib\\site-packages\\torch\\_tensor.py:487\u001b[0m, in \u001b[0;36mTensor.backward\u001b[1;34m(self, gradient, retain_graph, create_graph, inputs)\u001b[0m\n\u001b[0;32m    477\u001b[0m \u001b[38;5;28;01mif\u001b[39;00m has_torch_function_unary(\u001b[38;5;28mself\u001b[39m):\n\u001b[0;32m    478\u001b[0m     \u001b[38;5;28;01mreturn\u001b[39;00m handle_torch_function(\n\u001b[0;32m    479\u001b[0m         Tensor\u001b[38;5;241m.\u001b[39mbackward,\n\u001b[0;32m    480\u001b[0m         (\u001b[38;5;28mself\u001b[39m,),\n\u001b[1;32m   (...)\u001b[0m\n\u001b[0;32m    485\u001b[0m         inputs\u001b[38;5;241m=\u001b[39minputs,\n\u001b[0;32m    486\u001b[0m     )\n\u001b[1;32m--> 487\u001b[0m \u001b[43mtorch\u001b[49m\u001b[38;5;241;43m.\u001b[39;49m\u001b[43mautograd\u001b[49m\u001b[38;5;241;43m.\u001b[39;49m\u001b[43mbackward\u001b[49m\u001b[43m(\u001b[49m\n\u001b[0;32m    488\u001b[0m \u001b[43m    \u001b[49m\u001b[38;5;28;43mself\u001b[39;49m\u001b[43m,\u001b[49m\u001b[43m \u001b[49m\u001b[43mgradient\u001b[49m\u001b[43m,\u001b[49m\u001b[43m \u001b[49m\u001b[43mretain_graph\u001b[49m\u001b[43m,\u001b[49m\u001b[43m \u001b[49m\u001b[43mcreate_graph\u001b[49m\u001b[43m,\u001b[49m\u001b[43m \u001b[49m\u001b[43minputs\u001b[49m\u001b[38;5;241;43m=\u001b[39;49m\u001b[43minputs\u001b[49m\n\u001b[0;32m    489\u001b[0m \u001b[43m\u001b[49m\u001b[43m)\u001b[49m\n",
      "File \u001b[1;32m~\\anaconda3\\envs\\venv_py39\\lib\\site-packages\\torch\\autograd\\__init__.py:197\u001b[0m, in \u001b[0;36mbackward\u001b[1;34m(tensors, grad_tensors, retain_graph, create_graph, grad_variables, inputs)\u001b[0m\n\u001b[0;32m    192\u001b[0m     retain_graph \u001b[38;5;241m=\u001b[39m create_graph\n\u001b[0;32m    194\u001b[0m \u001b[38;5;66;03m# The reason we repeat same the comment below is that\u001b[39;00m\n\u001b[0;32m    195\u001b[0m \u001b[38;5;66;03m# some Python versions print out the first line of a multi-line function\u001b[39;00m\n\u001b[0;32m    196\u001b[0m \u001b[38;5;66;03m# calls in the traceback and some print out the last line\u001b[39;00m\n\u001b[1;32m--> 197\u001b[0m \u001b[43mVariable\u001b[49m\u001b[38;5;241;43m.\u001b[39;49m\u001b[43m_execution_engine\u001b[49m\u001b[38;5;241;43m.\u001b[39;49m\u001b[43mrun_backward\u001b[49m\u001b[43m(\u001b[49m\u001b[43m  \u001b[49m\u001b[38;5;66;43;03m# Calls into the C++ engine to run the backward pass\u001b[39;49;00m\n\u001b[0;32m    198\u001b[0m \u001b[43m    \u001b[49m\u001b[43mtensors\u001b[49m\u001b[43m,\u001b[49m\u001b[43m \u001b[49m\u001b[43mgrad_tensors_\u001b[49m\u001b[43m,\u001b[49m\u001b[43m \u001b[49m\u001b[43mretain_graph\u001b[49m\u001b[43m,\u001b[49m\u001b[43m \u001b[49m\u001b[43mcreate_graph\u001b[49m\u001b[43m,\u001b[49m\u001b[43m \u001b[49m\u001b[43minputs\u001b[49m\u001b[43m,\u001b[49m\n\u001b[0;32m    199\u001b[0m \u001b[43m    \u001b[49m\u001b[43mallow_unreachable\u001b[49m\u001b[38;5;241;43m=\u001b[39;49m\u001b[38;5;28;43;01mTrue\u001b[39;49;00m\u001b[43m,\u001b[49m\u001b[43m \u001b[49m\u001b[43maccumulate_grad\u001b[49m\u001b[38;5;241;43m=\u001b[39;49m\u001b[38;5;28;43;01mTrue\u001b[39;49;00m\u001b[43m)\u001b[49m\n",
      "\u001b[1;31mKeyboardInterrupt\u001b[0m: "
     ]
    }
   ],
   "source": [
    "#entrenamos la red\n",
    "#definimos 2 listas en las que almacenaremos los valores de accuracy y loss de cada época para poder graficarlo posteriormente\n",
    "acc_graph = []\n",
    "loss_graph = []\n",
    "#para entrenar el modelo vamos a iterar el número de épocas determinadas, calculando el valor de loss y accuracy para cada época\n",
    "for epoch in range(epocas):\n",
    "    #establecemos el número de predicciones correctas inicial a 0\n",
    "    correct = 0\n",
    "    total = 0\n",
    "    #y cargamos las imágenes de entrenamiento y sus etiquetas usando la estructura Loader previamente creada\n",
    "    for i, data in enumerate(train_loader):\n",
    "        inputs, labels = data\n",
    "        #establecemos a 0 los parámetros del modelo\n",
    "        optimizer.zero_grad()\n",
    "        #generamos las predicciones de los inputs\n",
    "        outputs = alqudah(inputs)\n",
    "        #calculamos el loss, la desviación de las predicciones con respecto a las etiquetas\n",
    "        loss = criterion(outputs, labels)\n",
    "        #propagamos hacia atrás el valor loss\n",
    "        loss.backward()\n",
    "        #y modificamos los pesos en función del loss y la función optimizer\n",
    "        optimizer.step()\n",
    "        #actualizamos el número de predicciones correctas\n",
    "        _, predicted = torch.max(outputs.data, 1)\n",
    "        total += labels.size(0)\n",
    "        correct += (predicted == labels).sum().item()\n",
    "    \n",
    "    #una vez finalizada la época (que recorre todo el conjunto de imágenes) mostramos el valor del loss y del accuracy\n",
    "    print(f'Época {epoch +1}/{epocas} - Accuracy: {correct/len(OCT)} - Loss: {loss.data.item()}')\n",
    "    #añadimos los valores a la lista correspondiente\n",
    "    loss_graph.append(loss.data.item())\n",
    "    acc_graph.append(correct/len(OCT))"
   ]
  },
  {
   "cell_type": "code",
   "execution_count": null,
   "id": "7c19bfbc",
   "metadata": {},
   "outputs": [],
   "source": [
    "#a continuación mostramos la evolución temporal del accuracy\n",
    "plt.figure(figsize = (10,7))\n",
    "plt.title('Evolución del Accuracy')\n",
    "plt.xlabel('Nº Época')\n",
    "plt.ylabel('Accuracy')\n",
    "plt.plot(range(1,epocas+1),acc_graph, linewidth = 3)\n",
    "plt.show()"
   ]
  },
  {
   "cell_type": "code",
   "execution_count": null,
   "id": "8ca3cd62",
   "metadata": {},
   "outputs": [],
   "source": [
    "#a continuación mostramos la evolución temporal del loss\n",
    "plt.figure(figsize = (10,7))\n",
    "plt.title('Evolución del Loss')\n",
    "plt.xlabel('Nº Época')\n",
    "plt.ylabel('Loss')\n",
    "plt.plot(range(1,epocas+1),loss_graph, color='orange', linewidth = 3)\n",
    "plt.show()"
   ]
  },
  {
   "cell_type": "code",
   "execution_count": 46,
   "id": "5aa78c09",
   "metadata": {},
   "outputs": [],
   "source": [
    "#por último solo debemos generar las predicciones a partir de la red entrenada\n",
    "#creamos 2 listas para almacenar las etiquetas reales y las etiquetas predichas y así poder calcular las métricas\n",
    "y_true_iphone = []\n",
    "y_pred_iphone = []\n",
    "#creamos una para almacenar también la salida del modelo, para posteriormente poder calcular AUC\n",
    "predictions = []\n",
    "#y definimos una función para convertir esa salida a forma de probabilidad (usando Softmax)\n",
    "m = nn.Softmax(dim=1)\n",
    "#es importante activar torch.no_grad() para que la red no entrene al pasarle el conjunto de test, no varíen los pesos\n",
    "with torch.no_grad():\n",
    "    #recorremos el conjunto de imágenes de test de iPhone\n",
    "    for data in test_i_loader:\n",
    "        images, labels = data #cargamos las imágenes y las etiquetas del dataloader\n",
    "        outputs = alqudah(images) #obtenemos las predicciones\n",
    "        predictions.append(m(outputs).numpy()) #las convertimos a probabilidad mediante Softmax \n",
    "        _, predicted = torch.max(outputs.data,1) #y obtenemos las etiquetas o labels predichas a partir de la probabilidad\n",
    "        y_pred_iphone.append(predicted.numpy()) #añadimos la predicción a la lista de predicciones\n",
    "        y_true_iphone.append(labels.numpy()) #y añadimos la etiqueta real a la lista de etiquetas reales\n",
    "#convertimos los datos a formato np.array de una única dimensión        \n",
    "y_true_iphone = np.concatenate(y_true_iphone)\n",
    "y_pred_iphone = np.concatenate(y_pred_iphone)\n",
    "predictions = np.concatenate(predictions)"
   ]
  },
  {
   "cell_type": "code",
   "execution_count": 47,
   "id": "c7171953",
   "metadata": {},
   "outputs": [
    {
     "name": "stdout",
     "output_type": "stream",
     "text": [
      "AxesSubplot(0.125,0.125;0.775x0.755)\n",
      "El valor de accuracy del modelo con imágenes de iphone es: 0.3434343434343434\n",
      "El valor de balanced accuracy del modelo con imágenes de iphone es: 0.23030303030303031\n",
      "El valor de F-score del modelo con imágenes de iphone es: 0.28845199596187737\n",
      "El valor de Kappa del modelo con imágenes de iphone es: 0.0631824137429029\n",
      "El valor de AUC del modelo con imágenes de iphone es: 0.5677173242681264\n"
     ]
    },
    {
     "data": {
      "image/png": "[encoded data removed]",
      "text/plain": [
       "<Figure size 432x288 with 1 Axes>"
      ]
     },
     "metadata": {
      "needs_background": "light"
     },
     "output_type": "display_data"
    }
   ],
   "source": [
    "#a partir de las predicciones y las labels reales podemos calcular las métricas deseadas\n",
    "#primero la matriz de confusión\n",
    "matrix_iphone = confusion_matrix(y_true_iphone, y_pred_iphone)\n",
    "#usamos el paquete seaborn para mostrar de manera más visual la matriz de confusión\n",
    "plot = sns.heatmap(matrix_iphone, annot = True, cmap = 'Reds', cbar = False)\n",
    "#establecemos título\n",
    "plot.set_title('Matriz de confusión - iPhone\\n')\n",
    "#título de cada eje\n",
    "plot.set_xlabel('\\nGrado Iphone')\n",
    "plot.set_ylabel('Grado real\\n')\n",
    "#y el significado de cada fila y columna de la matriz\n",
    "plot.xaxis.set_ticklabels(['Grado1','Grado2','Grado3','Grado4','Grado5'])\n",
    "plot.yaxis.set_ticklabels(['Grado1','Grado2','Grado3','Grado4','Grado5'])\n",
    "print(plot)\n",
    "\n",
    "#calculamos el valor de accuracy\n",
    "accuracy_iphone = accuracy_score(y_true = y_true_iphone, y_pred = y_pred_iphone)\n",
    "print(f'El valor de accuracy del modelo con imágenes de iphone es: {accuracy_iphone}')\n",
    "#el balanced accuracy\n",
    "bal_acc_iphone = balanced_accuracy_score(y_true = y_true_iphone, y_pred = y_pred_iphone)\n",
    "print(f'El valor de balanced accuracy del modelo con imágenes de iphone es: {bal_acc_iphone}')\n",
    "#el F-score\n",
    "f_score_iphone = f1_score(y_true = y_true_iphone, y_pred = y_pred_iphone,average = 'weighted')\n",
    "print(f'El valor de F-score del modelo con imágenes de iphone es: {f_score_iphone}')\n",
    "#calculamos el valor de quadratic weighted kappa\n",
    "kappa_iphone = cohen_kappa_score(y1 = y_true_iphone, y2 = y_pred_iphone)\n",
    "print(f'El valor de Kappa del modelo con imágenes de iphone es: {kappa_iphone}')\n",
    "#y por último calculamos el valor de AUC bajo la curva ROC\n",
    "auc_iphone = roc_auc_score(y_true = y_true_iphone, y_score = predictions, multi_class = 'ovr')\n",
    "print(f'El valor de AUC del modelo con imágenes de iphone es: {auc_iphone}')"
   ]
  },
  {
   "cell_type": "code",
   "execution_count": 51,
   "id": "37b94b81",
   "metadata": {},
   "outputs": [],
   "source": [
    "#realizamos el mismo proceso para las imágenes de Samsung\n",
    "#creamos 2 listas para almacenar las etiquetas reales y las etiquetas predichas y así poder calcular las métricas\n",
    "y_true_samsung = []\n",
    "y_pred_samsung = []\n",
    "#creamos una para almacenar también la salida del modelo, para posteriormente poder calcular AUC\n",
    "predictions = []\n",
    "#y definimos una función para convertir esa salida a forma de probabilidad (usando Softmax)\n",
    "m = nn.Softmax(dim=1)\n",
    "#es importante activar torch.no_grad() para que la red no entrene al pasarle el conjunto de test, no varíen los pesos\n",
    "with torch.no_grad():\n",
    "    #recorremos el conjunto de imágenes de test de Samsung en este caso \n",
    "    for data in test_S_loader:\n",
    "        images, labels = data #cargamos las imágenes y las etiquetas del dataloader\n",
    "        outputs = alqudah(images) #obtenemos las predicciones\n",
    "        predictions.append(m(outputs).numpy()) #las convertimos a probabilidad mediante Softmax \n",
    "        _, predicted = torch.max(outputs.data,1) #y obtenemos las etiquetas o labels predichas a partir de la probabilidad\n",
    "        y_pred_samsung.append(predicted.numpy()) #añadimos la predicción a la lista de predicciones\n",
    "        y_true_samsung.append(labels.numpy()) #y añadimos la etiqueta real a la lista de etiquetas reales\n",
    "#convertimos los datos a formato np.array de una única dimensión \n",
    "y_true_samsung = np.concatenate(y_true_samsung)\n",
    "y_pred_samsung = np.concatenate(y_pred_samsung)\n",
    "predictions = np.concatenate(predictions)"
   ]
  },
  {
   "cell_type": "code",
   "execution_count": 52,
   "id": "affd6e49",
   "metadata": {},
   "outputs": [
    {
     "name": "stdout",
     "output_type": "stream",
     "text": [
      "AxesSubplot(0.125,0.125;0.775x0.755)\n",
      "El valor de accuracy del modelo con imágenes de samsung es: 0.3548387096774194\n",
      "El valor de balanced accuracy del modelo con imágenes de samsung es: 0.21157446808510638\n",
      "El valor de F-score del modelo con imágenes de samsung es: 0.3034768196058519\n",
      "El valor de Kappa del modelo con imágenes de samsung es: 0.02617801047120405\n",
      "El valor de AUC del modelo con imágenes de samsung es: 0.5433410679019931\n"
     ]
    },
    {
     "data": {
      "image/png": "[encoded data removed]",
      "text/plain": [
       "<Figure size 432x288 with 1 Axes>"
      ]
     },
     "metadata": {
      "needs_background": "light"
     },
     "output_type": "display_data"
    }
   ],
   "source": [
    "#a partir de las predicciones y las labels reales podemos calcular las métricas deseadas\n",
    "matrix_samsung = confusion_matrix(y_true_samsung, y_pred_samsung)\n",
    "plot = sns.heatmap(matrix_samsung, annot = True, cmap = 'Reds', cbar = False)\n",
    "#establecemos título\n",
    "plot.set_title('Matriz de confusión - Samsung\\n')\n",
    "#título de cada eje\n",
    "plot.set_xlabel('\\nGrado Samsung')\n",
    "plot.set_ylabel('Grado real\\n')\n",
    "#y el significado de cada fila y columna de la matriz\n",
    "plot.xaxis.set_ticklabels(['Grado1','Grado2','Grado3','Grado4','Grado5'])\n",
    "plot.yaxis.set_ticklabels(['Grado1','Grado2','Grado3','Grado4','Grado5'])\n",
    "print(plot)\n",
    "\n",
    "#calculamos el valor de accuracy\n",
    "accuracy_samsung = accuracy_score(y_true = y_true_samsung, y_pred = y_pred_samsung)\n",
    "print(f'El valor de accuracy del modelo con imágenes de samsung es: {accuracy_samsung}')\n",
    "#el balanced accuracy\n",
    "bal_acc_samsung = balanced_accuracy_score(y_true = y_true_samsung, y_pred = y_pred_samsung)\n",
    "print(f'El valor de balanced accuracy del modelo con imágenes de samsung es: {bal_acc_samsung}')\n",
    "#el F-score\n",
    "f_score_samsung = f1_score(y_true = y_true_samsung, y_pred = y_pred_samsung,average = 'weighted')\n",
    "print(f'El valor de F-score del modelo con imágenes de samsung es: {f_score_samsung}')\n",
    "#calculamos el valor de quadratic weighted kappa\n",
    "kappa_samsung = cohen_kappa_score(y1 = y_true_samsung, y2 = y_pred_samsung)\n",
    "print(f'El valor de Kappa del modelo con imágenes de samsung es: {kappa_samsung}')\n",
    "#y por último calculamos el valor de AUC bajo la curva ROC\n",
    "auc_samsung = roc_auc_score(y_true = y_true_samsung, y_score = predictions, multi_class = 'ovr')\n",
    "print(f'El valor de AUC del modelo con imágenes de samsung es: {auc_samsung}')"
   ]
  }
 ],
 "metadata": {
  "kernelspec": {
   "display_name": "Python 3 (ipykernel)",
   "language": "python",
   "name": "python3"
  },
  "language_info": {
   "codemirror_mode": {
    "name": "ipython",
    "version": 3
   },
   "file_extension": ".py",
   "mimetype": "text/x-python",
   "name": "python",
   "nbconvert_exporter": "python",
   "pygments_lexer": "ipython3",
   "version": "3.9.12"
  }
 },
 "nbformat": 4,
 "nbformat_minor": 5
}
