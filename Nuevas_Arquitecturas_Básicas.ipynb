{
 "cells": [
  {
   "cell_type": "code",
   "execution_count": 5,
   "id": "5d99b7a6",
   "metadata": {},
   "outputs": [],
   "source": [
    "#primero importamos todos los paquetes necesarios\n",
    "import torch #contiene todas las funciones de PyTorch\n",
    "import torch.nn as nn #contiene la clase padre de todos los modelos (nn.Module)\n",
    "import torch.nn.functional as F #esencial para la función de activación \n",
    "import torchvision #fundamental para la importación de imágenes\n",
    "import torchvision.transforms as transforms\n",
    "from torchvision.datasets import ImageFolder\n",
    "from torch.utils.data import DataLoader\n",
    "from matplotlib import pyplot as plt #para poder representar las gráficas\n",
    "import numpy as np #para las métricas de la red"
   ]
  },
  {
   "cell_type": "code",
   "execution_count": 6,
   "id": "2c6bc122",
   "metadata": {},
   "outputs": [],
   "source": [
    "#importamos los paquetes necesarios para el cálculo de las métricas\n",
    "import sklearn\n",
    "from sklearn.metrics import accuracy_score, balanced_accuracy_score, f1_score, cohen_kappa_score, roc_auc_score, confusion_matrix\n",
    "import seaborn as sns"
   ]
  },
  {
   "cell_type": "code",
   "execution_count": 7,
   "id": "2c85266b",
   "metadata": {},
   "outputs": [],
   "source": [
    "#en este script se entrenarán modelos que siguen una estructura idéntica a la relatada en los siguientes artículos:\n",
    "# - Automatic Detection and Classification of Diabetic Retinopathy stages using CNN (Ghosh R.,Ghosh K.)\n",
    "# - Classification of Diabetic Retinopathy Images Based on Customised CNN Architecture (Mobeen-ur-Rehman)\n",
    "# - Diagnosis of retinal disorders from Optical Coherence Tomography images using CNN (Rajagopalan N., Venkateswaran N.)\n",
    "# - AOCT-NET: a convolutional network automated classification of multiclass retinal diseases using spectral-domain optical coherence tomography images (Alqudah A.)"
   ]
  },
  {
   "cell_type": "code",
   "execution_count": 8,
   "id": "85007421",
   "metadata": {},
   "outputs": [],
   "source": [
    "#establecemos el tamaño del batch, la escala de las imágenes y el número de épocas de entrenamiento\n",
    "#debido a que cada una de las arquitecturas requiere una escala de imagen específica, la escala y los loaders serán definidas para cada arquitectura\n",
    "batch = 4\n",
    "#comenzaremos con la arquitectura propuesta por Ghosh, con una escala de 512, 512, 3\n",
    "escala = 512\n",
    "epocas = 50"
   ]
  },
  {
   "cell_type": "code",
   "execution_count": 9,
   "id": "583ccb3d",
   "metadata": {},
   "outputs": [],
   "source": [
    "#a continuación definimos la operación que permitirá transformar las imágenes del repositorio en Tensores que puedan ser empleados por PyTorch\n",
    "transform = transforms.Compose(\n",
    "    [transforms.ToTensor(), #transforma la imagen de formato PIL a formato tensor\n",
    "     transforms.Normalize((0.5, 0.5, 0.5), (0.5, 0.5, 0.5)), #normaliza el tensor para que la media de sus valores sea 0 y su desviación estándar 0.5\n",
    "     transforms.Resize((escala, escala))]) #redimensionamos las imágenes"
   ]
  },
  {
   "cell_type": "code",
   "execution_count": 10,
   "id": "7f2ffcf7",
   "metadata": {},
   "outputs": [
    {
     "name": "stdout",
     "output_type": "stream",
     "text": [
      "Tamaño del conjunto de datos de train: 113\n",
      "Tamaño del conjunto de datos de test de Samsung: 93\n",
      "Tamaño del conjunto de datos de test de iPhone: 99\n"
     ]
    }
   ],
   "source": [
    "#a continuación cargamos el conjunto de imágenes de train (OCT) y los dos de test (iPhone y Samsung)\n",
    "OCT = ImageFolder(root = 'Datos/Classified Data/Images/OCT', transform = transform)\n",
    "print(f'Tamaño del conjunto de datos de train: {len(OCT)}')\n",
    "\n",
    "Samsung = ImageFolder(root = 'Datos/Classified Data/Images/Samsung', transform = transform)\n",
    "print(f'Tamaño del conjunto de datos de test de Samsung: {len(Samsung)}')\n",
    "\n",
    "iPhone = ImageFolder(root = 'Datos/Classified Data/Images/iPhone', transform = transform)\n",
    "print(f'Tamaño del conjunto de datos de test de iPhone: {len(iPhone)}')"
   ]
  },
  {
   "cell_type": "code",
   "execution_count": 11,
   "id": "d587ac5c",
   "metadata": {},
   "outputs": [],
   "source": [
    "#establecemos una lista con el nombre de las etiquetas\n",
    "classes = OCT.classes"
   ]
  },
  {
   "cell_type": "code",
   "execution_count": 12,
   "id": "3039dcb3",
   "metadata": {},
   "outputs": [],
   "source": [
    "#y definimos también las funciones que van a ir cargando las imágenes en el modelo\n",
    "train_loader = DataLoader(\n",
    "    dataset = OCT,\n",
    "    batch_size = 4, #establecemos un tamaño de lote (batch_size) de 4, ya que son pocas imágenes y podemos permitírnoslo\n",
    "    shuffle = True, #indicamos que mezcle las imágenes\n",
    "    num_workers = 2 #genera subprocesos para cargar los datos y así liberamos el proceso main\n",
    ")\n",
    "\n",
    "test_S_loader = DataLoader(\n",
    "    dataset = Samsung,\n",
    "    batch_size = 4, #establecemos un tamaño de lote (batch_size) de 10, ya que son pocas imágenes y podemos permitírnoslo\n",
    "    shuffle = True, #indicamos que mezcle las imágenes\n",
    "    num_workers = 2 #genera subprocesos para cargar los datos y así liberamos el proceso main\n",
    ")\n",
    "\n",
    "test_i_loader = DataLoader(\n",
    "    dataset = iPhone,\n",
    "    batch_size = 4, #establecemos un tamaño de lote (batch_size) de 10, ya que son pocas imágenes y podemos permitírnoslo\n",
    "    shuffle = True, #indicamos que mezcle las imágenes\n",
    "    num_workers = 2 #genera subprocesos para cargar los datos y así liberamos el proceso main\n",
    ")"
   ]
  },
  {
   "cell_type": "code",
   "execution_count": 13,
   "id": "5840ddeb",
   "metadata": {},
   "outputs": [],
   "source": [
    "#en esta ocasión, para mayor sencillez del código, vamos a omitir el paso de representación de las imágenes (además sabemos que los DataLoaders funcionan correctamente pues son los mismos que los empleados en el script 'Primera_Red_Básica')"
   ]
  },
  {
   "cell_type": "code",
   "execution_count": 43,
   "id": "5baae0a6",
   "metadata": {},
   "outputs": [],
   "source": [
    "#ARQUITECTURA DEFINIDA POR GHOSH\n",
    "class Ghosh(nn.Module):\n",
    "    #esta estructura está formada por capas convolucionales, de maxpooling, de activación, de Dropout, fully-connected y de clasificación\n",
    "    \n",
    "    def __init__(self):\n",
    "        #sobreescribimos el constructor del padre\n",
    "        super(Ghosh,self).__init__()\n",
    "        #primero definimos una capa convolucional\n",
    "        self.conv1 = nn.Conv2d(\n",
    "            in_channels = 3, #3 canales de entrada porque las imágenes son a color\n",
    "            out_channels = 32, #se trata del número de salidas de la capa. Es el número de kernels de la capa\n",
    "            kernel_size = 7, #suele tratarse de un número impar\n",
    "            stride = 2, #cantidad píxeles que se desplaza el filtro sobre la imagen\n",
    "            padding = 2, #cantidad de relleno que se va a aplicar sobre los bordes de la imagen\n",
    "        )\n",
    "        \n",
    "        #la segunda (y tercera) capa convolucional, se pueden definir como una única porque el número de entradas y salidas coincide\n",
    "        self.conv2_3 = nn.Conv2d(\n",
    "            in_channels = 32, #32 canales de entrada para que coincida con las salidas de la capa anterior\n",
    "            out_channels = 32, #se trata del número de salidas de la capa. Es el número de kernels de la capa\n",
    "            kernel_size = 3, #suele tratarse de un número impar\n",
    "            stride = 2, #cantidad píxeles que se desplaza el filtro sobre la imagen\n",
    "            padding = 2, #cantidad de relleno que se va a aplicar sobre los bordes de la imagen\n",
    "        )\n",
    "        \n",
    "        #la cuarta capa convolucional\n",
    "        self.conv4 = nn.Conv2d(\n",
    "            in_channels = 32, #32 canales de entrada para que coincida con las salidas de la capa anterior\n",
    "            out_channels = 64, #se trata del número de salidas de la capa. Es el número de kernels de la capa\n",
    "            kernel_size = 3, #suele tratarse de un número impar\n",
    "            stride = 2, #cantidad píxeles que se desplaza el filtro sobre la imagen\n",
    "            padding = 2, #cantidad de relleno que se va a aplicar sobre los bordes de la imagen\n",
    "        )\n",
    "        \n",
    "        #la quinta capa convolucional\n",
    "        self.conv5 = nn.Conv2d(\n",
    "            in_channels = 64, #64 canales de entrada para que coincida con las salidas de la capa anterior\n",
    "            out_channels = 64, #se trata del número de salidas de la capa. Es el número de kernels de la capa\n",
    "            kernel_size = 3, #suele tratarse de un número impar\n",
    "            stride = 2, #cantidad píxeles que se desplaza el filtro sobre la imagen\n",
    "            padding = 2, #cantidad de relleno que se va a aplicar sobre los bordes de la imagen\n",
    "        )\n",
    "        \n",
    "        #la sexta capa convolucional\n",
    "        self.conv6 = nn.Conv2d(\n",
    "            in_channels = 64, #64 canales de entrada para que coincida con las salidas de la capa anterior\n",
    "            out_channels = 128, #se trata del número de salidas de la capa. Es el número de kernels de la capa\n",
    "            kernel_size = 3, #suele tratarse de un número impar\n",
    "            stride = 2, #cantidad píxeles que se desplaza el filtro sobre la imagen\n",
    "            padding = 2, #cantidad de relleno que se va a aplicar sobre los bordes de la imagen\n",
    "        )\n",
    "        \n",
    "        #la séptima (y octava y novena) capa convolucional\n",
    "        self.conv7_8_9 = nn.Conv2d(\n",
    "            in_channels = 128, #64 canales de entrada para que coincida con las salidas de la capa anterior\n",
    "            out_channels = 128, #se trata del número de salidas de la capa. Es el número de kernels de la capa\n",
    "            kernel_size = 3, #suele tratarse de un número impar\n",
    "            stride = 2, #cantidad píxeles que se desplaza el filtro sobre la imagen\n",
    "            padding = 2, #cantidad de relleno que se va a aplicar sobre los bordes de la imagen\n",
    "        )\n",
    "        \n",
    "        #la décima capa convolucional\n",
    "        self.conv10 = nn.Conv2d(\n",
    "            in_channels = 128, #64 canales de entrada para que coincida con las salidas de la capa anterior\n",
    "            out_channels = 256, #se trata del número de salidas de la capa. Es el número de kernels de la capa\n",
    "            kernel_size = 3, #suele tratarse de un número impar\n",
    "            stride = 2, #cantidad píxeles que se desplaza el filtro sobre la imagen\n",
    "            padding = 2, #cantidad de relleno que se va a aplicar sobre los bordes de la imagen\n",
    "        )\n",
    "        \n",
    "        #las últimas 3 capa convolucionales\n",
    "        self.conv11_12_13 = nn.Conv2d(\n",
    "            in_channels = 256, #64 canales de entrada para que coincida con las salidas de la capa anterior\n",
    "            out_channels = 256, #se trata del número de salidas de la capa. Es el número de kernels de la capa\n",
    "            kernel_size = 3, #suele tratarse de un número impar\n",
    "            stride = 2, #cantidad píxeles que se desplaza el filtro sobre la imagen\n",
    "            padding = 2, #cantidad de relleno que se va a aplicar sobre los bordes de la imagen\n",
    "        )\n",
    "        \n",
    "        #la función de activación (en este caso PReLU)\n",
    "        self.activation = nn.PReLU()\n",
    "        \n",
    "        #la capa de MaxPool\n",
    "        self.pool = nn.MaxPool2d(\n",
    "            kernel_size = 2, #establecemos el tamaño del kernel a 2*2\n",
    "            stride = 2 #cantidad píxeles que se desplaza el filtro sobre la imagen\n",
    "        )\n",
    "        \n",
    "        #la primera capa de neuronas a la que aplicaremos Dropout como técnica de regularización\n",
    "        self.fc1 = nn.Linear(\n",
    "            in_features = 256, #número de características de entrada\n",
    "            out_features = 256 #número de neuronas de salida\n",
    "        )\n",
    "        \n",
    "        #la segunda capa fully-connected\n",
    "        self.fc2 = nn.Linear(256,1024)\n",
    "        \n",
    "        #la tercera capa fully-connected\n",
    "        self.fc3 = nn.Linear(1024,512)\n",
    "        \n",
    "        #la capa de neuronas fully-connected final\n",
    "        self.dense = nn.Linear(\n",
    "            in_features = 512, #número de parámetros de entrada de la red (los valores se obtienen experimentalmente)\n",
    "            out_features = 5 #número de neuronas de salida\n",
    "        )\n",
    "        \n",
    "    def forward(self,x):\n",
    "        #en esta función es donde tiene lugar la computación (y la función invocada por defecto al ejecutar la red)\n",
    "        #siguiendo la estructura descrita en Ghosh et al.:\n",
    "        \n",
    "        #primero una capa convolucional de tipo 1, con su consecuente activación PReLU y la capa de MaxPool\n",
    "        x = self.pool(self.activation(self.conv1(x)))\n",
    "        #una capa convolucional de tipo 2 con su correspondiente activación\n",
    "        x = self.activation(self.conv2_3(x))\n",
    "        #capa convolucional de tipo 2 con activación y MaxPool\n",
    "        x = self.pool(self.activation(self.conv2_3(x)))\n",
    "        #cuarta convolucional con activación\n",
    "        x = self.activation(self.conv4(x))\n",
    "        #quinta convolucional con activación y MaxPool\n",
    "        x = self.pool(self.activation(self.conv5(x)))\n",
    "        #3 capas convolucionales consecutivas de tipo 2 con su correspondiente activación\n",
    "        x = self.activation(self.conv6(x))\n",
    "        x = self.activation(self.conv7_8_9(x))\n",
    "        x = self.activation(self.conv7_8_9(x))\n",
    "        #novena capa convolucional con activación y MaxPool\n",
    "        x = self.pool(self.activation(self.conv7_8_9(x)))\n",
    "        #se repite la misma estructura de 3 capas convolucionales con activación y una última con activación y MaxPool\n",
    "        x = self.activation(self.conv10(x))\n",
    "        x = self.activation(self.conv11_12_13(x))\n",
    "        x = self.activation(self.conv11_12_13(x))\n",
    "        x = self.pool(self.activation(self.conv11_12_13(x)))\n",
    "        #aplanamos la salida, hasta convertirla de forma matricial a forma vectorial (sería la capa flatten)\n",
    "        x = x.view(-1,self.num_flat_features(x))#usamos una función propia de la clase para obtener el número de características\n",
    "        #aplicamos una primera red neuronal fully-connected, con la activación consecuente y la estrategia dropout para evitar el sobreentrenamiento\n",
    "        x = F.dropout(self.activation(self.fc1(x)))\n",
    "        #lo mismo sucede con la segunda capa fully-connected\n",
    "        x = F.dropout(self.activation(self.fc2(x)))\n",
    "        #y con la tercera\n",
    "        x = F.dropout(self.activation(self.fc3(x)))\n",
    "        #por último tiene lugar la capa de predicciones, que convierte las 512 neuronas de la tercera capa fully-connected en una salida de 5 neuronas (una por clase)\n",
    "        x = self.dense(x)\n",
    "        \n",
    "        return x\n",
    "    \n",
    "    def num_flat_features(self,x):\n",
    "        #por último definimos la función que permite obtener el número de características de los tensores\n",
    "        size = x.size()[1:] #seleccionamos todas las dimensiones expcepto la primera (que son los batches)\n",
    "        num_features = 1\n",
    "        #va iterando y calcula el número de características de los datos (x)\n",
    "        for s in size:\n",
    "            num_features*=s\n",
    "        return num_features"
   ]
  },
  {
   "cell_type": "code",
   "execution_count": 44,
   "id": "7d8afde5",
   "metadata": {},
   "outputs": [
    {
     "name": "stdout",
     "output_type": "stream",
     "text": [
      "Ghosh(\n",
      "  (conv1): Conv2d(3, 32, kernel_size=(7, 7), stride=(2, 2), padding=(2, 2))\n",
      "  (conv2_3): Conv2d(32, 32, kernel_size=(3, 3), stride=(2, 2), padding=(2, 2))\n",
      "  (conv4): Conv2d(32, 64, kernel_size=(3, 3), stride=(2, 2), padding=(2, 2))\n",
      "  (conv5): Conv2d(64, 64, kernel_size=(3, 3), stride=(2, 2), padding=(2, 2))\n",
      "  (conv6): Conv2d(64, 128, kernel_size=(3, 3), stride=(2, 2), padding=(2, 2))\n",
      "  (conv7_8_9): Conv2d(128, 128, kernel_size=(3, 3), stride=(2, 2), padding=(2, 2))\n",
      "  (conv10): Conv2d(128, 256, kernel_size=(3, 3), stride=(2, 2), padding=(2, 2))\n",
      "  (conv11_12_13): Conv2d(256, 256, kernel_size=(3, 3), stride=(2, 2), padding=(2, 2))\n",
      "  (activation): PReLU(num_parameters=1)\n",
      "  (pool): MaxPool2d(kernel_size=2, stride=2, padding=0, dilation=1, ceil_mode=False)\n",
      "  (fc1): Linear(in_features=256, out_features=256, bias=True)\n",
      "  (fc2): Linear(in_features=256, out_features=1024, bias=True)\n",
      "  (fc3): Linear(in_features=1024, out_features=512, bias=True)\n",
      "  (dense): Linear(in_features=512, out_features=5, bias=True)\n",
      ")\n"
     ]
    }
   ],
   "source": [
    "#creamos una instancia de esta red\n",
    "ghosh = Ghosh()\n",
    "#mostramos su estructura\n",
    "print(ghosh)"
   ]
  },
  {
   "cell_type": "code",
   "execution_count": 45,
   "id": "b455ef93",
   "metadata": {},
   "outputs": [],
   "source": [
    "#definimos como loss la función de tipo cross entropy \n",
    "criterion = nn.CrossEntropyLoss() "
   ]
  },
  {
   "cell_type": "code",
   "execution_count": 46,
   "id": "fb192de1",
   "metadata": {},
   "outputs": [],
   "source": [
    "#en este caso el optimizador será la función Adam (ampliamente utilizada)\n",
    "optimizer = torch.optim.Adam(params = ghosh.parameters(), lr = 0.01) #incrementamos el valor del learning rate a 0.01"
   ]
  },
  {
   "cell_type": "code",
   "execution_count": 47,
   "id": "7af66209",
   "metadata": {},
   "outputs": [
    {
     "name": "stdout",
     "output_type": "stream",
     "text": [
      "Época 1/50 - Accuracy: 0.3008849557522124 - Loss: 0.6626059412956238\n",
      "Época 2/50 - Accuracy: 0.4336283185840708 - Loss: 1.5326260328292847\n",
      "Época 3/50 - Accuracy: 0.49557522123893805 - Loss: 0.8032357692718506\n",
      "Época 4/50 - Accuracy: 0.49557522123893805 - Loss: 1.5383954048156738\n",
      "Época 5/50 - Accuracy: 0.45132743362831856 - Loss: 1.6979864835739136\n",
      "Época 6/50 - Accuracy: 0.4247787610619469 - Loss: 46.12579345703125\n"
     ]
    },
    {
     "ename": "KeyboardInterrupt",
     "evalue": "",
     "output_type": "error",
     "traceback": [
      "\u001b[1;31m---------------------------------------------------------------------------\u001b[0m",
      "\u001b[1;31mKeyboardInterrupt\u001b[0m                         Traceback (most recent call last)",
      "Input \u001b[1;32mIn [47]\u001b[0m, in \u001b[0;36m<cell line: 5>\u001b[1;34m()\u001b[0m\n\u001b[0;32m     17\u001b[0m loss \u001b[38;5;241m=\u001b[39m criterion(outputs, labels)\n\u001b[0;32m     18\u001b[0m \u001b[38;5;66;03m#propagamos hacia atrás el valor loss\u001b[39;00m\n\u001b[1;32m---> 19\u001b[0m \u001b[43mloss\u001b[49m\u001b[38;5;241;43m.\u001b[39;49m\u001b[43mbackward\u001b[49m\u001b[43m(\u001b[49m\u001b[43m)\u001b[49m\n\u001b[0;32m     20\u001b[0m \u001b[38;5;66;03m#y modificamos los pesos en función del loss y la función optimizer\u001b[39;00m\n\u001b[0;32m     21\u001b[0m optimizer\u001b[38;5;241m.\u001b[39mstep()\n",
      "File \u001b[1;32m~\\anaconda3\\envs\\venv_py39\\lib\\site-packages\\torch\\_tensor.py:487\u001b[0m, in \u001b[0;36mTensor.backward\u001b[1;34m(self, gradient, retain_graph, create_graph, inputs)\u001b[0m\n\u001b[0;32m    477\u001b[0m \u001b[38;5;28;01mif\u001b[39;00m has_torch_function_unary(\u001b[38;5;28mself\u001b[39m):\n\u001b[0;32m    478\u001b[0m     \u001b[38;5;28;01mreturn\u001b[39;00m handle_torch_function(\n\u001b[0;32m    479\u001b[0m         Tensor\u001b[38;5;241m.\u001b[39mbackward,\n\u001b[0;32m    480\u001b[0m         (\u001b[38;5;28mself\u001b[39m,),\n\u001b[1;32m   (...)\u001b[0m\n\u001b[0;32m    485\u001b[0m         inputs\u001b[38;5;241m=\u001b[39minputs,\n\u001b[0;32m    486\u001b[0m     )\n\u001b[1;32m--> 487\u001b[0m \u001b[43mtorch\u001b[49m\u001b[38;5;241;43m.\u001b[39;49m\u001b[43mautograd\u001b[49m\u001b[38;5;241;43m.\u001b[39;49m\u001b[43mbackward\u001b[49m\u001b[43m(\u001b[49m\n\u001b[0;32m    488\u001b[0m \u001b[43m    \u001b[49m\u001b[38;5;28;43mself\u001b[39;49m\u001b[43m,\u001b[49m\u001b[43m \u001b[49m\u001b[43mgradient\u001b[49m\u001b[43m,\u001b[49m\u001b[43m \u001b[49m\u001b[43mretain_graph\u001b[49m\u001b[43m,\u001b[49m\u001b[43m \u001b[49m\u001b[43mcreate_graph\u001b[49m\u001b[43m,\u001b[49m\u001b[43m \u001b[49m\u001b[43minputs\u001b[49m\u001b[38;5;241;43m=\u001b[39;49m\u001b[43minputs\u001b[49m\n\u001b[0;32m    489\u001b[0m \u001b[43m\u001b[49m\u001b[43m)\u001b[49m\n",
      "File \u001b[1;32m~\\anaconda3\\envs\\venv_py39\\lib\\site-packages\\torch\\autograd\\__init__.py:197\u001b[0m, in \u001b[0;36mbackward\u001b[1;34m(tensors, grad_tensors, retain_graph, create_graph, grad_variables, inputs)\u001b[0m\n\u001b[0;32m    192\u001b[0m     retain_graph \u001b[38;5;241m=\u001b[39m create_graph\n\u001b[0;32m    194\u001b[0m \u001b[38;5;66;03m# The reason we repeat same the comment below is that\u001b[39;00m\n\u001b[0;32m    195\u001b[0m \u001b[38;5;66;03m# some Python versions print out the first line of a multi-line function\u001b[39;00m\n\u001b[0;32m    196\u001b[0m \u001b[38;5;66;03m# calls in the traceback and some print out the last line\u001b[39;00m\n\u001b[1;32m--> 197\u001b[0m \u001b[43mVariable\u001b[49m\u001b[38;5;241;43m.\u001b[39;49m\u001b[43m_execution_engine\u001b[49m\u001b[38;5;241;43m.\u001b[39;49m\u001b[43mrun_backward\u001b[49m\u001b[43m(\u001b[49m\u001b[43m  \u001b[49m\u001b[38;5;66;43;03m# Calls into the C++ engine to run the backward pass\u001b[39;49;00m\n\u001b[0;32m    198\u001b[0m \u001b[43m    \u001b[49m\u001b[43mtensors\u001b[49m\u001b[43m,\u001b[49m\u001b[43m \u001b[49m\u001b[43mgrad_tensors_\u001b[49m\u001b[43m,\u001b[49m\u001b[43m \u001b[49m\u001b[43mretain_graph\u001b[49m\u001b[43m,\u001b[49m\u001b[43m \u001b[49m\u001b[43mcreate_graph\u001b[49m\u001b[43m,\u001b[49m\u001b[43m \u001b[49m\u001b[43minputs\u001b[49m\u001b[43m,\u001b[49m\n\u001b[0;32m    199\u001b[0m \u001b[43m    \u001b[49m\u001b[43mallow_unreachable\u001b[49m\u001b[38;5;241;43m=\u001b[39;49m\u001b[38;5;28;43;01mTrue\u001b[39;49;00m\u001b[43m,\u001b[49m\u001b[43m \u001b[49m\u001b[43maccumulate_grad\u001b[49m\u001b[38;5;241;43m=\u001b[39;49m\u001b[38;5;28;43;01mTrue\u001b[39;49;00m\u001b[43m)\u001b[49m\n",
      "\u001b[1;31mKeyboardInterrupt\u001b[0m: "
     ]
    }
   ],
   "source": [
    "#definimos 2 listas en las que almacenaremos los valores de accuracy y loss de cada época para poder graficarlo posteriormente\n",
    "acc_graph = []\n",
    "loss_graph = []\n",
    "#para entrenar el modelo vamos a iterar el número de épocas determinadas, calculando el valor de loss y accuracy para cada época\n",
    "for epoch in range(epocas):\n",
    "    #establecemos el número de predicciones correctas inicial a 0\n",
    "    correct = 0\n",
    "    total = 0\n",
    "    #y cargamos las imágenes de entrenamiento y sus etiquetas usando la estructura Loader previamente creada\n",
    "    for i, data in enumerate(train_loader):\n",
    "        inputs, labels = data\n",
    "        #establecemos a 0 los parámetros del modelo\n",
    "        optimizer.zero_grad()\n",
    "        #generamos las predicciones de los inputs\n",
    "        outputs = ghosh(inputs)\n",
    "        #calculamos el loss, la desviación de las predicciones con respecto a las etiquetas\n",
    "        loss = criterion(outputs, labels)\n",
    "        #propagamos hacia atrás el valor loss\n",
    "        loss.backward()\n",
    "        #y modificamos los pesos en función del loss y la función optimizer\n",
    "        optimizer.step()\n",
    "        #actualizamos el número de predicciones correctas\n",
    "        _, predicted = torch.max(outputs.data, 1)\n",
    "        total += labels.size(0)\n",
    "        correct += (predicted == labels).sum().item()\n",
    "    \n",
    "    #una vez finalizada la época (que recorre todo el conjunto de imágenes) mostramos el valor del loss y del accuracy\n",
    "    print(f'Época {epoch +1}/{epocas} - Accuracy: {correct/len(OCT)} - Loss: {loss.data.item()}')\n",
    "    #añadimos los valores a la lista correspondiente\n",
    "    loss_graph.append(loss.data.item())\n",
    "    acc_graph.append(correct/len(OCT))"
   ]
  },
  {
   "cell_type": "code",
   "execution_count": 72,
   "id": "641de7fc",
   "metadata": {},
   "outputs": [
    {
     "data": {
      "image/png": "[encoded data removed]",
      "text/plain": [
       "<Figure size 720x504 with 1 Axes>"
      ]
     },
     "metadata": {
      "needs_background": "light"
     },
     "output_type": "display_data"
    }
   ],
   "source": [
    "#a continuación mostramos la evolución temporal del accuracy\n",
    "plt.figure(figsize = (10,7))\n",
    "plt.title('Evolución del Accuracy')\n",
    "plt.xlabel('Nº Época')\n",
    "plt.ylabel('Accuracy')\n",
    "plt.plot(range(1,epocas+1),acc_graph, linewidth = 3)\n",
    "plt.show()"
   ]
  },
  {
   "cell_type": "code",
   "execution_count": 73,
   "id": "c24e1025",
   "metadata": {},
   "outputs": [
    {
     "data": {
      "image/png": "[encoded data removed]",
      "text/plain": [
       "<Figure size 720x504 with 1 Axes>"
      ]
     },
     "metadata": {
      "needs_background": "light"
     },
     "output_type": "display_data"
    }
   ],
   "source": [
    "#a continuación mostramos la evolución temporal del loss\n",
    "plt.figure(figsize = (10,7))\n",
    "plt.title('Evolución del Loss')\n",
    "plt.xlabel('Nº Época')\n",
    "plt.ylabel('Loss')\n",
    "plt.plot(range(1,epocas+1),loss_graph, color='orange', linewidth = 3)\n",
    "plt.show()"
   ]
  },
  {
   "cell_type": "code",
   "execution_count": 49,
   "id": "594eac58",
   "metadata": {},
   "outputs": [],
   "source": [
    "#por último solo debemos generar las predicciones a partir de la red entrenada\n",
    "#creamos 2 listas para almacenar las etiquetas reales y las etiquetas predichas y así poder calcular las métricas\n",
    "y_true_iphone = []\n",
    "y_pred_iphone = []\n",
    "#creamos una para almacenar también la salida del modelo, para posteriormente poder calcular AUC\n",
    "predictions = []\n",
    "#y definimos una función para convertir esa salida a forma de probabilidad (usando Softmax como en la arquitectura de Ghosh)\n",
    "m = nn.Softmax(dim=1)\n",
    "#es importante activar torch.no_grad() para que la red no entrene al pasarle el conjunto de test, no varíen los pesos\n",
    "with torch.no_grad():\n",
    "    #recorremos el conjunto de imágenes de test de iPhone\n",
    "    for data in test_i_loader:\n",
    "        images, labels = data #cargamos las imágenes y las etiquetas del dataloader\n",
    "        outputs = ghosh(images) #obtenemos las predicciones\n",
    "        predictions.append(m(outputs).numpy()) #las convertimos a probabilidad mediante Softmax \n",
    "        _, predicted = torch.max(outputs.data,1) #y obtenemos las etiquetas o labels predichas a partir de la probabilidad\n",
    "        y_pred_iphone.append(predicted.numpy()) #añadimos la predicción a la lista de predicciones\n",
    "        y_true_iphone.append(labels.numpy()) #y añadimos la etiqueta real a la lista de etiquetas reales\n",
    "#convertimos los datos a formato np.array de una única dimensión        \n",
    "y_true_iphone = np.concatenate(y_true_iphone)\n",
    "y_pred_iphone = np.concatenate(y_pred_iphone)\n",
    "predictions = np.concatenate(predictions)"
   ]
  },
  {
   "cell_type": "code",
   "execution_count": 50,
   "id": "db63ca67",
   "metadata": {},
   "outputs": [
    {
     "name": "stdout",
     "output_type": "stream",
     "text": [
      "AxesSubplot(0.125,0.125;0.775x0.755)\n",
      "El valor de accuracy del modelo con imágenes de iphone es: 0.29292929292929293\n",
      "El valor de balanced accuracy del modelo con imágenes de iphone es: 0.23053613053613056\n",
      "El valor de F-score del modelo con imágenes de iphone es: 0.22687068544735134\n",
      "El valor de Kappa del modelo con imágenes de iphone es: 0.05003427004797811\n",
      "El valor de AUC del modelo con imágenes de iphone es: 0.5211514157400863\n"
     ]
    },
    {
     "data": {
      "image/png": "[encoded data removed]",
      "text/plain": [
       "<Figure size 432x288 with 1 Axes>"
      ]
     },
     "metadata": {
      "needs_background": "light"
     },
     "output_type": "display_data"
    }
   ],
   "source": [
    "#a partir de las predicciones y las labels reales podemos calcular las métricas deseadas\n",
    "#primero la matriz de confusión\n",
    "matrix_iphone = confusion_matrix(y_true_iphone, y_pred_iphone)\n",
    "#usamos el paquete seaborn para mostrar de manera más visual la matriz de confusión\n",
    "plot = sns.heatmap(matrix_iphone, annot = True, cmap = 'Reds', cbar = False)\n",
    "#establecemos título\n",
    "plot.set_title('Matriz de confusión - iPhone\\n')\n",
    "#título de cada eje\n",
    "plot.set_xlabel('\\nGrado Iphone')\n",
    "plot.set_ylabel('Grado real\\n')\n",
    "#y el significado de cada fila y columna de la matriz\n",
    "plot.xaxis.set_ticklabels(['Grado1','Grado2','Grado3','Grado4','Grado5'])\n",
    "plot.yaxis.set_ticklabels(['Grado1','Grado2','Grado3','Grado4','Grado5'])\n",
    "print(plot)\n",
    "\n",
    "#calculamos el valor de accuracy\n",
    "accuracy_iphone = accuracy_score(y_true = y_true_iphone, y_pred = y_pred_iphone)\n",
    "print(f'El valor de accuracy del modelo con imágenes de iphone es: {accuracy_iphone}')\n",
    "#el balanced accuracy\n",
    "bal_acc_iphone = balanced_accuracy_score(y_true = y_true_iphone, y_pred = y_pred_iphone)\n",
    "print(f'El valor de balanced accuracy del modelo con imágenes de iphone es: {bal_acc_iphone}')\n",
    "#el F-score\n",
    "f_score_iphone = f1_score(y_true = y_true_iphone, y_pred = y_pred_iphone,average = 'weighted')\n",
    "print(f'El valor de F-score del modelo con imágenes de iphone es: {f_score_iphone}')\n",
    "#calculamos el valor de quadratic weighted kappa\n",
    "kappa_iphone = cohen_kappa_score(y1 = y_true_iphone, y2 = y_pred_iphone)\n",
    "print(f'El valor de Kappa del modelo con imágenes de iphone es: {kappa_iphone}')\n",
    "#y por último calculamos el valor de AUC bajo la curva ROC\n",
    "auc_iphone = roc_auc_score(y_true = y_true_iphone, y_score = predictions, multi_class = 'ovr')\n",
    "print(f'El valor de AUC del modelo con imágenes de iphone es: {auc_iphone}')"
   ]
  },
  {
   "cell_type": "code",
   "execution_count": 51,
   "id": "2ebf2453",
   "metadata": {},
   "outputs": [],
   "source": [
    "#realizamos el mismo proceso para las imágenes de Samsung\n",
    "#creamos 2 listas para almacenar las etiquetas reales y las etiquetas predichas y así poder calcular las métricas\n",
    "y_true_samsung = []\n",
    "y_pred_samsung = []\n",
    "#creamos una para almacenar también la salida del modelo, para posteriormente poder calcular AUC\n",
    "predictions = []\n",
    "#y definimos una función para convertir esa salida a forma de probabilidad (usando Softmax)\n",
    "m = nn.Softmax(dim=1)\n",
    "#es importante activar torch.no_grad() para que la red no entrene al pasarle el conjunto de test, no varíen los pesos\n",
    "with torch.no_grad():\n",
    "    #recorremos el conjunto de imágenes de test de Samsung en este caso \n",
    "    for data in test_S_loader:\n",
    "        images, labels = data #cargamos las imágenes y las etiquetas del dataloader\n",
    "        outputs = ghosh(images) #obtenemos las predicciones\n",
    "        predictions.append(m(outputs).numpy()) #las convertimos a probabilidad mediante Softmax \n",
    "        _, predicted = torch.max(outputs.data,1) #y obtenemos las etiquetas o labels predichas a partir de la probabilidad\n",
    "        y_pred_samsung.append(predicted.numpy()) #añadimos la predicción a la lista de predicciones\n",
    "        y_true_samsung.append(labels.numpy()) #y añadimos la etiqueta real a la lista de etiquetas reales\n",
    "#convertimos los datos a formato np.array de una única dimensión \n",
    "y_true_samsung = np.concatenate(y_true_samsung)\n",
    "y_pred_samsung = np.concatenate(y_pred_samsung)\n",
    "predictions = np.concatenate(predictions)"
   ]
  },
  {
   "cell_type": "code",
   "execution_count": 52,
   "id": "7cc25caa",
   "metadata": {},
   "outputs": [
    {
     "name": "stdout",
     "output_type": "stream",
     "text": [
      "AxesSubplot(0.125,0.125;0.775x0.755)\n",
      "El valor de accuracy del modelo con imágenes de samsung es: 0.25806451612903225\n",
      "El valor de balanced accuracy del modelo con imágenes de samsung es: 0.17327659574468085\n",
      "El valor de F-score del modelo con imágenes de samsung es: 0.18637992831541222\n",
      "El valor de Kappa del modelo con imágenes de samsung es: -0.04460361386944478\n",
      "El valor de AUC del modelo con imágenes de samsung es: 0.5275870390413006\n"
     ]
    },
    {
     "data": {
      "image/png": "[encoded data removed]",
      "text/plain": [
       "<Figure size 432x288 with 1 Axes>"
      ]
     },
     "metadata": {
      "needs_background": "light"
     },
     "output_type": "display_data"
    }
   ],
   "source": [
    "#a partir de las predicciones y las labels reales podemos calcular las métricas deseadas\n",
    "matrix_samsung = confusion_matrix(y_true_samsung, y_pred_samsung)\n",
    "plot = sns.heatmap(matrix_samsung, annot = True, cmap = 'Reds', cbar = False)\n",
    "#establecemos título\n",
    "plot.set_title('Matriz de confusión - Samsung\\n')\n",
    "#título de cada eje\n",
    "plot.set_xlabel('\\nGrado Samsung')\n",
    "plot.set_ylabel('Grado real\\n')\n",
    "#y el significado de cada fila y columna de la matriz\n",
    "plot.xaxis.set_ticklabels(['Grado1','Grado2','Grado3','Grado4','Grado5'])\n",
    "plot.yaxis.set_ticklabels(['Grado1','Grado2','Grado3','Grado4','Grado5'])\n",
    "print(plot)\n",
    "\n",
    "#calculamos el valor de accuracy\n",
    "accuracy_samsung = accuracy_score(y_true = y_true_samsung, y_pred = y_pred_samsung)\n",
    "print(f'El valor de accuracy del modelo con imágenes de samsung es: {accuracy_samsung}')\n",
    "#el balanced accuracy\n",
    "bal_acc_samsung = balanced_accuracy_score(y_true = y_true_samsung, y_pred = y_pred_samsung)\n",
    "print(f'El valor de balanced accuracy del modelo con imágenes de samsung es: {bal_acc_samsung}')\n",
    "#el F-score\n",
    "f_score_samsung = f1_score(y_true = y_true_samsung, y_pred = y_pred_samsung,average = 'weighted')\n",
    "print(f'El valor de F-score del modelo con imágenes de samsung es: {f_score_samsung}')\n",
    "#calculamos el valor de quadratic weighted kappa\n",
    "kappa_samsung = cohen_kappa_score(y1 = y_true_samsung, y2 = y_pred_samsung)\n",
    "print(f'El valor de Kappa del modelo con imágenes de samsung es: {kappa_samsung}')\n",
    "#y por último calculamos el valor de AUC bajo la curva ROC\n",
    "auc_samsung = roc_auc_score(y_true = y_true_samsung, y_score = predictions, multi_class = 'ovr')\n",
    "print(f'El valor de AUC del modelo con imágenes de samsung es: {auc_samsung}')"
   ]
  },
  {
   "cell_type": "code",
   "execution_count": 3,
   "id": "72fa636f",
   "metadata": {},
   "outputs": [],
   "source": [
    "#una vez finalizado la construcción del modelo basado en Ghosh repetimos el proceso pero en este caso siguiendo la arquitectura planteada por Mobeen-ur-Rehman"
   ]
  },
  {
   "cell_type": "code",
   "execution_count": 4,
   "id": "61b494d0",
   "metadata": {},
   "outputs": [],
   "source": [
    "#debido a que en esta arquitectura no se especifica un tamaño de escala en particular, el valor se mantendrá sin modificar\n",
    "#procedo directamente a definir la arquitectura"
   ]
  },
  {
   "cell_type": "code",
   "execution_count": null,
   "id": "d678ecee",
   "metadata": {},
   "outputs": [],
   "source": [
    "#ARQUITECTURA DEFINIDA POR MOBEEN-UR-REHMAN\n",
    "class Mobeen(nn.Module):\n",
    "    \n",
    "    def __init__(self):\n",
    "        super(Mobeen,self).__init__()\n",
    "        "
   ]
  }
 ],
 "metadata": {
  "kernelspec": {
   "display_name": "Python 3 (ipykernel)",
   "language": "python",
   "name": "python3"
  },
  "language_info": {
   "codemirror_mode": {
    "name": "ipython",
    "version": 3
   },
   "file_extension": ".py",
   "mimetype": "text/x-python",
   "name": "python",
   "nbconvert_exporter": "python",
   "pygments_lexer": "ipython3",
   "version": "3.9.12"
  }
 },
 "nbformat": 4,
 "nbformat_minor": 5
}
