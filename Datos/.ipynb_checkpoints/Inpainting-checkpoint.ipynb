{
 "cells": [
  {
   "cell_type": "code",
   "execution_count": 5,
   "id": "71623a62",
   "metadata": {},
   "outputs": [],
   "source": [
    "#primero importamos los paquetes necesarios\n",
    "import os\n",
    "import skimage\n",
    "import numpy as np\n",
    "import cv2\n",
    "import matplotlib\n",
    "import pyinpaint\n",
    "\n",
    "from skimage import io\n",
    "from matplotlib import pyplot as plt\n",
    "from skimage import color\n",
    "from pyinpaint import Inpaint\n",
    "from skimage.restoration import inpaint"
   ]
  },
  {
   "cell_type": "markdown",
   "id": "4731d595",
   "metadata": {},
   "source": [
    "## DESARROLLO DE CÓDIGO PARA DETECTAR EL FLASH MEDIANTE IDENTIFICACIÓN DE CÍRCULOS"
   ]
  },
  {
   "cell_type": "code",
   "execution_count": 2,
   "id": "c0621276",
   "metadata": {},
   "outputs": [
    {
     "data": {
      "image/png": "[encoded data removed]",
      "text/plain": [
       "<Figure size 720x720 with 1 Axes>"
      ]
     },
     "metadata": {
      "needs_background": "light"
     },
     "output_type": "display_data"
    }
   ],
   "source": [
    "img = io.imread('Classified Data/Images/iPhone/G3/489959EI.png')\n",
    "  \n",
    "# Convert to grayscale.\n",
    "gray = cv2.cvtColor(img, cv2.COLOR_BGR2GRAY)\n",
    "  \n",
    "# Blur using 3 * 3 kernel.\n",
    "gray_blurred = cv2.blur(gray, (3, 3))\n",
    "  \n",
    "# Apply Hough transform on the blurred image.\n",
    "detected_circles = cv2.HoughCircles(\n",
    "    gray_blurred,\n",
    "    cv2.HOUGH_GRADIENT,\n",
    "    2.2,\n",
    "    20,\n",
    "    param1 = 50,\n",
    "    param2 = 30,\n",
    "    minRadius = 1,\n",
    "    maxRadius = int(img.shape[0]/53)\n",
    ")\n",
    "\n",
    "mask = np.zeros((img.shape[0], img.shape[1]), dtype = 'uint8')\n",
    "\n",
    "if detected_circles is not None:\n",
    "    detected_circles = np.uint16(np.around(detected_circles))\n",
    "        \n",
    "    nuevos = []\n",
    "    for i in detected_circles[0]:\n",
    "        if 11*(img.shape[1]/30)<i[1]<18*(img.shape[1]/30) and 13*(img.shape[0]/30)<i[0]<17*(img.shape[0]/30):\n",
    "            nuevos.append(i)\n",
    "\n",
    "    s = np.linspace(0, 2*np.pi, 400)\n",
    "    fig = plt.figure(figsize = (10,10))\n",
    "    plt.imshow(mask, cmap = 'gray')\n",
    "    plt.axis('off')\n",
    "\n",
    "    #lo multiplico por 3 para tratar de hacer la máscara más grande y ver si así obtengo mejores resultados\n",
    "    #si queremos obtener una mácara real, se puede eliminar ese factor 1.75\n",
    "    for i in nuevos:\n",
    "        comp_x = i[0] + (3*i[2])*np.cos(s)\n",
    "        comp_y = i[1] + (3*i[2])*np.sin(s)\n",
    "        circle = np.array([comp_y, comp_x]).T\n",
    "        \n",
    "        plt.fill(circle[:,1], circle[:,0],'white',1)"
   ]
  },
  {
   "cell_type": "code",
   "execution_count": 3,
   "id": "9e4e595a",
   "metadata": {
    "scrolled": false
   },
   "outputs": [],
   "source": [
    "fig.tight_layout(pad=0)\n",
    "fig.canvas.draw()\n",
    "\n",
    "# Now we can save it to a numpy array.\n",
    "data = np.frombuffer(fig.canvas.tostring_rgb(), dtype=np.uint8)\n",
    "data = data.reshape(fig.canvas.get_width_height()[::-1] + (3,))\n",
    "\n",
    "mascara = cv2.resize(data, dsize=(img.shape[1], img.shape[0]), interpolation=cv2.INTER_CUBIC)\n",
    "mascara = color.rgb2gray(mascara).astype('uint8')"
   ]
  },
  {
   "cell_type": "markdown",
   "id": "55b1c458",
   "metadata": {},
   "source": [
    "## INPAINTING USANDO ESTAS MÁSCARAS"
   ]
  },
  {
   "cell_type": "code",
   "execution_count": 4,
   "id": "20453af0",
   "metadata": {
    "scrolled": false
   },
   "outputs": [
    {
     "name": "stderr",
     "output_type": "stream",
     "text": [
      "C:\\Users\\samue\\AppData\\Local\\Temp\\ipykernel_12660\\1106700315.py:1: FutureWarning: `multichannel` is a deprecated argument name for `inpaint_biharmonic`. It will be removed in version 1.0. Please use `channel_axis` instead.\n",
      "  img_inp = inpaint.inpaint_biharmonic(img, mascara, multichannel = True, channel_axis=-1)\n"
     ]
    }
   ],
   "source": [
    "img_inp = inpaint.inpaint_biharmonic(img, mascara, multichannel = True, channel_axis=-1)"
   ]
  },
  {
   "cell_type": "markdown",
   "id": "0a4a738b",
   "metadata": {},
   "source": [
    "## INPAINTING DE IMÁGENES ALEATORIAS PARA LA EVALUACIÓN"
   ]
  },
  {
   "cell_type": "code",
   "execution_count": 5,
   "id": "71ad474a",
   "metadata": {},
   "outputs": [],
   "source": [
    "def inpaint(nombre, dispositivo, grado):\n",
    "    source = 'Classified Data/Images/' + dispositivo + '/' + grado + '/' + nombre\n",
    "    img = io.imread(source)\n",
    "  \n",
    "    # Convert to grayscale.\n",
    "    gray = cv2.cvtColor(img, cv2.COLOR_BGR2GRAY)\n",
    "\n",
    "    # Blur using 3 * 3 kernel.\n",
    "    gray_blurred = cv2.blur(gray, (3, 3))\n",
    "\n",
    "    # Apply Hough transform on the blurred image.\n",
    "    detected_circles = cv2.HoughCircles(\n",
    "        gray_blurred,\n",
    "        cv2.HOUGH_GRADIENT,\n",
    "        2.2,\n",
    "        20,\n",
    "        param1 = 50,\n",
    "        param2 = 30,\n",
    "        minRadius = 1,\n",
    "        maxRadius = int(img.shape[0]/53)\n",
    "    )\n",
    "\n",
    "    mask = np.zeros((img.shape[0], img.shape[1]), dtype = 'uint8')\n",
    "\n",
    "    if detected_circles is not None:\n",
    "        detected_circles = np.uint16(np.around(detected_circles))\n",
    "\n",
    "        nuevos = []\n",
    "        for i in detected_circles[0]:\n",
    "            if 11*(img.shape[1]/30)<i[1]<18*(img.shape[1]/30) and 13*(img.shape[0]/30)<i[0]<17*(img.shape[0]/30):\n",
    "                nuevos.append(i)\n",
    "\n",
    "        s = np.linspace(0, 2*np.pi, 400)\n",
    "        fig = plt.figure(figsize = (10,10))\n",
    "        plt.imshow(mask, cmap = 'gray')\n",
    "        plt.axis('off')\n",
    "\n",
    "        #lo multiplico por 3 para tratar de hacer la máscara más grande y así obtener mejores resultados del inpainting\n",
    "        #si queremos obtener una mácara real, se puede eliminar ese factor 3\n",
    "        for i in nuevos:\n",
    "            comp_x = i[0] + (3*i[2])*np.cos(s)\n",
    "            comp_y = i[1] + (3*i[2])*np.sin(s)\n",
    "            circle = np.array([comp_y, comp_x]).T\n",
    "\n",
    "            plt.fill(circle[:,1], circle[:,0],'white',1)\n",
    "            \n",
    "    \n",
    "    fig.tight_layout(pad=0)\n",
    "    fig.canvas.draw()\n",
    "\n",
    "    # Now we can save it to a numpy array.\n",
    "    data = np.frombuffer(fig.canvas.tostring_rgb(), dtype=np.uint8)\n",
    "    data = data.reshape(fig.canvas.get_width_height()[::-1] + (3,))\n",
    "\n",
    "    mascara = cv2.resize(data, dsize=(img.shape[1], img.shape[0]), interpolation=cv2.INTER_CUBIC)\n",
    "    mascara = color.rgb2gray(mascara).astype('uint8')\n",
    "    \n",
    "    img_inp = inpaint.inpaint_biharmonic(img, mascara, multichannel = True, channel_axis=-1)\n",
    "\n",
    "    fig = plt.figure(figsize = (20,20))\n",
    "\n",
    "    fig.add_subplot(1,2,1)\n",
    "    plt.imshow(img)\n",
    "    plt.axis('off')\n",
    "    plt.title(\"Imagen original\")\n",
    "\n",
    "    fig.add_subplot(1,2,2)\n",
    "    plt.imshow(img_inp)\n",
    "    plt.axis('off')\n",
    "    plt.title(\"Imagen con inpainting\")\n",
    "    \n",
    "    ruta2 = 'INP_auto/' + dispositivo + '/' + grado + '/' + nombre + '_comparacion.png'\n",
    "    plt.savefig(ruta2, bbox_inches = 'tight', pad_inches = 0) "
   ]
  }
 ],
 "metadata": {
  "kernelspec": {
   "display_name": "Python 3 (ipykernel)",
   "language": "python",
   "name": "python3"
  },
  "language_info": {
   "codemirror_mode": {
    "name": "ipython",
    "version": 3
   },
   "file_extension": ".py",
   "mimetype": "text/x-python",
   "name": "python",
   "nbconvert_exporter": "python",
   "pygments_lexer": "ipython3",
   "version": "3.9.12"
  }
 },
 "nbformat": 4,
 "nbformat_minor": 5
}
