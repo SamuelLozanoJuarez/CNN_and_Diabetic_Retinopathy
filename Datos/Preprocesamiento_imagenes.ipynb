{
 "cells": [
  {
   "cell_type": "code",
   "execution_count": 1,
   "id": "47fb0079",
   "metadata": {},
   "outputs": [],
   "source": [
    "#importamos los paquetes necesarios\n",
    "import cv2\n",
    "import PIL\n",
    "import numpy as np\n",
    "import os\n",
    "\n",
    "from PIL import Image"
   ]
  },
  {
   "cell_type": "code",
   "execution_count": 2,
   "id": "2ffa0aa4",
   "metadata": {},
   "outputs": [],
   "source": [
    "#definimos la función encargada de recortar la imagen y ajustarla a los bordes\n",
    "def crop_image_from_gray(img, tol=7):\n",
    "    '''\n",
    "    Recorta una imagen (de fondo de ojo) para ajustarla a los bordesy eliminar el espacio de fondo sobrante. Además transforma la imagen a escala de grises.\n",
    "    \n",
    "    Parámetros\n",
    "    -----------------------------------\n",
    "    img: se trata de la imagen sobre la cual se desea aplicar la transformación. Puede ser un array de Numpy.\n",
    "    tol: número entero que representa el valor mínimo que ha de tener un píxel de la imagen para no ser considerado como fondo a la hora de realizar la máscara.\n",
    "    \n",
    "    Return\n",
    "    -----------------------------------\n",
    "    Devuelve en todos los casos la imagen pasada como parámetro pero ya recortada y procesada (blanco y negro)\n",
    "    '''\n",
    "    #Verifica la dimensionalidad de la imagen de entrada, si es dos (blanco y negro):\n",
    "    if img.ndim == 2:\n",
    "        #Crea una máscara con los píxeles de la imagen que superan la tolerancia pasada como parámetro (para eliminar el fondo)\n",
    "        mask = img > tol\n",
    "        #Recorta la imagen utilizando la máscara y la devuelve\n",
    "        return img[np.ix_(mask.any(1), mask.any(0))]\n",
    "    #Si la imagen tiene tres dimensiones (RGB)\n",
    "    elif img.ndim == 3:\n",
    "        #Convierte la imagen a escala de grises utilizando cv2\n",
    "        gray_img = cv2.cvtColor(img, cv2.COLOR_RGB2GRAY)\n",
    "        #Crea una máscara con los píxeles de la imagen en escala de grises que superan la tolerancia (para eliminar el fondo)\n",
    "        mask = gray_img > tol\n",
    "        \n",
    "        #Verifica si la forma de la imagen recortada es válida\n",
    "        check_shape = img[:,:,0][np.ix_(mask.any(1),mask.any(0))].shape[0]\n",
    "        #Si la forma no es válida, devuelve la imagen sin recortar\n",
    "        if (check_shape == 0):\n",
    "            return img\n",
    "        #Si la forma es válida\n",
    "        else:\n",
    "            #Recorta cada canal de la imagen utilizando la máscara\n",
    "            img1 = img[:,:,0][np.ix_(mask.any(1),mask.any(0))]\n",
    "            img2 = img[:,:,1][np.ix_(mask.any(1),mask.any(0))]\n",
    "            img3 = img[:,:,2][np.ix_(mask.any(1),mask.any(0))]\n",
    "            # Une los canales recortados en una sola imagen\n",
    "            img = np.stack([img1,img2,img3],axis=-1)\n",
    "        # Devuelve la imagen recortada\n",
    "        return img"
   ]
  },
  {
   "cell_type": "code",
   "execution_count": 3,
   "id": "7df8ad86",
   "metadata": {},
   "outputs": [],
   "source": [
    "def circle_crop(img, sigmaX):   \n",
    "    \"\"\"\n",
    "    Create circular crop around image centre    \n",
    "    \"\"\"    \n",
    "    img = crop_image_from_gray(img)    \n",
    "    img = cv2.cvtColor(img, cv2.COLOR_BGR2RGB)\n",
    "    \n",
    "    height, width, depth = img.shape    \n",
    "    \n",
    "    x = int(width/2)\n",
    "    y = int(height/2)\n",
    "    r = np.amin((x,y))\n",
    "    \n",
    "    circle_img = np.zeros((height, width), np.uint8)\n",
    "    cv2.circle(circle_img, (x,y), int(r), 1, thickness=-1)\n",
    "    img = cv2.bitwise_and(img, img, mask=circle_img)\n",
    "    img = crop_image_from_gray(img)\n",
    "    img=cv2.addWeighted(img,4, cv2.GaussianBlur( img , (0,0) , sigmaX) ,-4 ,128)\n",
    "    return img "
   ]
  }
 ],
 "metadata": {
  "kernelspec": {
   "display_name": "Python 3 (ipykernel)",
   "language": "python",
   "name": "python3"
  },
  "language_info": {
   "codemirror_mode": {
    "name": "ipython",
    "version": 3
   },
   "file_extension": ".py",
   "mimetype": "text/x-python",
   "name": "python",
   "nbconvert_exporter": "python",
   "pygments_lexer": "ipython3",
   "version": "3.9.12"
  }
 },
 "nbformat": 4,
 "nbformat_minor": 5
}
